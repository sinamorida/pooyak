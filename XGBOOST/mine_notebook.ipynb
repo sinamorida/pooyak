{
 "cells": [
  {
   "cell_type": "code",
   "execution_count": 1,
   "id": "ace66624",
   "metadata": {},
   "outputs": [],
   "source": [
    "import numpy as np\n",
    "import pandas as pd\n",
    "import time "
   ]
  },
  {
   "cell_type": "code",
   "execution_count": 2,
   "id": "51e41e8e",
   "metadata": {},
   "outputs": [],
   "source": [
    "meta_data = pd.read_json(\"bws-short-term-forecasting-main/db-init/data/example_pm_meta.json\")"
   ]
  },
  {
   "cell_type": "code",
   "execution_count": 3,
   "id": "55abcef6",
   "metadata": {},
   "outputs": [
    {
     "data": {
      "application/vnd.microsoft.datawrangler.viewer.v0+json": {
       "columns": [
        {
         "name": "index",
         "rawType": "int64",
         "type": "integer"
        },
        {
         "name": "_id",
         "rawType": "object",
         "type": "string"
        },
        {
         "name": "id",
         "rawType": "object",
         "type": "string"
        },
        {
         "name": "date",
         "rawType": "datetime64[ns]",
         "type": "datetime"
        },
        {
         "name": "category",
         "rawType": "object",
         "type": "string"
        },
        {
         "name": "description",
         "rawType": "object",
         "type": "string"
        },
        {
         "name": "address",
         "rawType": "object",
         "type": "unknown"
        },
        {
         "name": "type",
         "rawType": "object",
         "type": "string"
        }
       ],
       "conversionMethod": "pd.DataFrame",
       "ref": "63991a7f-264b-41ef-a1a9-1a5419238524",
       "rows": [
        [
         "0",
         "urn:ngsi-ld:Device:family-household",
         "urn:ngsi-ld:Device:family-household",
         "2023-05-01 12:44:25.073010",
         "Meter",
         "Smart meter to measure water flow.",
         "{'addressCountry': 'DE', 'addressLocality': 'Bremen', 'streetAddress': 'Am Wall 201'}",
         "Device"
        ],
        [
         "1",
         "urn:ngsi-ld:Device:retired-household",
         "urn:ngsi-ld:Device:retired-household",
         "2023-05-01 12:44:25.073010",
         "Meter",
         "Smart meter to measure water flow.",
         "{'addressCountry': 'DE', 'addressLocality': 'Bremen', 'streetAddress': 'Hutfiltern 22'}",
         "Device"
        ],
        [
         "2",
         "urn:ngsi-ld:Device:single-household",
         "urn:ngsi-ld:Device:single-household",
         "2023-05-01 12:44:25.073010",
         "Meter",
         "Smart meter to measure water flow.",
         "{'addressCountry': 'DE', 'addressLocality': 'Bremen', 'streetAddress': 'Friedrich-Ebert-Straße 10'}",
         "Device"
        ],
        [
         "3",
         "urn:ngsi-ld:Device:atypical-household",
         "urn:ngsi-ld:Device:atypical-household",
         "2023-05-01 12:44:25.073010",
         "Meter",
         "Smart meter to measure water flow.",
         "{'addressCountry': 'DE', 'addressLocality': 'Bremen', 'streetAddress': 'Obernstraße 1'}",
         "Device"
        ]
       ],
       "shape": {
        "columns": 7,
        "rows": 4
       }
      },
      "text/html": [
       "<div>\n",
       "<style scoped>\n",
       "    .dataframe tbody tr th:only-of-type {\n",
       "        vertical-align: middle;\n",
       "    }\n",
       "\n",
       "    .dataframe tbody tr th {\n",
       "        vertical-align: top;\n",
       "    }\n",
       "\n",
       "    .dataframe thead th {\n",
       "        text-align: right;\n",
       "    }\n",
       "</style>\n",
       "<table border=\"1\" class=\"dataframe\">\n",
       "  <thead>\n",
       "    <tr style=\"text-align: right;\">\n",
       "      <th></th>\n",
       "      <th>_id</th>\n",
       "      <th>id</th>\n",
       "      <th>date</th>\n",
       "      <th>category</th>\n",
       "      <th>description</th>\n",
       "      <th>address</th>\n",
       "      <th>type</th>\n",
       "    </tr>\n",
       "  </thead>\n",
       "  <tbody>\n",
       "    <tr>\n",
       "      <th>0</th>\n",
       "      <td>urn:ngsi-ld:Device:family-household</td>\n",
       "      <td>urn:ngsi-ld:Device:family-household</td>\n",
       "      <td>2023-05-01 12:44:25.073010</td>\n",
       "      <td>Meter</td>\n",
       "      <td>Smart meter to measure water flow.</td>\n",
       "      <td>{'addressCountry': 'DE', 'addressLocality': 'B...</td>\n",
       "      <td>Device</td>\n",
       "    </tr>\n",
       "    <tr>\n",
       "      <th>1</th>\n",
       "      <td>urn:ngsi-ld:Device:retired-household</td>\n",
       "      <td>urn:ngsi-ld:Device:retired-household</td>\n",
       "      <td>2023-05-01 12:44:25.073010</td>\n",
       "      <td>Meter</td>\n",
       "      <td>Smart meter to measure water flow.</td>\n",
       "      <td>{'addressCountry': 'DE', 'addressLocality': 'B...</td>\n",
       "      <td>Device</td>\n",
       "    </tr>\n",
       "    <tr>\n",
       "      <th>2</th>\n",
       "      <td>urn:ngsi-ld:Device:single-household</td>\n",
       "      <td>urn:ngsi-ld:Device:single-household</td>\n",
       "      <td>2023-05-01 12:44:25.073010</td>\n",
       "      <td>Meter</td>\n",
       "      <td>Smart meter to measure water flow.</td>\n",
       "      <td>{'addressCountry': 'DE', 'addressLocality': 'B...</td>\n",
       "      <td>Device</td>\n",
       "    </tr>\n",
       "    <tr>\n",
       "      <th>3</th>\n",
       "      <td>urn:ngsi-ld:Device:atypical-household</td>\n",
       "      <td>urn:ngsi-ld:Device:atypical-household</td>\n",
       "      <td>2023-05-01 12:44:25.073010</td>\n",
       "      <td>Meter</td>\n",
       "      <td>Smart meter to measure water flow.</td>\n",
       "      <td>{'addressCountry': 'DE', 'addressLocality': 'B...</td>\n",
       "      <td>Device</td>\n",
       "    </tr>\n",
       "  </tbody>\n",
       "</table>\n",
       "</div>"
      ],
      "text/plain": [
       "                                     _id  \\\n",
       "0    urn:ngsi-ld:Device:family-household   \n",
       "1   urn:ngsi-ld:Device:retired-household   \n",
       "2    urn:ngsi-ld:Device:single-household   \n",
       "3  urn:ngsi-ld:Device:atypical-household   \n",
       "\n",
       "                                      id                       date category  \\\n",
       "0    urn:ngsi-ld:Device:family-household 2023-05-01 12:44:25.073010    Meter   \n",
       "1   urn:ngsi-ld:Device:retired-household 2023-05-01 12:44:25.073010    Meter   \n",
       "2    urn:ngsi-ld:Device:single-household 2023-05-01 12:44:25.073010    Meter   \n",
       "3  urn:ngsi-ld:Device:atypical-household 2023-05-01 12:44:25.073010    Meter   \n",
       "\n",
       "                          description  \\\n",
       "0  Smart meter to measure water flow.   \n",
       "1  Smart meter to measure water flow.   \n",
       "2  Smart meter to measure water flow.   \n",
       "3  Smart meter to measure water flow.   \n",
       "\n",
       "                                             address    type  \n",
       "0  {'addressCountry': 'DE', 'addressLocality': 'B...  Device  \n",
       "1  {'addressCountry': 'DE', 'addressLocality': 'B...  Device  \n",
       "2  {'addressCountry': 'DE', 'addressLocality': 'B...  Device  \n",
       "3  {'addressCountry': 'DE', 'addressLocality': 'B...  Device  "
      ]
     },
     "execution_count": 3,
     "metadata": {},
     "output_type": "execute_result"
    }
   ],
   "source": [
    "meta_data.head()"
   ]
  },
  {
   "cell_type": "code",
   "execution_count": 4,
   "id": "5641648d",
   "metadata": {},
   "outputs": [
    {
     "name": "stdout",
     "output_type": "stream",
     "text": [
      "<class 'pandas.core.frame.DataFrame'>\n",
      "RangeIndex: 4 entries, 0 to 3\n",
      "Data columns (total 7 columns):\n",
      " #   Column       Non-Null Count  Dtype         \n",
      "---  ------       --------------  -----         \n",
      " 0   _id          4 non-null      object        \n",
      " 1   id           4 non-null      object        \n",
      " 2   date         4 non-null      datetime64[ns]\n",
      " 3   category     4 non-null      object        \n",
      " 4   description  4 non-null      object        \n",
      " 5   address      4 non-null      object        \n",
      " 6   type         4 non-null      object        \n",
      "dtypes: datetime64[ns](1), object(6)\n",
      "memory usage: 356.0+ bytes\n"
     ]
    }
   ],
   "source": [
    "meta_data.info()"
   ]
  },
  {
   "cell_type": "code",
   "execution_count": 5,
   "id": "2dffc8eb",
   "metadata": {},
   "outputs": [],
   "source": [
    "data = pd.read_json(\"bws-short-term-forecasting-main/db-init/data/example_pm_measurements.json\")"
   ]
  },
  {
   "cell_type": "code",
   "execution_count": 6,
   "id": "6e5dfbc1",
   "metadata": {},
   "outputs": [
    {
     "name": "stdout",
     "output_type": "stream",
     "text": [
      "<class 'pandas.core.frame.DataFrame'>\n",
      "RangeIndex: 70084 entries, 0 to 70083\n",
      "Data columns (total 7 columns):\n",
      " #   Column        Non-Null Count  Dtype  \n",
      "---  ------        --------------  -----  \n",
      " 0   _id           70084 non-null  object \n",
      " 1   id            70084 non-null  object \n",
      " 2   dateObserved  70084 non-null  object \n",
      " 3   refDevice     70084 non-null  object \n",
      " 4   numValue      70084 non-null  float64\n",
      " 5   unit          70084 non-null  object \n",
      " 6   type          70084 non-null  object \n",
      "dtypes: float64(1), object(6)\n",
      "memory usage: 3.7+ MB\n"
     ]
    }
   ],
   "source": [
    "data.info()"
   ]
  },
  {
   "cell_type": "code",
   "execution_count": 7,
   "id": "0c56ea21",
   "metadata": {},
   "outputs": [
    {
     "data": {
      "application/vnd.microsoft.datawrangler.viewer.v0+json": {
       "columns": [
        {
         "name": "index",
         "rawType": "int64",
         "type": "integer"
        },
        {
         "name": "_id",
         "rawType": "object",
         "type": "string"
        },
        {
         "name": "id",
         "rawType": "object",
         "type": "string"
        },
        {
         "name": "dateObserved",
         "rawType": "object",
         "type": "string"
        },
        {
         "name": "refDevice",
         "rawType": "object",
         "type": "string"
        },
        {
         "name": "numValue",
         "rawType": "float64",
         "type": "float"
        },
        {
         "name": "unit",
         "rawType": "object",
         "type": "string"
        },
        {
         "name": "type",
         "rawType": "object",
         "type": "string"
        }
       ],
       "conversionMethod": "pd.DataFrame",
       "ref": "b386cef2-3f84-43b5-a822-95666f83a1d9",
       "rows": [
        [
         "0",
         "urn:ngsi-ld:Device:family-household:Measurement:2021-05-26T00:00:00",
         "urn:ngsi-ld:Device:family-household:Measurement:2021-05-26T00:00:00",
         "2021-05-26T00:00:00",
         "urn:ngsi-ld:Device:family-household",
         "0.41388418402439403",
         "MQH",
         "Measurement"
        ],
        [
         "1",
         "urn:ngsi-ld:Device:family-household:Measurement:2021-05-26T01:00:00",
         "urn:ngsi-ld:Device:family-household:Measurement:2021-05-26T01:00:00",
         "2021-05-26T01:00:00",
         "urn:ngsi-ld:Device:family-household",
         "0.31668725451569",
         "MQH",
         "Measurement"
        ],
        [
         "2",
         "urn:ngsi-ld:Device:family-household:Measurement:2021-05-26T02:00:00",
         "urn:ngsi-ld:Device:family-household:Measurement:2021-05-26T02:00:00",
         "2021-05-26T02:00:00",
         "urn:ngsi-ld:Device:family-household",
         "0.33916534178268004",
         "MQH",
         "Measurement"
        ],
        [
         "3",
         "urn:ngsi-ld:Device:family-household:Measurement:2021-05-26T03:00:00",
         "urn:ngsi-ld:Device:family-household:Measurement:2021-05-26T03:00:00",
         "2021-05-26T03:00:00",
         "urn:ngsi-ld:Device:family-household",
         "0.630008282609088",
         "MQH",
         "Measurement"
        ],
        [
         "4",
         "urn:ngsi-ld:Device:family-household:Measurement:2021-05-26T04:00:00",
         "urn:ngsi-ld:Device:family-household:Measurement:2021-05-26T04:00:00",
         "2021-05-26T04:00:00",
         "urn:ngsi-ld:Device:family-household",
         "1.627830260542362",
         "MQH",
         "Measurement"
        ]
       ],
       "shape": {
        "columns": 7,
        "rows": 5
       }
      },
      "text/html": [
       "<div>\n",
       "<style scoped>\n",
       "    .dataframe tbody tr th:only-of-type {\n",
       "        vertical-align: middle;\n",
       "    }\n",
       "\n",
       "    .dataframe tbody tr th {\n",
       "        vertical-align: top;\n",
       "    }\n",
       "\n",
       "    .dataframe thead th {\n",
       "        text-align: right;\n",
       "    }\n",
       "</style>\n",
       "<table border=\"1\" class=\"dataframe\">\n",
       "  <thead>\n",
       "    <tr style=\"text-align: right;\">\n",
       "      <th></th>\n",
       "      <th>_id</th>\n",
       "      <th>id</th>\n",
       "      <th>dateObserved</th>\n",
       "      <th>refDevice</th>\n",
       "      <th>numValue</th>\n",
       "      <th>unit</th>\n",
       "      <th>type</th>\n",
       "    </tr>\n",
       "  </thead>\n",
       "  <tbody>\n",
       "    <tr>\n",
       "      <th>0</th>\n",
       "      <td>urn:ngsi-ld:Device:family-household:Measuremen...</td>\n",
       "      <td>urn:ngsi-ld:Device:family-household:Measuremen...</td>\n",
       "      <td>2021-05-26T00:00:00</td>\n",
       "      <td>urn:ngsi-ld:Device:family-household</td>\n",
       "      <td>0.413884</td>\n",
       "      <td>MQH</td>\n",
       "      <td>Measurement</td>\n",
       "    </tr>\n",
       "    <tr>\n",
       "      <th>1</th>\n",
       "      <td>urn:ngsi-ld:Device:family-household:Measuremen...</td>\n",
       "      <td>urn:ngsi-ld:Device:family-household:Measuremen...</td>\n",
       "      <td>2021-05-26T01:00:00</td>\n",
       "      <td>urn:ngsi-ld:Device:family-household</td>\n",
       "      <td>0.316687</td>\n",
       "      <td>MQH</td>\n",
       "      <td>Measurement</td>\n",
       "    </tr>\n",
       "    <tr>\n",
       "      <th>2</th>\n",
       "      <td>urn:ngsi-ld:Device:family-household:Measuremen...</td>\n",
       "      <td>urn:ngsi-ld:Device:family-household:Measuremen...</td>\n",
       "      <td>2021-05-26T02:00:00</td>\n",
       "      <td>urn:ngsi-ld:Device:family-household</td>\n",
       "      <td>0.339165</td>\n",
       "      <td>MQH</td>\n",
       "      <td>Measurement</td>\n",
       "    </tr>\n",
       "    <tr>\n",
       "      <th>3</th>\n",
       "      <td>urn:ngsi-ld:Device:family-household:Measuremen...</td>\n",
       "      <td>urn:ngsi-ld:Device:family-household:Measuremen...</td>\n",
       "      <td>2021-05-26T03:00:00</td>\n",
       "      <td>urn:ngsi-ld:Device:family-household</td>\n",
       "      <td>0.630008</td>\n",
       "      <td>MQH</td>\n",
       "      <td>Measurement</td>\n",
       "    </tr>\n",
       "    <tr>\n",
       "      <th>4</th>\n",
       "      <td>urn:ngsi-ld:Device:family-household:Measuremen...</td>\n",
       "      <td>urn:ngsi-ld:Device:family-household:Measuremen...</td>\n",
       "      <td>2021-05-26T04:00:00</td>\n",
       "      <td>urn:ngsi-ld:Device:family-household</td>\n",
       "      <td>1.627830</td>\n",
       "      <td>MQH</td>\n",
       "      <td>Measurement</td>\n",
       "    </tr>\n",
       "  </tbody>\n",
       "</table>\n",
       "</div>"
      ],
      "text/plain": [
       "                                                 _id  \\\n",
       "0  urn:ngsi-ld:Device:family-household:Measuremen...   \n",
       "1  urn:ngsi-ld:Device:family-household:Measuremen...   \n",
       "2  urn:ngsi-ld:Device:family-household:Measuremen...   \n",
       "3  urn:ngsi-ld:Device:family-household:Measuremen...   \n",
       "4  urn:ngsi-ld:Device:family-household:Measuremen...   \n",
       "\n",
       "                                                  id         dateObserved  \\\n",
       "0  urn:ngsi-ld:Device:family-household:Measuremen...  2021-05-26T00:00:00   \n",
       "1  urn:ngsi-ld:Device:family-household:Measuremen...  2021-05-26T01:00:00   \n",
       "2  urn:ngsi-ld:Device:family-household:Measuremen...  2021-05-26T02:00:00   \n",
       "3  urn:ngsi-ld:Device:family-household:Measuremen...  2021-05-26T03:00:00   \n",
       "4  urn:ngsi-ld:Device:family-household:Measuremen...  2021-05-26T04:00:00   \n",
       "\n",
       "                             refDevice  numValue unit         type  \n",
       "0  urn:ngsi-ld:Device:family-household  0.413884  MQH  Measurement  \n",
       "1  urn:ngsi-ld:Device:family-household  0.316687  MQH  Measurement  \n",
       "2  urn:ngsi-ld:Device:family-household  0.339165  MQH  Measurement  \n",
       "3  urn:ngsi-ld:Device:family-household  0.630008  MQH  Measurement  \n",
       "4  urn:ngsi-ld:Device:family-household  1.627830  MQH  Measurement  "
      ]
     },
     "execution_count": 7,
     "metadata": {},
     "output_type": "execute_result"
    }
   ],
   "source": [
    "data.head()"
   ]
  },
  {
   "cell_type": "code",
   "execution_count": 8,
   "id": "98a2379e",
   "metadata": {},
   "outputs": [
    {
     "data": {
      "text/plain": [
       "refDevice\n",
       "urn:ngsi-ld:Device:family-household      17521\n",
       "urn:ngsi-ld:Device:retired-household     17521\n",
       "urn:ngsi-ld:Device:single-household      17521\n",
       "urn:ngsi-ld:Device:atypical-household    17521\n",
       "Name: count, dtype: int64"
      ]
     },
     "execution_count": 8,
     "metadata": {},
     "output_type": "execute_result"
    }
   ],
   "source": [
    "data['refDevice'].value_counts()"
   ]
  },
  {
   "cell_type": "code",
   "execution_count": 9,
   "id": "0cec6253",
   "metadata": {},
   "outputs": [
    {
     "data": {
      "application/vnd.microsoft.datawrangler.viewer.v0+json": {
       "columns": [
        {
         "name": "index",
         "rawType": "object",
         "type": "string"
        },
        {
         "name": "numValue",
         "rawType": "float64",
         "type": "float"
        }
       ],
       "conversionMethod": "pd.DataFrame",
       "ref": "1822c1f6-5adf-4c63-b1b5-9a72cf7be92b",
       "rows": [
        [
         "count",
         "70084.0"
        ],
        [
         "mean",
         "1.062959066535598"
        ],
        [
         "std",
         "0.868607460929812"
        ],
        [
         "min",
         "0.0"
        ],
        [
         "25%",
         "0.3907159259646833"
        ],
        [
         "50%",
         "0.8565627255300741"
        ],
        [
         "75%",
         "1.475567086444007"
        ],
        [
         "max",
         "4.7574775813623145"
        ]
       ],
       "shape": {
        "columns": 1,
        "rows": 8
       }
      },
      "text/html": [
       "<div>\n",
       "<style scoped>\n",
       "    .dataframe tbody tr th:only-of-type {\n",
       "        vertical-align: middle;\n",
       "    }\n",
       "\n",
       "    .dataframe tbody tr th {\n",
       "        vertical-align: top;\n",
       "    }\n",
       "\n",
       "    .dataframe thead th {\n",
       "        text-align: right;\n",
       "    }\n",
       "</style>\n",
       "<table border=\"1\" class=\"dataframe\">\n",
       "  <thead>\n",
       "    <tr style=\"text-align: right;\">\n",
       "      <th></th>\n",
       "      <th>numValue</th>\n",
       "    </tr>\n",
       "  </thead>\n",
       "  <tbody>\n",
       "    <tr>\n",
       "      <th>count</th>\n",
       "      <td>70084.000000</td>\n",
       "    </tr>\n",
       "    <tr>\n",
       "      <th>mean</th>\n",
       "      <td>1.062959</td>\n",
       "    </tr>\n",
       "    <tr>\n",
       "      <th>std</th>\n",
       "      <td>0.868607</td>\n",
       "    </tr>\n",
       "    <tr>\n",
       "      <th>min</th>\n",
       "      <td>0.000000</td>\n",
       "    </tr>\n",
       "    <tr>\n",
       "      <th>25%</th>\n",
       "      <td>0.390716</td>\n",
       "    </tr>\n",
       "    <tr>\n",
       "      <th>50%</th>\n",
       "      <td>0.856563</td>\n",
       "    </tr>\n",
       "    <tr>\n",
       "      <th>75%</th>\n",
       "      <td>1.475567</td>\n",
       "    </tr>\n",
       "    <tr>\n",
       "      <th>max</th>\n",
       "      <td>4.757478</td>\n",
       "    </tr>\n",
       "  </tbody>\n",
       "</table>\n",
       "</div>"
      ],
      "text/plain": [
       "           numValue\n",
       "count  70084.000000\n",
       "mean       1.062959\n",
       "std        0.868607\n",
       "min        0.000000\n",
       "25%        0.390716\n",
       "50%        0.856563\n",
       "75%        1.475567\n",
       "max        4.757478"
      ]
     },
     "execution_count": 9,
     "metadata": {},
     "output_type": "execute_result"
    }
   ],
   "source": [
    "data.describe()"
   ]
  },
  {
   "cell_type": "code",
   "execution_count": 10,
   "id": "7088e744",
   "metadata": {},
   "outputs": [],
   "source": [
    "import matplotlib.pyplot as plt "
   ]
  },
  {
   "cell_type": "code",
   "execution_count": 11,
   "id": "84ce6017",
   "metadata": {},
   "outputs": [
    {
     "data": {
      "image/png": "[encoded data removed]",
      "text/plain": [
       "<Figure size 640x480 with 1 Axes>"
      ]
     },
     "metadata": {},
     "output_type": "display_data"
    }
   ],
   "source": [
    "plt.hist(data['numValue'],bins = 100,histtype=\"step\")\n",
    "plt.show()"
   ]
  },
  {
   "cell_type": "code",
   "execution_count": 12,
   "id": "dad301d2",
   "metadata": {},
   "outputs": [
    {
     "data": {
      "application/vnd.microsoft.datawrangler.viewer.v0+json": {
       "columns": [
        {
         "name": "index",
         "rawType": "object",
         "type": "string"
        },
        {
         "name": "numValue",
         "rawType": "float64",
         "type": "float"
        }
       ],
       "conversionMethod": "pd.DataFrame",
       "ref": "d15c9696-d555-4720-99a0-b068b81622dc",
       "rows": [
        [
         "count",
         "70084.0"
        ],
        [
         "mean",
         "1.062959066535598"
        ],
        [
         "std",
         "0.868607460929812"
        ],
        [
         "min",
         "0.0"
        ],
        [
         "25%",
         "0.3907159259646833"
        ],
        [
         "50%",
         "0.8565627255300741"
        ],
        [
         "75%",
         "1.475567086444007"
        ],
        [
         "max",
         "4.7574775813623145"
        ]
       ],
       "shape": {
        "columns": 1,
        "rows": 8
       }
      },
      "text/html": [
       "<div>\n",
       "<style scoped>\n",
       "    .dataframe tbody tr th:only-of-type {\n",
       "        vertical-align: middle;\n",
       "    }\n",
       "\n",
       "    .dataframe tbody tr th {\n",
       "        vertical-align: top;\n",
       "    }\n",
       "\n",
       "    .dataframe thead th {\n",
       "        text-align: right;\n",
       "    }\n",
       "</style>\n",
       "<table border=\"1\" class=\"dataframe\">\n",
       "  <thead>\n",
       "    <tr style=\"text-align: right;\">\n",
       "      <th></th>\n",
       "      <th>numValue</th>\n",
       "    </tr>\n",
       "  </thead>\n",
       "  <tbody>\n",
       "    <tr>\n",
       "      <th>count</th>\n",
       "      <td>70084.000000</td>\n",
       "    </tr>\n",
       "    <tr>\n",
       "      <th>mean</th>\n",
       "      <td>1.062959</td>\n",
       "    </tr>\n",
       "    <tr>\n",
       "      <th>std</th>\n",
       "      <td>0.868607</td>\n",
       "    </tr>\n",
       "    <tr>\n",
       "      <th>min</th>\n",
       "      <td>0.000000</td>\n",
       "    </tr>\n",
       "    <tr>\n",
       "      <th>25%</th>\n",
       "      <td>0.390716</td>\n",
       "    </tr>\n",
       "    <tr>\n",
       "      <th>50%</th>\n",
       "      <td>0.856563</td>\n",
       "    </tr>\n",
       "    <tr>\n",
       "      <th>75%</th>\n",
       "      <td>1.475567</td>\n",
       "    </tr>\n",
       "    <tr>\n",
       "      <th>max</th>\n",
       "      <td>4.757478</td>\n",
       "    </tr>\n",
       "  </tbody>\n",
       "</table>\n",
       "</div>"
      ],
      "text/plain": [
       "           numValue\n",
       "count  70084.000000\n",
       "mean       1.062959\n",
       "std        0.868607\n",
       "min        0.000000\n",
       "25%        0.390716\n",
       "50%        0.856563\n",
       "75%        1.475567\n",
       "max        4.757478"
      ]
     },
     "execution_count": 12,
     "metadata": {},
     "output_type": "execute_result"
    }
   ],
   "source": [
    "data.describe()"
   ]
  },
  {
   "cell_type": "code",
   "execution_count": 13,
   "id": "5be0d565",
   "metadata": {},
   "outputs": [
    {
     "data": {
      "text/plain": [
       "_id             0\n",
       "id              0\n",
       "dateObserved    0\n",
       "refDevice       0\n",
       "numValue        0\n",
       "unit            0\n",
       "type            0\n",
       "dtype: int64"
      ]
     },
     "execution_count": 13,
     "metadata": {},
     "output_type": "execute_result"
    }
   ],
   "source": [
    "data.isna().sum()"
   ]
  },
  {
   "cell_type": "code",
   "execution_count": 14,
   "id": "ff718ee1",
   "metadata": {},
   "outputs": [],
   "source": [
    "#this file used to train models\n",
    "csv_data = pd.read_csv(\"bws-short-term-forecasting-main/flask-backend/app/data/weather/example_precipitation.csv\")"
   ]
  },
  {
   "cell_type": "code",
   "execution_count": 15,
   "id": "7d873f74",
   "metadata": {},
   "outputs": [
    {
     "name": "stdout",
     "output_type": "stream",
     "text": [
      "<class 'pandas.core.frame.DataFrame'>\n",
      "RangeIndex: 17522 entries, 0 to 17521\n",
      "Data columns (total 5 columns):\n",
      " #   Column                Non-Null Count  Dtype \n",
      "---  ------                --------------  ----- \n",
      " 0   Unnamed: 0            17521 non-null  object\n",
      " 1   precipitation (mm)    17522 non-null  object\n",
      " 2   precipitation (mm).1  17522 non-null  object\n",
      " 3   precipitation (mm).2  17522 non-null  object\n",
      " 4   precipitation (mm).3  17522 non-null  object\n",
      "dtypes: object(5)\n",
      "memory usage: 684.6+ KB\n"
     ]
    }
   ],
   "source": [
    "csv_data.info()"
   ]
  },
  {
   "cell_type": "code",
   "execution_count": 16,
   "id": "c6933387",
   "metadata": {},
   "outputs": [
    {
     "data": {
      "application/vnd.microsoft.datawrangler.viewer.v0+json": {
       "columns": [
        {
         "name": "index",
         "rawType": "int64",
         "type": "integer"
        },
        {
         "name": "Unnamed: 0",
         "rawType": "object",
         "type": "unknown"
        },
        {
         "name": "precipitation (mm)",
         "rawType": "object",
         "type": "string"
        },
        {
         "name": "precipitation (mm).1",
         "rawType": "object",
         "type": "string"
        },
        {
         "name": "precipitation (mm).2",
         "rawType": "object",
         "type": "string"
        },
        {
         "name": "precipitation (mm).3",
         "rawType": "object",
         "type": "string"
        }
       ],
       "conversionMethod": "pd.DataFrame",
       "ref": "b77231a9-c5bc-45ba-93d4-cb7fdb45fe06",
       "rows": [
        [
         "0",
         null,
         "urn:ngsi-ld:Device:family-household",
         "urn:ngsi-ld:Device:retired-household",
         "urn:ngsi-ld:Device:single-household",
         "urn:ngsi-ld:Device:atypical-household"
        ],
        [
         "1",
         "2021-05-26 00:00:00",
         "0.0",
         "0.0",
         "0.0",
         "0.0"
        ],
        [
         "2",
         "2021-05-26 01:00:00",
         "0.0",
         "0.0",
         "0.0",
         "0.0"
        ],
        [
         "3",
         "2021-05-26 02:00:00",
         "0.0",
         "0.0",
         "0.0",
         "0.0"
        ],
        [
         "4",
         "2021-05-26 03:00:00",
         "0.0",
         "0.0",
         "0.0",
         "0.0"
        ]
       ],
       "shape": {
        "columns": 5,
        "rows": 5
       }
      },
      "text/html": [
       "<div>\n",
       "<style scoped>\n",
       "    .dataframe tbody tr th:only-of-type {\n",
       "        vertical-align: middle;\n",
       "    }\n",
       "\n",
       "    .dataframe tbody tr th {\n",
       "        vertical-align: top;\n",
       "    }\n",
       "\n",
       "    .dataframe thead th {\n",
       "        text-align: right;\n",
       "    }\n",
       "</style>\n",
       "<table border=\"1\" class=\"dataframe\">\n",
       "  <thead>\n",
       "    <tr style=\"text-align: right;\">\n",
       "      <th></th>\n",
       "      <th>Unnamed: 0</th>\n",
       "      <th>precipitation (mm)</th>\n",
       "      <th>precipitation (mm).1</th>\n",
       "      <th>precipitation (mm).2</th>\n",
       "      <th>precipitation (mm).3</th>\n",
       "    </tr>\n",
       "  </thead>\n",
       "  <tbody>\n",
       "    <tr>\n",
       "      <th>0</th>\n",
       "      <td>NaN</td>\n",
       "      <td>urn:ngsi-ld:Device:family-household</td>\n",
       "      <td>urn:ngsi-ld:Device:retired-household</td>\n",
       "      <td>urn:ngsi-ld:Device:single-household</td>\n",
       "      <td>urn:ngsi-ld:Device:atypical-household</td>\n",
       "    </tr>\n",
       "    <tr>\n",
       "      <th>1</th>\n",
       "      <td>2021-05-26 00:00:00</td>\n",
       "      <td>0.0</td>\n",
       "      <td>0.0</td>\n",
       "      <td>0.0</td>\n",
       "      <td>0.0</td>\n",
       "    </tr>\n",
       "    <tr>\n",
       "      <th>2</th>\n",
       "      <td>2021-05-26 01:00:00</td>\n",
       "      <td>0.0</td>\n",
       "      <td>0.0</td>\n",
       "      <td>0.0</td>\n",
       "      <td>0.0</td>\n",
       "    </tr>\n",
       "    <tr>\n",
       "      <th>3</th>\n",
       "      <td>2021-05-26 02:00:00</td>\n",
       "      <td>0.0</td>\n",
       "      <td>0.0</td>\n",
       "      <td>0.0</td>\n",
       "      <td>0.0</td>\n",
       "    </tr>\n",
       "    <tr>\n",
       "      <th>4</th>\n",
       "      <td>2021-05-26 03:00:00</td>\n",
       "      <td>0.0</td>\n",
       "      <td>0.0</td>\n",
       "      <td>0.0</td>\n",
       "      <td>0.0</td>\n",
       "    </tr>\n",
       "  </tbody>\n",
       "</table>\n",
       "</div>"
      ],
      "text/plain": [
       "            Unnamed: 0                   precipitation (mm)  \\\n",
       "0                  NaN  urn:ngsi-ld:Device:family-household   \n",
       "1  2021-05-26 00:00:00                                  0.0   \n",
       "2  2021-05-26 01:00:00                                  0.0   \n",
       "3  2021-05-26 02:00:00                                  0.0   \n",
       "4  2021-05-26 03:00:00                                  0.0   \n",
       "\n",
       "                   precipitation (mm).1                 precipitation (mm).2  \\\n",
       "0  urn:ngsi-ld:Device:retired-household  urn:ngsi-ld:Device:single-household   \n",
       "1                                   0.0                                  0.0   \n",
       "2                                   0.0                                  0.0   \n",
       "3                                   0.0                                  0.0   \n",
       "4                                   0.0                                  0.0   \n",
       "\n",
       "                    precipitation (mm).3  \n",
       "0  urn:ngsi-ld:Device:atypical-household  \n",
       "1                                    0.0  \n",
       "2                                    0.0  \n",
       "3                                    0.0  \n",
       "4                                    0.0  "
      ]
     },
     "execution_count": 16,
     "metadata": {},
     "output_type": "execute_result"
    }
   ],
   "source": [
    "csv_data.head()"
   ]
  },
  {
   "cell_type": "code",
   "execution_count": 17,
   "id": "033f395d",
   "metadata": {},
   "outputs": [
    {
     "data": {
      "application/vnd.microsoft.datawrangler.viewer.v0+json": {
       "columns": [
        {
         "name": "index",
         "rawType": "object",
         "type": "string"
        },
        {
         "name": "Unnamed: 0",
         "rawType": "object",
         "type": "unknown"
        },
        {
         "name": "precipitation (mm)",
         "rawType": "object",
         "type": "unknown"
        },
        {
         "name": "precipitation (mm).1",
         "rawType": "object",
         "type": "unknown"
        },
        {
         "name": "precipitation (mm).2",
         "rawType": "object",
         "type": "unknown"
        },
        {
         "name": "precipitation (mm).3",
         "rawType": "object",
         "type": "unknown"
        }
       ],
       "conversionMethod": "pd.DataFrame",
       "ref": "5b4e6000-bd3b-4a66-8438-6047dcb54ee8",
       "rows": [
        [
         "count",
         "17521",
         "17522",
         "17522",
         "17522",
         "17522"
        ],
        [
         "unique",
         "17521",
         "657",
         "832",
         "890",
         "1012"
        ],
        [
         "top",
         "2021-05-26 00:00:00",
         "0.0",
         "0.0",
         "0.0",
         "0.0"
        ],
        [
         "freq",
         "1",
         "16866",
         "16691",
         "16633",
         "16511"
        ]
       ],
       "shape": {
        "columns": 5,
        "rows": 4
       }
      },
      "text/html": [
       "<div>\n",
       "<style scoped>\n",
       "    .dataframe tbody tr th:only-of-type {\n",
       "        vertical-align: middle;\n",
       "    }\n",
       "\n",
       "    .dataframe tbody tr th {\n",
       "        vertical-align: top;\n",
       "    }\n",
       "\n",
       "    .dataframe thead th {\n",
       "        text-align: right;\n",
       "    }\n",
       "</style>\n",
       "<table border=\"1\" class=\"dataframe\">\n",
       "  <thead>\n",
       "    <tr style=\"text-align: right;\">\n",
       "      <th></th>\n",
       "      <th>Unnamed: 0</th>\n",
       "      <th>precipitation (mm)</th>\n",
       "      <th>precipitation (mm).1</th>\n",
       "      <th>precipitation (mm).2</th>\n",
       "      <th>precipitation (mm).3</th>\n",
       "    </tr>\n",
       "  </thead>\n",
       "  <tbody>\n",
       "    <tr>\n",
       "      <th>count</th>\n",
       "      <td>17521</td>\n",
       "      <td>17522</td>\n",
       "      <td>17522</td>\n",
       "      <td>17522</td>\n",
       "      <td>17522</td>\n",
       "    </tr>\n",
       "    <tr>\n",
       "      <th>unique</th>\n",
       "      <td>17521</td>\n",
       "      <td>657</td>\n",
       "      <td>832</td>\n",
       "      <td>890</td>\n",
       "      <td>1012</td>\n",
       "    </tr>\n",
       "    <tr>\n",
       "      <th>top</th>\n",
       "      <td>2021-05-26 00:00:00</td>\n",
       "      <td>0.0</td>\n",
       "      <td>0.0</td>\n",
       "      <td>0.0</td>\n",
       "      <td>0.0</td>\n",
       "    </tr>\n",
       "    <tr>\n",
       "      <th>freq</th>\n",
       "      <td>1</td>\n",
       "      <td>16866</td>\n",
       "      <td>16691</td>\n",
       "      <td>16633</td>\n",
       "      <td>16511</td>\n",
       "    </tr>\n",
       "  </tbody>\n",
       "</table>\n",
       "</div>"
      ],
      "text/plain": [
       "                 Unnamed: 0 precipitation (mm) precipitation (mm).1  \\\n",
       "count                 17521              17522                17522   \n",
       "unique                17521                657                  832   \n",
       "top     2021-05-26 00:00:00                0.0                  0.0   \n",
       "freq                      1              16866                16691   \n",
       "\n",
       "       precipitation (mm).2 precipitation (mm).3  \n",
       "count                 17522                17522  \n",
       "unique                  890                 1012  \n",
       "top                     0.0                  0.0  \n",
       "freq                  16633                16511  "
      ]
     },
     "execution_count": 17,
     "metadata": {},
     "output_type": "execute_result"
    }
   ],
   "source": [
    "csv_data.describe()"
   ]
  },
  {
   "cell_type": "code",
   "execution_count": 18,
   "id": "614a1c66",
   "metadata": {},
   "outputs": [
    {
     "data": {
      "application/vnd.microsoft.datawrangler.viewer.v0+json": {
       "columns": [
        {
         "name": "index",
         "rawType": "int64",
         "type": "integer"
        },
        {
         "name": "_id",
         "rawType": "object",
         "type": "string"
        },
        {
         "name": "id",
         "rawType": "object",
         "type": "string"
        },
        {
         "name": "dateObserved",
         "rawType": "object",
         "type": "string"
        },
        {
         "name": "refDevice",
         "rawType": "object",
         "type": "string"
        },
        {
         "name": "numValue",
         "rawType": "float64",
         "type": "float"
        },
        {
         "name": "unit",
         "rawType": "object",
         "type": "string"
        },
        {
         "name": "type",
         "rawType": "object",
         "type": "string"
        }
       ],
       "conversionMethod": "pd.DataFrame",
       "ref": "e5b3ee47-3fdf-4b71-8daf-82540726a39d",
       "rows": [
        [
         "0",
         "urn:ngsi-ld:Device:family-household:Measurement:2021-05-26T00:00:00",
         "urn:ngsi-ld:Device:family-household:Measurement:2021-05-26T00:00:00",
         "2021-05-26T00:00:00",
         "urn:ngsi-ld:Device:family-household",
         "0.41388418402439403",
         "MQH",
         "Measurement"
        ],
        [
         "1",
         "urn:ngsi-ld:Device:family-household:Measurement:2021-05-26T01:00:00",
         "urn:ngsi-ld:Device:family-household:Measurement:2021-05-26T01:00:00",
         "2021-05-26T01:00:00",
         "urn:ngsi-ld:Device:family-household",
         "0.31668725451569",
         "MQH",
         "Measurement"
        ],
        [
         "2",
         "urn:ngsi-ld:Device:family-household:Measurement:2021-05-26T02:00:00",
         "urn:ngsi-ld:Device:family-household:Measurement:2021-05-26T02:00:00",
         "2021-05-26T02:00:00",
         "urn:ngsi-ld:Device:family-household",
         "0.33916534178268004",
         "MQH",
         "Measurement"
        ],
        [
         "3",
         "urn:ngsi-ld:Device:family-household:Measurement:2021-05-26T03:00:00",
         "urn:ngsi-ld:Device:family-household:Measurement:2021-05-26T03:00:00",
         "2021-05-26T03:00:00",
         "urn:ngsi-ld:Device:family-household",
         "0.630008282609088",
         "MQH",
         "Measurement"
        ],
        [
         "4",
         "urn:ngsi-ld:Device:family-household:Measurement:2021-05-26T04:00:00",
         "urn:ngsi-ld:Device:family-household:Measurement:2021-05-26T04:00:00",
         "2021-05-26T04:00:00",
         "urn:ngsi-ld:Device:family-household",
         "1.627830260542362",
         "MQH",
         "Measurement"
        ]
       ],
       "shape": {
        "columns": 7,
        "rows": 5
       }
      },
      "text/html": [
       "<div>\n",
       "<style scoped>\n",
       "    .dataframe tbody tr th:only-of-type {\n",
       "        vertical-align: middle;\n",
       "    }\n",
       "\n",
       "    .dataframe tbody tr th {\n",
       "        vertical-align: top;\n",
       "    }\n",
       "\n",
       "    .dataframe thead th {\n",
       "        text-align: right;\n",
       "    }\n",
       "</style>\n",
       "<table border=\"1\" class=\"dataframe\">\n",
       "  <thead>\n",
       "    <tr style=\"text-align: right;\">\n",
       "      <th></th>\n",
       "      <th>_id</th>\n",
       "      <th>id</th>\n",
       "      <th>dateObserved</th>\n",
       "      <th>refDevice</th>\n",
       "      <th>numValue</th>\n",
       "      <th>unit</th>\n",
       "      <th>type</th>\n",
       "    </tr>\n",
       "  </thead>\n",
       "  <tbody>\n",
       "    <tr>\n",
       "      <th>0</th>\n",
       "      <td>urn:ngsi-ld:Device:family-household:Measuremen...</td>\n",
       "      <td>urn:ngsi-ld:Device:family-household:Measuremen...</td>\n",
       "      <td>2021-05-26T00:00:00</td>\n",
       "      <td>urn:ngsi-ld:Device:family-household</td>\n",
       "      <td>0.413884</td>\n",
       "      <td>MQH</td>\n",
       "      <td>Measurement</td>\n",
       "    </tr>\n",
       "    <tr>\n",
       "      <th>1</th>\n",
       "      <td>urn:ngsi-ld:Device:family-household:Measuremen...</td>\n",
       "      <td>urn:ngsi-ld:Device:family-household:Measuremen...</td>\n",
       "      <td>2021-05-26T01:00:00</td>\n",
       "      <td>urn:ngsi-ld:Device:family-household</td>\n",
       "      <td>0.316687</td>\n",
       "      <td>MQH</td>\n",
       "      <td>Measurement</td>\n",
       "    </tr>\n",
       "    <tr>\n",
       "      <th>2</th>\n",
       "      <td>urn:ngsi-ld:Device:family-household:Measuremen...</td>\n",
       "      <td>urn:ngsi-ld:Device:family-household:Measuremen...</td>\n",
       "      <td>2021-05-26T02:00:00</td>\n",
       "      <td>urn:ngsi-ld:Device:family-household</td>\n",
       "      <td>0.339165</td>\n",
       "      <td>MQH</td>\n",
       "      <td>Measurement</td>\n",
       "    </tr>\n",
       "    <tr>\n",
       "      <th>3</th>\n",
       "      <td>urn:ngsi-ld:Device:family-household:Measuremen...</td>\n",
       "      <td>urn:ngsi-ld:Device:family-household:Measuremen...</td>\n",
       "      <td>2021-05-26T03:00:00</td>\n",
       "      <td>urn:ngsi-ld:Device:family-household</td>\n",
       "      <td>0.630008</td>\n",
       "      <td>MQH</td>\n",
       "      <td>Measurement</td>\n",
       "    </tr>\n",
       "    <tr>\n",
       "      <th>4</th>\n",
       "      <td>urn:ngsi-ld:Device:family-household:Measuremen...</td>\n",
       "      <td>urn:ngsi-ld:Device:family-household:Measuremen...</td>\n",
       "      <td>2021-05-26T04:00:00</td>\n",
       "      <td>urn:ngsi-ld:Device:family-household</td>\n",
       "      <td>1.627830</td>\n",
       "      <td>MQH</td>\n",
       "      <td>Measurement</td>\n",
       "    </tr>\n",
       "  </tbody>\n",
       "</table>\n",
       "</div>"
      ],
      "text/plain": [
       "                                                 _id  \\\n",
       "0  urn:ngsi-ld:Device:family-household:Measuremen...   \n",
       "1  urn:ngsi-ld:Device:family-household:Measuremen...   \n",
       "2  urn:ngsi-ld:Device:family-household:Measuremen...   \n",
       "3  urn:ngsi-ld:Device:family-household:Measuremen...   \n",
       "4  urn:ngsi-ld:Device:family-household:Measuremen...   \n",
       "\n",
       "                                                  id         dateObserved  \\\n",
       "0  urn:ngsi-ld:Device:family-household:Measuremen...  2021-05-26T00:00:00   \n",
       "1  urn:ngsi-ld:Device:family-household:Measuremen...  2021-05-26T01:00:00   \n",
       "2  urn:ngsi-ld:Device:family-household:Measuremen...  2021-05-26T02:00:00   \n",
       "3  urn:ngsi-ld:Device:family-household:Measuremen...  2021-05-26T03:00:00   \n",
       "4  urn:ngsi-ld:Device:family-household:Measuremen...  2021-05-26T04:00:00   \n",
       "\n",
       "                             refDevice  numValue unit         type  \n",
       "0  urn:ngsi-ld:Device:family-household  0.413884  MQH  Measurement  \n",
       "1  urn:ngsi-ld:Device:family-household  0.316687  MQH  Measurement  \n",
       "2  urn:ngsi-ld:Device:family-household  0.339165  MQH  Measurement  \n",
       "3  urn:ngsi-ld:Device:family-household  0.630008  MQH  Measurement  \n",
       "4  urn:ngsi-ld:Device:family-household  1.627830  MQH  Measurement  "
      ]
     },
     "execution_count": 18,
     "metadata": {},
     "output_type": "execute_result"
    }
   ],
   "source": [
    "data.head()"
   ]
  },
  {
   "cell_type": "code",
   "execution_count": 19,
   "id": "4fa9bcf2",
   "metadata": {},
   "outputs": [
    {
     "data": {
      "text/plain": [
       "type\n",
       "Measurement    70084\n",
       "Name: count, dtype: int64"
      ]
     },
     "execution_count": 19,
     "metadata": {},
     "output_type": "execute_result"
    }
   ],
   "source": [
    "data['type'].value_counts()"
   ]
  },
  {
   "cell_type": "code",
   "execution_count": 20,
   "id": "c9ce5485",
   "metadata": {},
   "outputs": [],
   "source": [
    "data.drop(['_id','unit','type'],axis=1,inplace = True)"
   ]
  },
  {
   "cell_type": "code",
   "execution_count": 21,
   "id": "0ab984ba",
   "metadata": {},
   "outputs": [],
   "source": [
    "from prophet import Prophet"
   ]
  },
  {
   "cell_type": "code",
   "execution_count": 22,
   "id": "ec3c708e",
   "metadata": {},
   "outputs": [
    {
     "data": {
      "text/plain": [
       "52563    2021-05-26T00:00:00\n",
       "Name: dateObserved, dtype: object"
      ]
     },
     "execution_count": 22,
     "metadata": {},
     "output_type": "execute_result"
    }
   ],
   "source": [
    "data['dateObserved'][[3*(len(data)/4)]]"
   ]
  },
  {
   "cell_type": "code",
   "execution_count": 23,
   "id": "4e09378e",
   "metadata": {},
   "outputs": [
    {
     "data": {
      "text/plain": [
       "'2021-05-26T00:00:00'"
      ]
     },
     "execution_count": 23,
     "metadata": {},
     "output_type": "execute_result"
    }
   ],
   "source": [
    "data.iloc[52563][\"dateObserved\"]"
   ]
  },
  {
   "cell_type": "code",
   "execution_count": 24,
   "id": "dcec0383",
   "metadata": {},
   "outputs": [],
   "source": [
    "df = data"
   ]
  },
  {
   "cell_type": "code",
   "execution_count": 25,
   "id": "f42958d6",
   "metadata": {},
   "outputs": [],
   "source": [
    "# data['dateObserved'] = pd.to_datetime(data['dateObserved'])  # convert to datetime\n",
    "\n",
    "# data.rename(columns={'dateObserved': 'ds', 'numValue': 'y'},inplace=True)  # Prophet needs 'ds' and 'y'\n",
    "\n",
    "# # daily resampling + interpolation\n",
    "# data = data.reset_index()"
   ]
  },
  {
   "cell_type": "code",
   "execution_count": 26,
   "id": "b427806f",
   "metadata": {},
   "outputs": [
    {
     "data": {
      "application/vnd.microsoft.datawrangler.viewer.v0+json": {
       "columns": [
        {
         "name": "index",
         "rawType": "int64",
         "type": "integer"
        },
        {
         "name": "id",
         "rawType": "object",
         "type": "string"
        },
        {
         "name": "dateObserved",
         "rawType": "object",
         "type": "string"
        },
        {
         "name": "refDevice",
         "rawType": "object",
         "type": "string"
        },
        {
         "name": "numValue",
         "rawType": "float64",
         "type": "float"
        }
       ],
       "conversionMethod": "pd.DataFrame",
       "ref": "011d2afe-f011-488b-be60-f59185cea0d6",
       "rows": [
        [
         "0",
         "urn:ngsi-ld:Device:family-household:Measurement:2021-05-26T00:00:00",
         "2021-05-26T00:00:00",
         "urn:ngsi-ld:Device:family-household",
         "0.41388418402439403"
        ],
        [
         "1",
         "urn:ngsi-ld:Device:family-household:Measurement:2021-05-26T01:00:00",
         "2021-05-26T01:00:00",
         "urn:ngsi-ld:Device:family-household",
         "0.31668725451569"
        ],
        [
         "2",
         "urn:ngsi-ld:Device:family-household:Measurement:2021-05-26T02:00:00",
         "2021-05-26T02:00:00",
         "urn:ngsi-ld:Device:family-household",
         "0.33916534178268004"
        ],
        [
         "3",
         "urn:ngsi-ld:Device:family-household:Measurement:2021-05-26T03:00:00",
         "2021-05-26T03:00:00",
         "urn:ngsi-ld:Device:family-household",
         "0.630008282609088"
        ],
        [
         "4",
         "urn:ngsi-ld:Device:family-household:Measurement:2021-05-26T04:00:00",
         "2021-05-26T04:00:00",
         "urn:ngsi-ld:Device:family-household",
         "1.627830260542362"
        ]
       ],
       "shape": {
        "columns": 4,
        "rows": 5
       }
      },
      "text/html": [
       "<div>\n",
       "<style scoped>\n",
       "    .dataframe tbody tr th:only-of-type {\n",
       "        vertical-align: middle;\n",
       "    }\n",
       "\n",
       "    .dataframe tbody tr th {\n",
       "        vertical-align: top;\n",
       "    }\n",
       "\n",
       "    .dataframe thead th {\n",
       "        text-align: right;\n",
       "    }\n",
       "</style>\n",
       "<table border=\"1\" class=\"dataframe\">\n",
       "  <thead>\n",
       "    <tr style=\"text-align: right;\">\n",
       "      <th></th>\n",
       "      <th>id</th>\n",
       "      <th>dateObserved</th>\n",
       "      <th>refDevice</th>\n",
       "      <th>numValue</th>\n",
       "    </tr>\n",
       "  </thead>\n",
       "  <tbody>\n",
       "    <tr>\n",
       "      <th>0</th>\n",
       "      <td>urn:ngsi-ld:Device:family-household:Measuremen...</td>\n",
       "      <td>2021-05-26T00:00:00</td>\n",
       "      <td>urn:ngsi-ld:Device:family-household</td>\n",
       "      <td>0.413884</td>\n",
       "    </tr>\n",
       "    <tr>\n",
       "      <th>1</th>\n",
       "      <td>urn:ngsi-ld:Device:family-household:Measuremen...</td>\n",
       "      <td>2021-05-26T01:00:00</td>\n",
       "      <td>urn:ngsi-ld:Device:family-household</td>\n",
       "      <td>0.316687</td>\n",
       "    </tr>\n",
       "    <tr>\n",
       "      <th>2</th>\n",
       "      <td>urn:ngsi-ld:Device:family-household:Measuremen...</td>\n",
       "      <td>2021-05-26T02:00:00</td>\n",
       "      <td>urn:ngsi-ld:Device:family-household</td>\n",
       "      <td>0.339165</td>\n",
       "    </tr>\n",
       "    <tr>\n",
       "      <th>3</th>\n",
       "      <td>urn:ngsi-ld:Device:family-household:Measuremen...</td>\n",
       "      <td>2021-05-26T03:00:00</td>\n",
       "      <td>urn:ngsi-ld:Device:family-household</td>\n",
       "      <td>0.630008</td>\n",
       "    </tr>\n",
       "    <tr>\n",
       "      <th>4</th>\n",
       "      <td>urn:ngsi-ld:Device:family-household:Measuremen...</td>\n",
       "      <td>2021-05-26T04:00:00</td>\n",
       "      <td>urn:ngsi-ld:Device:family-household</td>\n",
       "      <td>1.627830</td>\n",
       "    </tr>\n",
       "  </tbody>\n",
       "</table>\n",
       "</div>"
      ],
      "text/plain": [
       "                                                  id         dateObserved  \\\n",
       "0  urn:ngsi-ld:Device:family-household:Measuremen...  2021-05-26T00:00:00   \n",
       "1  urn:ngsi-ld:Device:family-household:Measuremen...  2021-05-26T01:00:00   \n",
       "2  urn:ngsi-ld:Device:family-household:Measuremen...  2021-05-26T02:00:00   \n",
       "3  urn:ngsi-ld:Device:family-household:Measuremen...  2021-05-26T03:00:00   \n",
       "4  urn:ngsi-ld:Device:family-household:Measuremen...  2021-05-26T04:00:00   \n",
       "\n",
       "                             refDevice  numValue  \n",
       "0  urn:ngsi-ld:Device:family-household  0.413884  \n",
       "1  urn:ngsi-ld:Device:family-household  0.316687  \n",
       "2  urn:ngsi-ld:Device:family-household  0.339165  \n",
       "3  urn:ngsi-ld:Device:family-household  0.630008  \n",
       "4  urn:ngsi-ld:Device:family-household  1.627830  "
      ]
     },
     "execution_count": 26,
     "metadata": {},
     "output_type": "execute_result"
    }
   ],
   "source": [
    "data.head()"
   ]
  },
  {
   "cell_type": "code",
   "execution_count": 27,
   "id": "ec4293f7",
   "metadata": {},
   "outputs": [
    {
     "name": "stdout",
     "output_type": "stream",
     "text": [
      "Requirement already satisfied: xgboost in /home/sina/anaconda3/lib/python3.12/site-packages (3.0.0)\n",
      "Requirement already satisfied: numpy in /home/sina/anaconda3/lib/python3.12/site-packages (from xgboost) (1.26.4)\n",
      "Requirement already satisfied: nvidia-nccl-cu12 in /home/sina/anaconda3/lib/python3.12/site-packages (from xgboost) (2.21.5)\n",
      "Requirement already satisfied: scipy in /home/sina/anaconda3/lib/python3.12/site-packages (from xgboost) (1.13.1)\n"
     ]
    }
   ],
   "source": [
    "!pip install xgboost"
   ]
  },
  {
   "cell_type": "code",
   "execution_count": 28,
   "id": "326d46ed",
   "metadata": {},
   "outputs": [],
   "source": [
    "# df = data"
   ]
  },
  {
   "cell_type": "code",
   "execution_count": 34,
   "id": "2678a856",
   "metadata": {},
   "outputs": [],
   "source": [
    "# 3. Train/Test split (last 3 months for testing)\n",
    "train = data[data['dateObserved'] < data['dateObserved'][52563] ]\n",
    "test = data[data['dateObserved'] >= data['dateObserved'][52563] ]"
   ]
  },
  {
   "cell_type": "code",
   "execution_count": 35,
   "id": "9981b577",
   "metadata": {},
   "outputs": [
    {
     "data": {
      "text/plain": [
       "Index(['id', 'dateObserved', 'refDevice', 'numValue'], dtype='object')"
      ]
     },
     "execution_count": 35,
     "metadata": {},
     "output_type": "execute_result"
    }
   ],
   "source": [
    "df.columns"
   ]
  },
  {
   "cell_type": "code",
   "execution_count": 36,
   "id": "7a90eff9",
   "metadata": {},
   "outputs": [
    {
     "data": {
      "application/vnd.microsoft.datawrangler.viewer.v0+json": {
       "columns": [
        {
         "name": "index",
         "rawType": "int64",
         "type": "integer"
        },
        {
         "name": "id",
         "rawType": "object",
         "type": "string"
        },
        {
         "name": "dateObserved",
         "rawType": "object",
         "type": "string"
        },
        {
         "name": "refDevice",
         "rawType": "object",
         "type": "string"
        },
        {
         "name": "numValue",
         "rawType": "float64",
         "type": "float"
        }
       ],
       "conversionMethod": "pd.DataFrame",
       "ref": "71e9a6f8-1afa-41f2-8f1e-fdd50f57697c",
       "rows": [
        [
         "0",
         "urn:ngsi-ld:Device:family-household:Measurement:2021-05-26T00:00:00",
         "2021-05-26T00:00:00",
         "urn:ngsi-ld:Device:family-household",
         "0.41388418402439403"
        ],
        [
         "1",
         "urn:ngsi-ld:Device:family-household:Measurement:2021-05-26T01:00:00",
         "2021-05-26T01:00:00",
         "urn:ngsi-ld:Device:family-household",
         "0.31668725451569"
        ],
        [
         "2",
         "urn:ngsi-ld:Device:family-household:Measurement:2021-05-26T02:00:00",
         "2021-05-26T02:00:00",
         "urn:ngsi-ld:Device:family-household",
         "0.33916534178268004"
        ],
        [
         "3",
         "urn:ngsi-ld:Device:family-household:Measurement:2021-05-26T03:00:00",
         "2021-05-26T03:00:00",
         "urn:ngsi-ld:Device:family-household",
         "0.630008282609088"
        ],
        [
         "4",
         "urn:ngsi-ld:Device:family-household:Measurement:2021-05-26T04:00:00",
         "2021-05-26T04:00:00",
         "urn:ngsi-ld:Device:family-household",
         "1.627830260542362"
        ]
       ],
       "shape": {
        "columns": 4,
        "rows": 5
       }
      },
      "text/html": [
       "<div>\n",
       "<style scoped>\n",
       "    .dataframe tbody tr th:only-of-type {\n",
       "        vertical-align: middle;\n",
       "    }\n",
       "\n",
       "    .dataframe tbody tr th {\n",
       "        vertical-align: top;\n",
       "    }\n",
       "\n",
       "    .dataframe thead th {\n",
       "        text-align: right;\n",
       "    }\n",
       "</style>\n",
       "<table border=\"1\" class=\"dataframe\">\n",
       "  <thead>\n",
       "    <tr style=\"text-align: right;\">\n",
       "      <th></th>\n",
       "      <th>id</th>\n",
       "      <th>dateObserved</th>\n",
       "      <th>refDevice</th>\n",
       "      <th>numValue</th>\n",
       "    </tr>\n",
       "  </thead>\n",
       "  <tbody>\n",
       "    <tr>\n",
       "      <th>0</th>\n",
       "      <td>urn:ngsi-ld:Device:family-household:Measuremen...</td>\n",
       "      <td>2021-05-26T00:00:00</td>\n",
       "      <td>urn:ngsi-ld:Device:family-household</td>\n",
       "      <td>0.413884</td>\n",
       "    </tr>\n",
       "    <tr>\n",
       "      <th>1</th>\n",
       "      <td>urn:ngsi-ld:Device:family-household:Measuremen...</td>\n",
       "      <td>2021-05-26T01:00:00</td>\n",
       "      <td>urn:ngsi-ld:Device:family-household</td>\n",
       "      <td>0.316687</td>\n",
       "    </tr>\n",
       "    <tr>\n",
       "      <th>2</th>\n",
       "      <td>urn:ngsi-ld:Device:family-household:Measuremen...</td>\n",
       "      <td>2021-05-26T02:00:00</td>\n",
       "      <td>urn:ngsi-ld:Device:family-household</td>\n",
       "      <td>0.339165</td>\n",
       "    </tr>\n",
       "    <tr>\n",
       "      <th>3</th>\n",
       "      <td>urn:ngsi-ld:Device:family-household:Measuremen...</td>\n",
       "      <td>2021-05-26T03:00:00</td>\n",
       "      <td>urn:ngsi-ld:Device:family-household</td>\n",
       "      <td>0.630008</td>\n",
       "    </tr>\n",
       "    <tr>\n",
       "      <th>4</th>\n",
       "      <td>urn:ngsi-ld:Device:family-household:Measuremen...</td>\n",
       "      <td>2021-05-26T04:00:00</td>\n",
       "      <td>urn:ngsi-ld:Device:family-household</td>\n",
       "      <td>1.627830</td>\n",
       "    </tr>\n",
       "  </tbody>\n",
       "</table>\n",
       "</div>"
      ],
      "text/plain": [
       "                                                  id         dateObserved  \\\n",
       "0  urn:ngsi-ld:Device:family-household:Measuremen...  2021-05-26T00:00:00   \n",
       "1  urn:ngsi-ld:Device:family-household:Measuremen...  2021-05-26T01:00:00   \n",
       "2  urn:ngsi-ld:Device:family-household:Measuremen...  2021-05-26T02:00:00   \n",
       "3  urn:ngsi-ld:Device:family-household:Measuremen...  2021-05-26T03:00:00   \n",
       "4  urn:ngsi-ld:Device:family-household:Measuremen...  2021-05-26T04:00:00   \n",
       "\n",
       "                             refDevice  numValue  \n",
       "0  urn:ngsi-ld:Device:family-household  0.413884  \n",
       "1  urn:ngsi-ld:Device:family-household  0.316687  \n",
       "2  urn:ngsi-ld:Device:family-household  0.339165  \n",
       "3  urn:ngsi-ld:Device:family-household  0.630008  \n",
       "4  urn:ngsi-ld:Device:family-household  1.627830  "
      ]
     },
     "execution_count": 36,
     "metadata": {},
     "output_type": "execute_result"
    }
   ],
   "source": [
    "data.head()"
   ]
  },
  {
   "cell_type": "code",
   "execution_count": 46,
   "id": "17c7977f",
   "metadata": {},
   "outputs": [],
   "source": [
    "train = df.iloc[:-90]\n",
    "test = df.iloc[-90:]"
   ]
  },
  {
   "cell_type": "code",
   "execution_count": 48,
   "id": "5f8a3d20",
   "metadata": {},
   "outputs": [
    {
     "data": {
      "application/vnd.microsoft.datawrangler.viewer.v0+json": {
       "columns": [
        {
         "name": "date",
         "rawType": "datetime64[ns]",
         "type": "datetime"
        },
        {
         "name": "id",
         "rawType": "int64",
         "type": "integer"
        },
        {
         "name": "refDevice",
         "rawType": "int64",
         "type": "integer"
        },
        {
         "name": "numValue",
         "rawType": "float64",
         "type": "float"
        },
        {
         "name": "day_of_week",
         "rawType": "int32",
         "type": "integer"
        },
        {
         "name": "month",
         "rawType": "int32",
         "type": "integer"
        },
        {
         "name": "day",
         "rawType": "int32",
         "type": "integer"
        },
        {
         "name": "is_weekend",
         "rawType": "int64",
         "type": "integer"
        },
        {
         "name": "date",
         "rawType": "datetime64[ns]",
         "type": "datetime"
        },
        {
         "name": "lag_1",
         "rawType": "float64",
         "type": "float"
        },
        {
         "name": "lag_2",
         "rawType": "float64",
         "type": "float"
        },
        {
         "name": "lag_3",
         "rawType": "float64",
         "type": "float"
        },
        {
         "name": "lag_7",
         "rawType": "float64",
         "type": "float"
        },
        {
         "name": "lag_14",
         "rawType": "float64",
         "type": "float"
        },
        {
         "name": "lag_30",
         "rawType": "float64",
         "type": "float"
        }
       ],
       "conversionMethod": "pd.DataFrame",
       "ref": "466aca83-f70b-4b59-a133-17f893886916",
       "rows": [
        [
         "2021-05-26 07:00:00",
         "52540",
         "3",
         "0.288367281852748",
         "2",
         "5",
         "26",
         "0",
         "2021-05-26 07:00:00",
         "3.7862188427095953",
         "1.593112762893604",
         "0.864182902267384",
         "2.98978413066035",
         "1.480329028784385",
         "0.41388418402439403"
        ],
        [
         "2021-05-26 07:00:00",
         "0",
         "0",
         "0.528803788682612",
         "2",
         "5",
         "26",
         "0",
         "2021-05-26 07:00:00",
         "0.288367281852748",
         "3.7862188427095953",
         "1.593112762893604",
         "0.82162254234548",
         "0.7371057321763611",
         "0.10098931436233301"
        ],
        [
         "2021-05-26 08:00:00",
         "17514",
         "1",
         "3.000679551242494",
         "2",
         "5",
         "26",
         "0",
         "2021-05-26 08:00:00",
         "0.528803788682612",
         "0.288367281852748",
         "3.7862188427095953",
         "1.6606154155514812",
         "1.153246586982578",
         "0.268110301434908"
        ],
        [
         "2021-05-26 08:00:00",
         "52541",
         "3",
         "0.25717075819843804",
         "2",
         "5",
         "26",
         "0",
         "2021-05-26 08:00:00",
         "3.000679551242494",
         "0.528803788682612",
         "0.288367281852748",
         "3.419063513358504",
         "1.627830260542362",
         "0.44168653231229005"
        ],
        [
         "2021-05-26 08:00:00",
         "35027",
         "2",
         "1.513051486550542",
         "2",
         "5",
         "26",
         "0",
         "2021-05-26 08:00:00",
         "0.25717075819843804",
         "3.000679551242494",
         "0.528803788682612",
         "0.864182902267384",
         "0.909068217378665",
         "0.123076426040885"
        ]
       ],
       "shape": {
        "columns": 14,
        "rows": 5
       }
      },
      "text/html": [
       "<div>\n",
       "<style scoped>\n",
       "    .dataframe tbody tr th:only-of-type {\n",
       "        vertical-align: middle;\n",
       "    }\n",
       "\n",
       "    .dataframe tbody tr th {\n",
       "        vertical-align: top;\n",
       "    }\n",
       "\n",
       "    .dataframe thead th {\n",
       "        text-align: right;\n",
       "    }\n",
       "</style>\n",
       "<table border=\"1\" class=\"dataframe\">\n",
       "  <thead>\n",
       "    <tr style=\"text-align: right;\">\n",
       "      <th></th>\n",
       "      <th>id</th>\n",
       "      <th>refDevice</th>\n",
       "      <th>numValue</th>\n",
       "      <th>day_of_week</th>\n",
       "      <th>month</th>\n",
       "      <th>day</th>\n",
       "      <th>is_weekend</th>\n",
       "      <th>date</th>\n",
       "      <th>lag_1</th>\n",
       "      <th>lag_2</th>\n",
       "      <th>lag_3</th>\n",
       "      <th>lag_7</th>\n",
       "      <th>lag_14</th>\n",
       "      <th>lag_30</th>\n",
       "    </tr>\n",
       "    <tr>\n",
       "      <th>date</th>\n",
       "      <th></th>\n",
       "      <th></th>\n",
       "      <th></th>\n",
       "      <th></th>\n",
       "      <th></th>\n",
       "      <th></th>\n",
       "      <th></th>\n",
       "      <th></th>\n",
       "      <th></th>\n",
       "      <th></th>\n",
       "      <th></th>\n",
       "      <th></th>\n",
       "      <th></th>\n",
       "      <th></th>\n",
       "    </tr>\n",
       "  </thead>\n",
       "  <tbody>\n",
       "    <tr>\n",
       "      <th>2021-05-26 07:00:00</th>\n",
       "      <td>52540</td>\n",
       "      <td>3</td>\n",
       "      <td>0.288367</td>\n",
       "      <td>2</td>\n",
       "      <td>5</td>\n",
       "      <td>26</td>\n",
       "      <td>0</td>\n",
       "      <td>2021-05-26 07:00:00</td>\n",
       "      <td>3.786219</td>\n",
       "      <td>1.593113</td>\n",
       "      <td>0.864183</td>\n",
       "      <td>2.989784</td>\n",
       "      <td>1.480329</td>\n",
       "      <td>0.413884</td>\n",
       "    </tr>\n",
       "    <tr>\n",
       "      <th>2021-05-26 07:00:00</th>\n",
       "      <td>0</td>\n",
       "      <td>0</td>\n",
       "      <td>0.528804</td>\n",
       "      <td>2</td>\n",
       "      <td>5</td>\n",
       "      <td>26</td>\n",
       "      <td>0</td>\n",
       "      <td>2021-05-26 07:00:00</td>\n",
       "      <td>0.288367</td>\n",
       "      <td>3.786219</td>\n",
       "      <td>1.593113</td>\n",
       "      <td>0.821623</td>\n",
       "      <td>0.737106</td>\n",
       "      <td>0.100989</td>\n",
       "    </tr>\n",
       "    <tr>\n",
       "      <th>2021-05-26 08:00:00</th>\n",
       "      <td>17514</td>\n",
       "      <td>1</td>\n",
       "      <td>3.000680</td>\n",
       "      <td>2</td>\n",
       "      <td>5</td>\n",
       "      <td>26</td>\n",
       "      <td>0</td>\n",
       "      <td>2021-05-26 08:00:00</td>\n",
       "      <td>0.528804</td>\n",
       "      <td>0.288367</td>\n",
       "      <td>3.786219</td>\n",
       "      <td>1.660615</td>\n",
       "      <td>1.153247</td>\n",
       "      <td>0.268110</td>\n",
       "    </tr>\n",
       "    <tr>\n",
       "      <th>2021-05-26 08:00:00</th>\n",
       "      <td>52541</td>\n",
       "      <td>3</td>\n",
       "      <td>0.257171</td>\n",
       "      <td>2</td>\n",
       "      <td>5</td>\n",
       "      <td>26</td>\n",
       "      <td>0</td>\n",
       "      <td>2021-05-26 08:00:00</td>\n",
       "      <td>3.000680</td>\n",
       "      <td>0.528804</td>\n",
       "      <td>0.288367</td>\n",
       "      <td>3.419064</td>\n",
       "      <td>1.627830</td>\n",
       "      <td>0.441687</td>\n",
       "    </tr>\n",
       "    <tr>\n",
       "      <th>2021-05-26 08:00:00</th>\n",
       "      <td>35027</td>\n",
       "      <td>2</td>\n",
       "      <td>1.513051</td>\n",
       "      <td>2</td>\n",
       "      <td>5</td>\n",
       "      <td>26</td>\n",
       "      <td>0</td>\n",
       "      <td>2021-05-26 08:00:00</td>\n",
       "      <td>0.257171</td>\n",
       "      <td>3.000680</td>\n",
       "      <td>0.528804</td>\n",
       "      <td>0.864183</td>\n",
       "      <td>0.909068</td>\n",
       "      <td>0.123076</td>\n",
       "    </tr>\n",
       "  </tbody>\n",
       "</table>\n",
       "</div>"
      ],
      "text/plain": [
       "                        id  refDevice  numValue  day_of_week  month  day  \\\n",
       "date                                                                       \n",
       "2021-05-26 07:00:00  52540          3  0.288367            2      5   26   \n",
       "2021-05-26 07:00:00      0          0  0.528804            2      5   26   \n",
       "2021-05-26 08:00:00  17514          1  3.000680            2      5   26   \n",
       "2021-05-26 08:00:00  52541          3  0.257171            2      5   26   \n",
       "2021-05-26 08:00:00  35027          2  1.513051            2      5   26   \n",
       "\n",
       "                     is_weekend                date     lag_1     lag_2  \\\n",
       "date                                                                      \n",
       "2021-05-26 07:00:00           0 2021-05-26 07:00:00  3.786219  1.593113   \n",
       "2021-05-26 07:00:00           0 2021-05-26 07:00:00  0.288367  3.786219   \n",
       "2021-05-26 08:00:00           0 2021-05-26 08:00:00  0.528804  0.288367   \n",
       "2021-05-26 08:00:00           0 2021-05-26 08:00:00  3.000680  0.528804   \n",
       "2021-05-26 08:00:00           0 2021-05-26 08:00:00  0.257171  3.000680   \n",
       "\n",
       "                        lag_3     lag_7    lag_14    lag_30  \n",
       "date                                                         \n",
       "2021-05-26 07:00:00  0.864183  2.989784  1.480329  0.413884  \n",
       "2021-05-26 07:00:00  1.593113  0.821623  0.737106  0.100989  \n",
       "2021-05-26 08:00:00  3.786219  1.660615  1.153247  0.268110  \n",
       "2021-05-26 08:00:00  0.288367  3.419064  1.627830  0.441687  \n",
       "2021-05-26 08:00:00  0.528804  0.864183  0.909068  0.123076  "
      ]
     },
     "execution_count": 48,
     "metadata": {},
     "output_type": "execute_result"
    }
   ],
   "source": [
    "train.head()"
   ]
  },
  {
   "cell_type": "code",
   "execution_count": 47,
   "id": "e793cfe2",
   "metadata": {},
   "outputs": [
    {
     "ename": "ValueError",
     "evalue": "DataFrame.dtypes for data must be int, float, bool or category. When categorical type is supplied, the experimental DMatrix parameter`enable_categorical` must be set to `True`.  Invalid columns:date: datetime64[ns]",
     "output_type": "error",
     "traceback": [
      "\u001b[0;31m---------------------------------------------------------------------------\u001b[0m",
      "\u001b[0;31mKeyError\u001b[0m                                  Traceback (most recent call last)",
      "File \u001b[0;32m~/anaconda3/lib/python3.12/site-packages/xgboost/data.py:407\u001b[0m, in \u001b[0;36mpandas_feature_info\u001b[0;34m(data, meta, feature_names, feature_types, enable_categorical)\u001b[0m\n\u001b[1;32m    406\u001b[0m \u001b[38;5;28;01mtry\u001b[39;00m:\n\u001b[0;32m--> 407\u001b[0m     new_feature_types\u001b[38;5;241m.\u001b[39mappend(_pandas_dtype_mapper[dtype\u001b[38;5;241m.\u001b[39mname])\n\u001b[1;32m    408\u001b[0m \u001b[38;5;28;01mexcept\u001b[39;00m \u001b[38;5;167;01mKeyError\u001b[39;00m:\n",
      "\u001b[0;31mKeyError\u001b[0m: 'datetime64[ns]'",
      "\nDuring handling of the above exception, another exception occurred:\n",
      "\u001b[0;31mValueError\u001b[0m                                Traceback (most recent call last)",
      "Cell \u001b[0;32mIn[47], line 41\u001b[0m\n\u001b[1;32m     39\u001b[0m \u001b[38;5;66;03m# 9. Fit model\u001b[39;00m\n\u001b[1;32m     40\u001b[0m model \u001b[38;5;241m=\u001b[39m XGBRegressor(n_estimators\u001b[38;5;241m=\u001b[39m\u001b[38;5;241m50\u001b[39m, learning_rate\u001b[38;5;241m=\u001b[39m\u001b[38;5;241m0.1\u001b[39m)\n\u001b[0;32m---> 41\u001b[0m model\u001b[38;5;241m.\u001b[39mfit(X_train, y_train)\n\u001b[1;32m     43\u001b[0m \u001b[38;5;66;03m# 10. Predict\u001b[39;00m\n\u001b[1;32m     44\u001b[0m y_pred \u001b[38;5;241m=\u001b[39m model\u001b[38;5;241m.\u001b[39mpredict(X_test)\n",
      "File \u001b[0;32m~/anaconda3/lib/python3.12/site-packages/xgboost/core.py:729\u001b[0m, in \u001b[0;36mrequire_keyword_args.<locals>.throw_if.<locals>.inner_f\u001b[0;34m(*args, **kwargs)\u001b[0m\n\u001b[1;32m    727\u001b[0m \u001b[38;5;28;01mfor\u001b[39;00m k, arg \u001b[38;5;129;01min\u001b[39;00m \u001b[38;5;28mzip\u001b[39m(sig\u001b[38;5;241m.\u001b[39mparameters, args):\n\u001b[1;32m    728\u001b[0m     kwargs[k] \u001b[38;5;241m=\u001b[39m arg\n\u001b[0;32m--> 729\u001b[0m \u001b[38;5;28;01mreturn\u001b[39;00m func(\u001b[38;5;241m*\u001b[39m\u001b[38;5;241m*\u001b[39mkwargs)\n",
      "File \u001b[0;32m~/anaconda3/lib/python3.12/site-packages/xgboost/sklearn.py:1222\u001b[0m, in \u001b[0;36mXGBModel.fit\u001b[0;34m(self, X, y, sample_weight, base_margin, eval_set, verbose, xgb_model, sample_weight_eval_set, base_margin_eval_set, feature_weights)\u001b[0m\n\u001b[1;32m   1217\u001b[0m model, metric, params, feature_weights \u001b[38;5;241m=\u001b[39m \u001b[38;5;28mself\u001b[39m\u001b[38;5;241m.\u001b[39m_configure_fit(\n\u001b[1;32m   1218\u001b[0m     xgb_model, params, feature_weights\n\u001b[1;32m   1219\u001b[0m )\n\u001b[1;32m   1221\u001b[0m evals_result: TrainingCallback\u001b[38;5;241m.\u001b[39mEvalsLog \u001b[38;5;241m=\u001b[39m {}\n\u001b[0;32m-> 1222\u001b[0m train_dmatrix, evals \u001b[38;5;241m=\u001b[39m _wrap_evaluation_matrices(\n\u001b[1;32m   1223\u001b[0m     missing\u001b[38;5;241m=\u001b[39m\u001b[38;5;28mself\u001b[39m\u001b[38;5;241m.\u001b[39mmissing,\n\u001b[1;32m   1224\u001b[0m     X\u001b[38;5;241m=\u001b[39mX,\n\u001b[1;32m   1225\u001b[0m     y\u001b[38;5;241m=\u001b[39my,\n\u001b[1;32m   1226\u001b[0m     group\u001b[38;5;241m=\u001b[39m\u001b[38;5;28;01mNone\u001b[39;00m,\n\u001b[1;32m   1227\u001b[0m     qid\u001b[38;5;241m=\u001b[39m\u001b[38;5;28;01mNone\u001b[39;00m,\n\u001b[1;32m   1228\u001b[0m     sample_weight\u001b[38;5;241m=\u001b[39msample_weight,\n\u001b[1;32m   1229\u001b[0m     base_margin\u001b[38;5;241m=\u001b[39mbase_margin,\n\u001b[1;32m   1230\u001b[0m     feature_weights\u001b[38;5;241m=\u001b[39mfeature_weights,\n\u001b[1;32m   1231\u001b[0m     eval_set\u001b[38;5;241m=\u001b[39meval_set,\n\u001b[1;32m   1232\u001b[0m     sample_weight_eval_set\u001b[38;5;241m=\u001b[39msample_weight_eval_set,\n\u001b[1;32m   1233\u001b[0m     base_margin_eval_set\u001b[38;5;241m=\u001b[39mbase_margin_eval_set,\n\u001b[1;32m   1234\u001b[0m     eval_group\u001b[38;5;241m=\u001b[39m\u001b[38;5;28;01mNone\u001b[39;00m,\n\u001b[1;32m   1235\u001b[0m     eval_qid\u001b[38;5;241m=\u001b[39m\u001b[38;5;28;01mNone\u001b[39;00m,\n\u001b[1;32m   1236\u001b[0m     create_dmatrix\u001b[38;5;241m=\u001b[39m\u001b[38;5;28mself\u001b[39m\u001b[38;5;241m.\u001b[39m_create_dmatrix,\n\u001b[1;32m   1237\u001b[0m     enable_categorical\u001b[38;5;241m=\u001b[39m\u001b[38;5;28mself\u001b[39m\u001b[38;5;241m.\u001b[39menable_categorical,\n\u001b[1;32m   1238\u001b[0m     feature_types\u001b[38;5;241m=\u001b[39m\u001b[38;5;28mself\u001b[39m\u001b[38;5;241m.\u001b[39mfeature_types,\n\u001b[1;32m   1239\u001b[0m )\n\u001b[1;32m   1241\u001b[0m \u001b[38;5;28;01mif\u001b[39;00m \u001b[38;5;28mcallable\u001b[39m(\u001b[38;5;28mself\u001b[39m\u001b[38;5;241m.\u001b[39mobjective):\n\u001b[1;32m   1242\u001b[0m     obj: Optional[Objective] \u001b[38;5;241m=\u001b[39m _objective_decorator(\u001b[38;5;28mself\u001b[39m\u001b[38;5;241m.\u001b[39mobjective)\n",
      "File \u001b[0;32m~/anaconda3/lib/python3.12/site-packages/xgboost/sklearn.py:628\u001b[0m, in \u001b[0;36m_wrap_evaluation_matrices\u001b[0;34m(missing, X, y, group, qid, sample_weight, base_margin, feature_weights, eval_set, sample_weight_eval_set, base_margin_eval_set, eval_group, eval_qid, create_dmatrix, enable_categorical, feature_types)\u001b[0m\n\u001b[1;32m    607\u001b[0m \u001b[38;5;28;01mdef\u001b[39;00m \u001b[38;5;21m_wrap_evaluation_matrices\u001b[39m(\n\u001b[1;32m    608\u001b[0m     \u001b[38;5;241m*\u001b[39m,\n\u001b[1;32m    609\u001b[0m     missing: \u001b[38;5;28mfloat\u001b[39m,\n\u001b[0;32m   (...)\u001b[0m\n\u001b[1;32m    624\u001b[0m     feature_types: Optional[FeatureTypes],\n\u001b[1;32m    625\u001b[0m ) \u001b[38;5;241m-\u001b[39m\u001b[38;5;241m>\u001b[39m Tuple[Any, List[Tuple[Any, \u001b[38;5;28mstr\u001b[39m]]]:\n\u001b[1;32m    626\u001b[0m \u001b[38;5;250m    \u001b[39m\u001b[38;5;124;03m\"\"\"Convert array_like evaluation matrices into DMatrix.  Perform validation on the\u001b[39;00m\n\u001b[1;32m    627\u001b[0m \u001b[38;5;124;03m    way.\"\"\"\u001b[39;00m\n\u001b[0;32m--> 628\u001b[0m     train_dmatrix \u001b[38;5;241m=\u001b[39m create_dmatrix(\n\u001b[1;32m    629\u001b[0m         data\u001b[38;5;241m=\u001b[39mX,\n\u001b[1;32m    630\u001b[0m         label\u001b[38;5;241m=\u001b[39my,\n\u001b[1;32m    631\u001b[0m         group\u001b[38;5;241m=\u001b[39mgroup,\n\u001b[1;32m    632\u001b[0m         qid\u001b[38;5;241m=\u001b[39mqid,\n\u001b[1;32m    633\u001b[0m         weight\u001b[38;5;241m=\u001b[39msample_weight,\n\u001b[1;32m    634\u001b[0m         base_margin\u001b[38;5;241m=\u001b[39mbase_margin,\n\u001b[1;32m    635\u001b[0m         feature_weights\u001b[38;5;241m=\u001b[39mfeature_weights,\n\u001b[1;32m    636\u001b[0m         missing\u001b[38;5;241m=\u001b[39mmissing,\n\u001b[1;32m    637\u001b[0m         enable_categorical\u001b[38;5;241m=\u001b[39menable_categorical,\n\u001b[1;32m    638\u001b[0m         feature_types\u001b[38;5;241m=\u001b[39mfeature_types,\n\u001b[1;32m    639\u001b[0m         ref\u001b[38;5;241m=\u001b[39m\u001b[38;5;28;01mNone\u001b[39;00m,\n\u001b[1;32m    640\u001b[0m     )\n\u001b[1;32m    642\u001b[0m     n_validation \u001b[38;5;241m=\u001b[39m \u001b[38;5;241m0\u001b[39m \u001b[38;5;28;01mif\u001b[39;00m eval_set \u001b[38;5;129;01mis\u001b[39;00m \u001b[38;5;28;01mNone\u001b[39;00m \u001b[38;5;28;01melse\u001b[39;00m \u001b[38;5;28mlen\u001b[39m(eval_set)\n\u001b[1;32m    644\u001b[0m     \u001b[38;5;28;01mdef\u001b[39;00m \u001b[38;5;21mvalidate_or_none\u001b[39m(meta: Optional[Sequence], name: \u001b[38;5;28mstr\u001b[39m) \u001b[38;5;241m-\u001b[39m\u001b[38;5;241m>\u001b[39m Sequence:\n",
      "File \u001b[0;32m~/anaconda3/lib/python3.12/site-packages/xgboost/sklearn.py:1137\u001b[0m, in \u001b[0;36mXGBModel._create_dmatrix\u001b[0;34m(self, ref, **kwargs)\u001b[0m\n\u001b[1;32m   1135\u001b[0m \u001b[38;5;28;01mif\u001b[39;00m _can_use_qdm(\u001b[38;5;28mself\u001b[39m\u001b[38;5;241m.\u001b[39mtree_method, \u001b[38;5;28mself\u001b[39m\u001b[38;5;241m.\u001b[39mdevice) \u001b[38;5;129;01mand\u001b[39;00m \u001b[38;5;28mself\u001b[39m\u001b[38;5;241m.\u001b[39mbooster \u001b[38;5;241m!=\u001b[39m \u001b[38;5;124m\"\u001b[39m\u001b[38;5;124mgblinear\u001b[39m\u001b[38;5;124m\"\u001b[39m:\n\u001b[1;32m   1136\u001b[0m     \u001b[38;5;28;01mtry\u001b[39;00m:\n\u001b[0;32m-> 1137\u001b[0m         \u001b[38;5;28;01mreturn\u001b[39;00m QuantileDMatrix(\n\u001b[1;32m   1138\u001b[0m             \u001b[38;5;241m*\u001b[39m\u001b[38;5;241m*\u001b[39mkwargs, ref\u001b[38;5;241m=\u001b[39mref, nthread\u001b[38;5;241m=\u001b[39m\u001b[38;5;28mself\u001b[39m\u001b[38;5;241m.\u001b[39mn_jobs, max_bin\u001b[38;5;241m=\u001b[39m\u001b[38;5;28mself\u001b[39m\u001b[38;5;241m.\u001b[39mmax_bin\n\u001b[1;32m   1139\u001b[0m         )\n\u001b[1;32m   1140\u001b[0m     \u001b[38;5;28;01mexcept\u001b[39;00m \u001b[38;5;167;01mTypeError\u001b[39;00m:  \u001b[38;5;66;03m# `QuantileDMatrix` supports lesser types than DMatrix\u001b[39;00m\n\u001b[1;32m   1141\u001b[0m         \u001b[38;5;28;01mpass\u001b[39;00m\n",
      "File \u001b[0;32m~/anaconda3/lib/python3.12/site-packages/xgboost/core.py:729\u001b[0m, in \u001b[0;36mrequire_keyword_args.<locals>.throw_if.<locals>.inner_f\u001b[0;34m(*args, **kwargs)\u001b[0m\n\u001b[1;32m    727\u001b[0m \u001b[38;5;28;01mfor\u001b[39;00m k, arg \u001b[38;5;129;01min\u001b[39;00m \u001b[38;5;28mzip\u001b[39m(sig\u001b[38;5;241m.\u001b[39mparameters, args):\n\u001b[1;32m    728\u001b[0m     kwargs[k] \u001b[38;5;241m=\u001b[39m arg\n\u001b[0;32m--> 729\u001b[0m \u001b[38;5;28;01mreturn\u001b[39;00m func(\u001b[38;5;241m*\u001b[39m\u001b[38;5;241m*\u001b[39mkwargs)\n",
      "File \u001b[0;32m~/anaconda3/lib/python3.12/site-packages/xgboost/core.py:1614\u001b[0m, in \u001b[0;36mQuantileDMatrix.__init__\u001b[0;34m(self, data, label, weight, base_margin, missing, silent, feature_names, feature_types, nthread, max_bin, ref, group, qid, label_lower_bound, label_upper_bound, feature_weights, enable_categorical, max_quantile_batches, data_split_mode)\u001b[0m\n\u001b[1;32m   1594\u001b[0m     \u001b[38;5;28;01mif\u001b[39;00m \u001b[38;5;28many\u001b[39m(\n\u001b[1;32m   1595\u001b[0m         info \u001b[38;5;129;01mis\u001b[39;00m \u001b[38;5;129;01mnot\u001b[39;00m \u001b[38;5;28;01mNone\u001b[39;00m\n\u001b[1;32m   1596\u001b[0m         \u001b[38;5;28;01mfor\u001b[39;00m info \u001b[38;5;129;01min\u001b[39;00m (\n\u001b[0;32m   (...)\u001b[0m\n\u001b[1;32m   1607\u001b[0m         )\n\u001b[1;32m   1608\u001b[0m     ):\n\u001b[1;32m   1609\u001b[0m         \u001b[38;5;28;01mraise\u001b[39;00m \u001b[38;5;167;01mValueError\u001b[39;00m(\n\u001b[1;32m   1610\u001b[0m             \u001b[38;5;124m\"\u001b[39m\u001b[38;5;124mIf data iterator is used as input, data like label should be \u001b[39m\u001b[38;5;124m\"\u001b[39m\n\u001b[1;32m   1611\u001b[0m             \u001b[38;5;124m\"\u001b[39m\u001b[38;5;124mspecified as batch argument.\u001b[39m\u001b[38;5;124m\"\u001b[39m\n\u001b[1;32m   1612\u001b[0m         )\n\u001b[0;32m-> 1614\u001b[0m \u001b[38;5;28mself\u001b[39m\u001b[38;5;241m.\u001b[39m_init(\n\u001b[1;32m   1615\u001b[0m     data,\n\u001b[1;32m   1616\u001b[0m     ref\u001b[38;5;241m=\u001b[39mref,\n\u001b[1;32m   1617\u001b[0m     label\u001b[38;5;241m=\u001b[39mlabel,\n\u001b[1;32m   1618\u001b[0m     weight\u001b[38;5;241m=\u001b[39mweight,\n\u001b[1;32m   1619\u001b[0m     base_margin\u001b[38;5;241m=\u001b[39mbase_margin,\n\u001b[1;32m   1620\u001b[0m     group\u001b[38;5;241m=\u001b[39mgroup,\n\u001b[1;32m   1621\u001b[0m     qid\u001b[38;5;241m=\u001b[39mqid,\n\u001b[1;32m   1622\u001b[0m     label_lower_bound\u001b[38;5;241m=\u001b[39mlabel_lower_bound,\n\u001b[1;32m   1623\u001b[0m     label_upper_bound\u001b[38;5;241m=\u001b[39mlabel_upper_bound,\n\u001b[1;32m   1624\u001b[0m     feature_weights\u001b[38;5;241m=\u001b[39mfeature_weights,\n\u001b[1;32m   1625\u001b[0m     feature_names\u001b[38;5;241m=\u001b[39mfeature_names,\n\u001b[1;32m   1626\u001b[0m     feature_types\u001b[38;5;241m=\u001b[39mfeature_types,\n\u001b[1;32m   1627\u001b[0m     enable_categorical\u001b[38;5;241m=\u001b[39menable_categorical,\n\u001b[1;32m   1628\u001b[0m     max_quantile_blocks\u001b[38;5;241m=\u001b[39mmax_quantile_batches,\n\u001b[1;32m   1629\u001b[0m )\n",
      "File \u001b[0;32m~/anaconda3/lib/python3.12/site-packages/xgboost/core.py:1678\u001b[0m, in \u001b[0;36mQuantileDMatrix._init\u001b[0;34m(self, data, ref, enable_categorical, max_quantile_blocks, **meta)\u001b[0m\n\u001b[1;32m   1663\u001b[0m config \u001b[38;5;241m=\u001b[39m make_jcargs(\n\u001b[1;32m   1664\u001b[0m     nthread\u001b[38;5;241m=\u001b[39m\u001b[38;5;28mself\u001b[39m\u001b[38;5;241m.\u001b[39mnthread,\n\u001b[1;32m   1665\u001b[0m     missing\u001b[38;5;241m=\u001b[39m\u001b[38;5;28mself\u001b[39m\u001b[38;5;241m.\u001b[39mmissing,\n\u001b[1;32m   1666\u001b[0m     max_bin\u001b[38;5;241m=\u001b[39m\u001b[38;5;28mself\u001b[39m\u001b[38;5;241m.\u001b[39mmax_bin,\n\u001b[1;32m   1667\u001b[0m     max_quantile_blocks\u001b[38;5;241m=\u001b[39mmax_quantile_blocks,\n\u001b[1;32m   1668\u001b[0m )\n\u001b[1;32m   1669\u001b[0m ret \u001b[38;5;241m=\u001b[39m _LIB\u001b[38;5;241m.\u001b[39mXGQuantileDMatrixCreateFromCallback(\n\u001b[1;32m   1670\u001b[0m     \u001b[38;5;28;01mNone\u001b[39;00m,\n\u001b[1;32m   1671\u001b[0m     it\u001b[38;5;241m.\u001b[39mproxy\u001b[38;5;241m.\u001b[39mhandle,\n\u001b[0;32m   (...)\u001b[0m\n\u001b[1;32m   1676\u001b[0m     ctypes\u001b[38;5;241m.\u001b[39mbyref(handle),\n\u001b[1;32m   1677\u001b[0m )\n\u001b[0;32m-> 1678\u001b[0m it\u001b[38;5;241m.\u001b[39mreraise()\n\u001b[1;32m   1679\u001b[0m \u001b[38;5;66;03m# delay check_call to throw intermediate exception first\u001b[39;00m\n\u001b[1;32m   1680\u001b[0m _check_call(ret)\n",
      "File \u001b[0;32m~/anaconda3/lib/python3.12/site-packages/xgboost/core.py:572\u001b[0m, in \u001b[0;36mDataIter.reraise\u001b[0;34m(self)\u001b[0m\n\u001b[1;32m    570\u001b[0m exc \u001b[38;5;241m=\u001b[39m \u001b[38;5;28mself\u001b[39m\u001b[38;5;241m.\u001b[39m_exception\n\u001b[1;32m    571\u001b[0m \u001b[38;5;28mself\u001b[39m\u001b[38;5;241m.\u001b[39m_exception \u001b[38;5;241m=\u001b[39m \u001b[38;5;28;01mNone\u001b[39;00m\n\u001b[0;32m--> 572\u001b[0m \u001b[38;5;28;01mraise\u001b[39;00m exc\n",
      "File \u001b[0;32m~/anaconda3/lib/python3.12/site-packages/xgboost/core.py:553\u001b[0m, in \u001b[0;36mDataIter._handle_exception\u001b[0;34m(self, fn, dft_ret)\u001b[0m\n\u001b[1;32m    550\u001b[0m     \u001b[38;5;28;01mreturn\u001b[39;00m dft_ret\n\u001b[1;32m    552\u001b[0m \u001b[38;5;28;01mtry\u001b[39;00m:\n\u001b[0;32m--> 553\u001b[0m     \u001b[38;5;28;01mreturn\u001b[39;00m fn()\n\u001b[1;32m    554\u001b[0m \u001b[38;5;28;01mexcept\u001b[39;00m \u001b[38;5;167;01mException\u001b[39;00m \u001b[38;5;28;01mas\u001b[39;00m e:  \u001b[38;5;66;03m# pylint: disable=broad-except\u001b[39;00m\n\u001b[1;32m    555\u001b[0m     \u001b[38;5;66;03m# Defer the exception in order to return 0 and stop the iteration.\u001b[39;00m\n\u001b[1;32m    556\u001b[0m     \u001b[38;5;66;03m# Exception inside a ctype callback function has no effect except\u001b[39;00m\n\u001b[1;32m    557\u001b[0m     \u001b[38;5;66;03m# for printing to stderr (doesn't stop the execution).\u001b[39;00m\n\u001b[1;32m    558\u001b[0m     tb \u001b[38;5;241m=\u001b[39m sys\u001b[38;5;241m.\u001b[39mexc_info()[\u001b[38;5;241m2\u001b[39m]\n",
      "File \u001b[0;32m~/anaconda3/lib/python3.12/site-packages/xgboost/core.py:640\u001b[0m, in \u001b[0;36mDataIter._next_wrapper.<locals>.<lambda>\u001b[0;34m()\u001b[0m\n\u001b[1;32m    638\u001b[0m     \u001b[38;5;28mself\u001b[39m\u001b[38;5;241m.\u001b[39m_temporary_data \u001b[38;5;241m=\u001b[39m \u001b[38;5;28;01mNone\u001b[39;00m\n\u001b[1;32m    639\u001b[0m \u001b[38;5;66;03m# pylint: disable=not-callable\u001b[39;00m\n\u001b[0;32m--> 640\u001b[0m \u001b[38;5;28;01mreturn\u001b[39;00m \u001b[38;5;28mself\u001b[39m\u001b[38;5;241m.\u001b[39m_handle_exception(\u001b[38;5;28;01mlambda\u001b[39;00m: \u001b[38;5;28mint\u001b[39m(\u001b[38;5;28mself\u001b[39m\u001b[38;5;241m.\u001b[39mnext(input_data)), \u001b[38;5;241m0\u001b[39m)\n",
      "File \u001b[0;32m~/anaconda3/lib/python3.12/site-packages/xgboost/data.py:1654\u001b[0m, in \u001b[0;36mSingleBatchInternalIter.next\u001b[0;34m(self, input_data)\u001b[0m\n\u001b[1;32m   1652\u001b[0m     \u001b[38;5;28;01mreturn\u001b[39;00m \u001b[38;5;28;01mFalse\u001b[39;00m\n\u001b[1;32m   1653\u001b[0m \u001b[38;5;28mself\u001b[39m\u001b[38;5;241m.\u001b[39mit \u001b[38;5;241m+\u001b[39m\u001b[38;5;241m=\u001b[39m \u001b[38;5;241m1\u001b[39m\n\u001b[0;32m-> 1654\u001b[0m input_data(\u001b[38;5;241m*\u001b[39m\u001b[38;5;241m*\u001b[39m\u001b[38;5;28mself\u001b[39m\u001b[38;5;241m.\u001b[39mkwargs)\n\u001b[1;32m   1655\u001b[0m \u001b[38;5;28;01mreturn\u001b[39;00m \u001b[38;5;28;01mTrue\u001b[39;00m\n",
      "File \u001b[0;32m~/anaconda3/lib/python3.12/site-packages/xgboost/core.py:729\u001b[0m, in \u001b[0;36mrequire_keyword_args.<locals>.throw_if.<locals>.inner_f\u001b[0;34m(*args, **kwargs)\u001b[0m\n\u001b[1;32m    727\u001b[0m \u001b[38;5;28;01mfor\u001b[39;00m k, arg \u001b[38;5;129;01min\u001b[39;00m \u001b[38;5;28mzip\u001b[39m(sig\u001b[38;5;241m.\u001b[39mparameters, args):\n\u001b[1;32m    728\u001b[0m     kwargs[k] \u001b[38;5;241m=\u001b[39m arg\n\u001b[0;32m--> 729\u001b[0m \u001b[38;5;28;01mreturn\u001b[39;00m func(\u001b[38;5;241m*\u001b[39m\u001b[38;5;241m*\u001b[39mkwargs)\n",
      "File \u001b[0;32m~/anaconda3/lib/python3.12/site-packages/xgboost/core.py:620\u001b[0m, in \u001b[0;36mDataIter._next_wrapper.<locals>.input_data\u001b[0;34m(data, feature_names, feature_types, **kwargs)\u001b[0m\n\u001b[1;32m    618\u001b[0m     new, cat_codes, feature_names, feature_types \u001b[38;5;241m=\u001b[39m \u001b[38;5;28mself\u001b[39m\u001b[38;5;241m.\u001b[39m_temporary_data\n\u001b[1;32m    619\u001b[0m \u001b[38;5;28;01melse\u001b[39;00m:\n\u001b[0;32m--> 620\u001b[0m     new, cat_codes, feature_names, feature_types \u001b[38;5;241m=\u001b[39m _proxy_transform(\n\u001b[1;32m    621\u001b[0m         data,\n\u001b[1;32m    622\u001b[0m         feature_names,\n\u001b[1;32m    623\u001b[0m         feature_types,\n\u001b[1;32m    624\u001b[0m         \u001b[38;5;28mself\u001b[39m\u001b[38;5;241m.\u001b[39m_enable_categorical,\n\u001b[1;32m    625\u001b[0m     )\n\u001b[1;32m    626\u001b[0m \u001b[38;5;66;03m# Stage the data, meta info are copied inside C++ MetaInfo.\u001b[39;00m\n\u001b[1;32m    627\u001b[0m \u001b[38;5;28mself\u001b[39m\u001b[38;5;241m.\u001b[39m_temporary_data \u001b[38;5;241m=\u001b[39m (new, cat_codes, feature_names, feature_types)\n",
      "File \u001b[0;32m~/anaconda3/lib/python3.12/site-packages/xgboost/data.py:1707\u001b[0m, in \u001b[0;36m_proxy_transform\u001b[0;34m(data, feature_names, feature_types, enable_categorical)\u001b[0m\n\u001b[1;32m   1705\u001b[0m     \u001b[38;5;28;01mreturn\u001b[39;00m df_pa, \u001b[38;5;28;01mNone\u001b[39;00m, feature_names, feature_types\n\u001b[1;32m   1706\u001b[0m \u001b[38;5;28;01mif\u001b[39;00m _is_pandas_df(data):\n\u001b[0;32m-> 1707\u001b[0m     df, feature_names, feature_types \u001b[38;5;241m=\u001b[39m _transform_pandas_df(\n\u001b[1;32m   1708\u001b[0m         data, enable_categorical, feature_names, feature_types\n\u001b[1;32m   1709\u001b[0m     )\n\u001b[1;32m   1710\u001b[0m     \u001b[38;5;28;01mreturn\u001b[39;00m df, \u001b[38;5;28;01mNone\u001b[39;00m, feature_names, feature_types\n\u001b[1;32m   1711\u001b[0m \u001b[38;5;28;01mraise\u001b[39;00m \u001b[38;5;167;01mTypeError\u001b[39;00m(\u001b[38;5;124m\"\u001b[39m\u001b[38;5;124mValue type is not supported for data iterator:\u001b[39m\u001b[38;5;124m\"\u001b[39m \u001b[38;5;241m+\u001b[39m \u001b[38;5;28mstr\u001b[39m(\u001b[38;5;28mtype\u001b[39m(data)))\n",
      "File \u001b[0;32m~/anaconda3/lib/python3.12/site-packages/xgboost/data.py:640\u001b[0m, in \u001b[0;36m_transform_pandas_df\u001b[0;34m(data, enable_categorical, feature_names, feature_types, meta)\u001b[0m\n\u001b[1;32m    637\u001b[0m \u001b[38;5;28;01mif\u001b[39;00m meta \u001b[38;5;129;01mand\u001b[39;00m \u001b[38;5;28mlen\u001b[39m(data\u001b[38;5;241m.\u001b[39mcolumns) \u001b[38;5;241m>\u001b[39m \u001b[38;5;241m1\u001b[39m \u001b[38;5;129;01mand\u001b[39;00m meta \u001b[38;5;129;01mnot\u001b[39;00m \u001b[38;5;129;01min\u001b[39;00m _matrix_meta:\n\u001b[1;32m    638\u001b[0m     \u001b[38;5;28;01mraise\u001b[39;00m \u001b[38;5;167;01mValueError\u001b[39;00m(\u001b[38;5;124mf\u001b[39m\u001b[38;5;124m\"\u001b[39m\u001b[38;5;124mDataFrame for \u001b[39m\u001b[38;5;132;01m{\u001b[39;00mmeta\u001b[38;5;132;01m}\u001b[39;00m\u001b[38;5;124m cannot have multiple columns\u001b[39m\u001b[38;5;124m\"\u001b[39m)\n\u001b[0;32m--> 640\u001b[0m feature_names, feature_types \u001b[38;5;241m=\u001b[39m pandas_feature_info(\n\u001b[1;32m    641\u001b[0m     data, meta, feature_names, feature_types, enable_categorical\n\u001b[1;32m    642\u001b[0m )\n\u001b[1;32m    644\u001b[0m arrays \u001b[38;5;241m=\u001b[39m pandas_transform_data(data)\n\u001b[1;32m    645\u001b[0m \u001b[38;5;28;01mreturn\u001b[39;00m PandasTransformed(arrays), feature_names, feature_types\n",
      "File \u001b[0;32m~/anaconda3/lib/python3.12/site-packages/xgboost/data.py:409\u001b[0m, in \u001b[0;36mpandas_feature_info\u001b[0;34m(data, meta, feature_names, feature_types, enable_categorical)\u001b[0m\n\u001b[1;32m    407\u001b[0m             new_feature_types\u001b[38;5;241m.\u001b[39mappend(_pandas_dtype_mapper[dtype\u001b[38;5;241m.\u001b[39mname])\n\u001b[1;32m    408\u001b[0m         \u001b[38;5;28;01mexcept\u001b[39;00m \u001b[38;5;167;01mKeyError\u001b[39;00m:\n\u001b[0;32m--> 409\u001b[0m             _invalid_dataframe_dtype(data)\n\u001b[1;32m    411\u001b[0m \u001b[38;5;28;01mif\u001b[39;00m feature_types \u001b[38;5;129;01mis\u001b[39;00m \u001b[38;5;28;01mNone\u001b[39;00m \u001b[38;5;129;01mand\u001b[39;00m meta \u001b[38;5;129;01mis\u001b[39;00m \u001b[38;5;28;01mNone\u001b[39;00m:\n\u001b[1;32m    412\u001b[0m     feature_types \u001b[38;5;241m=\u001b[39m new_feature_types\n",
      "File \u001b[0;32m~/anaconda3/lib/python3.12/site-packages/xgboost/data.py:372\u001b[0m, in \u001b[0;36m_invalid_dataframe_dtype\u001b[0;34m(data)\u001b[0m\n\u001b[1;32m    370\u001b[0m type_err \u001b[38;5;241m=\u001b[39m \u001b[38;5;124m\"\u001b[39m\u001b[38;5;124mDataFrame.dtypes for data must be int, float, bool or category.\u001b[39m\u001b[38;5;124m\"\u001b[39m\n\u001b[1;32m    371\u001b[0m msg \u001b[38;5;241m=\u001b[39m \u001b[38;5;124mf\u001b[39m\u001b[38;5;124m\"\"\"\u001b[39m\u001b[38;5;132;01m{\u001b[39;00mtype_err\u001b[38;5;132;01m}\u001b[39;00m\u001b[38;5;124m \u001b[39m\u001b[38;5;132;01m{\u001b[39;00m_ENABLE_CAT_ERR\u001b[38;5;132;01m}\u001b[39;00m\u001b[38;5;124m \u001b[39m\u001b[38;5;132;01m{\u001b[39;00merr\u001b[38;5;132;01m}\u001b[39;00m\u001b[38;5;124m\"\"\"\u001b[39m\n\u001b[0;32m--> 372\u001b[0m \u001b[38;5;28;01mraise\u001b[39;00m \u001b[38;5;167;01mValueError\u001b[39;00m(msg)\n",
      "\u001b[0;31mValueError\u001b[0m: DataFrame.dtypes for data must be int, float, bool or category. When categorical type is supplied, the experimental DMatrix parameter`enable_categorical` must be set to `True`.  Invalid columns:date: datetime64[ns]"
     ]
    }
   ],
   "source": [
    "import pandas as pd\n",
    "import numpy as np\n",
    "import matplotlib.pyplot as plt\n",
    "from xgboost import XGBRegressor\n",
    "from sklearn.metrics import mean_absolute_error, mean_squared_error\n",
    "from sklearn.preprocessing import LabelEncoder\n",
    "\n",
    "# df['date'] = pd.to_datetime(df['dateObserved'])\n",
    "\n",
    "# df.drop(['dateObserved'],axis=1,inplace=True)\n",
    "\n",
    "# 2. Set date as index and sort\n",
    "#df = df.sort_values('date').set_index('date')\n",
    "\n",
    "# 4. Create time features\n",
    "df['day_of_week'] = df.index.dayofweek\n",
    "df['month'] = df.index.month\n",
    "df['day'] = df.index.day\n",
    "df['is_weekend'] = (df.index.dayofweek >= 5).astype(int)\n",
    "\n",
    "# 5. Create lag features\n",
    "for lag in [1, 2, 3, 7, 14, 30]:\n",
    "    df[f'lag_{lag}'] = df['numValue'].shift(lag)\n",
    "\n",
    "# 6. Drop rows with NaNs from lagging\n",
    "df = df.dropna()\n",
    "\n",
    "# 7. Encode any categorical columns if needed (e.g., if holiday names or weather conditions exist)\n",
    "for col in df.select_dtypes(include='object').columns:\n",
    "    le = LabelEncoder()\n",
    "    df[col] = le.fit_transform(df[col])\n",
    "\n",
    "X_train = train.drop(columns=['numValue'])\n",
    "y_train = train['numValue']\n",
    "\n",
    "X_test = test.drop(columns=['numValue'])\n",
    "y_test = test['numValue']\n",
    "\n",
    "# 9. Fit model\n",
    "model = XGBRegressor(n_estimators=50, learning_rate=0.1)\n",
    "model.fit(X_train, y_train)\n",
    "\n",
    "# 10. Predict\n",
    "y_pred = model.predict(X_test)\n",
    "\n",
    "# 11. Evaluate\n",
    "mae = mean_absolute_error(y_test, y_pred)\n",
    "rmse = np.sqrt(mean_squared_error(y_test, y_pred))\n",
    "\n",
    "print(f\"MAE: {mae:.2f}\")\n",
    "print(f\"RMSE: {rmse:.2f}\")\n",
    "\n",
    "# 12. Plot predictions vs actual\n",
    "plt.figure(figsize=(12, 6))\n",
    "plt.plot(y_test.index, y_test, label=\"Actual\")\n",
    "plt.plot(y_test.index, y_pred, label=\"Predicted\")\n",
    "plt.title(\"XGBoost Forecast vs Actual\")\n",
    "plt.xlabel(\"Date\")\n",
    "plt.ylabel(\"Water Consumption\")\n",
    "plt.legend()\n",
    "plt.tight_layout()\n",
    "plt.show()\n"
   ]
  },
  {
   "cell_type": "code",
   "execution_count": null,
   "id": "fbcd849d",
   "metadata": {},
   "outputs": [],
   "source": []
  },
  {
   "cell_type": "code",
   "execution_count": 39,
   "id": "80dd2136",
   "metadata": {},
   "outputs": [
    {
     "data": {
      "application/vnd.microsoft.datawrangler.viewer.v0+json": {
       "columns": [
        {
         "name": "index",
         "rawType": "int64",
         "type": "integer"
        },
        {
         "name": "id",
         "rawType": "object",
         "type": "string"
        },
        {
         "name": "dateObserved",
         "rawType": "object",
         "type": "string"
        },
        {
         "name": "refDevice",
         "rawType": "object",
         "type": "string"
        },
        {
         "name": "numValue",
         "rawType": "float64",
         "type": "float"
        },
        {
         "name": "date",
         "rawType": "datetime64[ns]",
         "type": "datetime"
        }
       ],
       "conversionMethod": "pd.DataFrame",
       "ref": "7b9b57a0-89a6-41a0-afe0-9f50f7711d97",
       "rows": [
        [
         "0",
         "urn:ngsi-ld:Device:family-household:Measurement:2021-05-26T00:00:00",
         "2021-05-26T00:00:00",
         "urn:ngsi-ld:Device:family-household",
         "0.41388418402439403",
         "2021-05-26 00:00:00"
        ],
        [
         "1",
         "urn:ngsi-ld:Device:family-household:Measurement:2021-05-26T01:00:00",
         "2021-05-26T01:00:00",
         "urn:ngsi-ld:Device:family-household",
         "0.31668725451569",
         "2021-05-26 01:00:00"
        ],
        [
         "2",
         "urn:ngsi-ld:Device:family-household:Measurement:2021-05-26T02:00:00",
         "2021-05-26T02:00:00",
         "urn:ngsi-ld:Device:family-household",
         "0.33916534178268004",
         "2021-05-26 02:00:00"
        ],
        [
         "3",
         "urn:ngsi-ld:Device:family-household:Measurement:2021-05-26T03:00:00",
         "2021-05-26T03:00:00",
         "urn:ngsi-ld:Device:family-household",
         "0.630008282609088",
         "2021-05-26 03:00:00"
        ],
        [
         "4",
         "urn:ngsi-ld:Device:family-household:Measurement:2021-05-26T04:00:00",
         "2021-05-26T04:00:00",
         "urn:ngsi-ld:Device:family-household",
         "1.627830260542362",
         "2021-05-26 04:00:00"
        ]
       ],
       "shape": {
        "columns": 5,
        "rows": 5
       }
      },
      "text/html": [
       "<div>\n",
       "<style scoped>\n",
       "    .dataframe tbody tr th:only-of-type {\n",
       "        vertical-align: middle;\n",
       "    }\n",
       "\n",
       "    .dataframe tbody tr th {\n",
       "        vertical-align: top;\n",
       "    }\n",
       "\n",
       "    .dataframe thead th {\n",
       "        text-align: right;\n",
       "    }\n",
       "</style>\n",
       "<table border=\"1\" class=\"dataframe\">\n",
       "  <thead>\n",
       "    <tr style=\"text-align: right;\">\n",
       "      <th></th>\n",
       "      <th>id</th>\n",
       "      <th>dateObserved</th>\n",
       "      <th>refDevice</th>\n",
       "      <th>numValue</th>\n",
       "      <th>date</th>\n",
       "    </tr>\n",
       "  </thead>\n",
       "  <tbody>\n",
       "    <tr>\n",
       "      <th>0</th>\n",
       "      <td>urn:ngsi-ld:Device:family-household:Measuremen...</td>\n",
       "      <td>2021-05-26T00:00:00</td>\n",
       "      <td>urn:ngsi-ld:Device:family-household</td>\n",
       "      <td>0.413884</td>\n",
       "      <td>2021-05-26 00:00:00</td>\n",
       "    </tr>\n",
       "    <tr>\n",
       "      <th>1</th>\n",
       "      <td>urn:ngsi-ld:Device:family-household:Measuremen...</td>\n",
       "      <td>2021-05-26T01:00:00</td>\n",
       "      <td>urn:ngsi-ld:Device:family-household</td>\n",
       "      <td>0.316687</td>\n",
       "      <td>2021-05-26 01:00:00</td>\n",
       "    </tr>\n",
       "    <tr>\n",
       "      <th>2</th>\n",
       "      <td>urn:ngsi-ld:Device:family-household:Measuremen...</td>\n",
       "      <td>2021-05-26T02:00:00</td>\n",
       "      <td>urn:ngsi-ld:Device:family-household</td>\n",
       "      <td>0.339165</td>\n",
       "      <td>2021-05-26 02:00:00</td>\n",
       "    </tr>\n",
       "    <tr>\n",
       "      <th>3</th>\n",
       "      <td>urn:ngsi-ld:Device:family-household:Measuremen...</td>\n",
       "      <td>2021-05-26T03:00:00</td>\n",
       "      <td>urn:ngsi-ld:Device:family-household</td>\n",
       "      <td>0.630008</td>\n",
       "      <td>2021-05-26 03:00:00</td>\n",
       "    </tr>\n",
       "    <tr>\n",
       "      <th>4</th>\n",
       "      <td>urn:ngsi-ld:Device:family-household:Measuremen...</td>\n",
       "      <td>2021-05-26T04:00:00</td>\n",
       "      <td>urn:ngsi-ld:Device:family-household</td>\n",
       "      <td>1.627830</td>\n",
       "      <td>2021-05-26 04:00:00</td>\n",
       "    </tr>\n",
       "  </tbody>\n",
       "</table>\n",
       "</div>"
      ],
      "text/plain": [
       "                                                  id         dateObserved  \\\n",
       "0  urn:ngsi-ld:Device:family-household:Measuremen...  2021-05-26T00:00:00   \n",
       "1  urn:ngsi-ld:Device:family-household:Measuremen...  2021-05-26T01:00:00   \n",
       "2  urn:ngsi-ld:Device:family-household:Measuremen...  2021-05-26T02:00:00   \n",
       "3  urn:ngsi-ld:Device:family-household:Measuremen...  2021-05-26T03:00:00   \n",
       "4  urn:ngsi-ld:Device:family-household:Measuremen...  2021-05-26T04:00:00   \n",
       "\n",
       "                             refDevice  numValue                date  \n",
       "0  urn:ngsi-ld:Device:family-household  0.413884 2021-05-26 00:00:00  \n",
       "1  urn:ngsi-ld:Device:family-household  0.316687 2021-05-26 01:00:00  \n",
       "2  urn:ngsi-ld:Device:family-household  0.339165 2021-05-26 02:00:00  \n",
       "3  urn:ngsi-ld:Device:family-household  0.630008 2021-05-26 03:00:00  \n",
       "4  urn:ngsi-ld:Device:family-household  1.627830 2021-05-26 04:00:00  "
      ]
     },
     "execution_count": 39,
     "metadata": {},
     "output_type": "execute_result"
    }
   ],
   "source": [
    "data.head()"
   ]
  },
  {
   "cell_type": "code",
   "execution_count": null,
   "id": "9ec786e9",
   "metadata": {},
   "outputs": [
    {
     "ename": "ValueError",
     "evalue": "Dataframe has less than 2 non-NaN rows.",
     "output_type": "error",
     "traceback": [
      "\u001b[0;31m---------------------------------------------------------------------------\u001b[0m",
      "\u001b[0;31mValueError\u001b[0m                                Traceback (most recent call last)",
      "Cell \u001b[0;32mIn[37], line 3\u001b[0m\n\u001b[1;32m      1\u001b[0m \u001b[38;5;66;03m# 4. Modeling with Prophet\u001b[39;00m\n\u001b[1;32m      2\u001b[0m model \u001b[38;5;241m=\u001b[39m Prophet(daily_seasonality\u001b[38;5;241m=\u001b[39m\u001b[38;5;28;01mTrue\u001b[39;00m, yearly_seasonality\u001b[38;5;241m=\u001b[39m\u001b[38;5;28;01mTrue\u001b[39;00m)\n\u001b[0;32m----> 3\u001b[0m model\u001b[38;5;241m.\u001b[39mfit(train)\n",
      "File \u001b[0;32m~/anaconda3/lib/python3.12/site-packages/prophet/forecaster.py:1217\u001b[0m, in \u001b[0;36mProphet.fit\u001b[0;34m(self, df, **kwargs)\u001b[0m\n\u001b[1;32m   1213\u001b[0m \u001b[38;5;28;01mif\u001b[39;00m \u001b[38;5;28mself\u001b[39m\u001b[38;5;241m.\u001b[39mhistory \u001b[38;5;129;01mis\u001b[39;00m \u001b[38;5;129;01mnot\u001b[39;00m \u001b[38;5;28;01mNone\u001b[39;00m:\n\u001b[1;32m   1214\u001b[0m     \u001b[38;5;28;01mraise\u001b[39;00m \u001b[38;5;167;01mException\u001b[39;00m(\u001b[38;5;124m'\u001b[39m\u001b[38;5;124mProphet object can only be fit once. \u001b[39m\u001b[38;5;124m'\u001b[39m\n\u001b[1;32m   1215\u001b[0m                     \u001b[38;5;124m'\u001b[39m\u001b[38;5;124mInstantiate a new object.\u001b[39m\u001b[38;5;124m'\u001b[39m)\n\u001b[0;32m-> 1217\u001b[0m model_inputs \u001b[38;5;241m=\u001b[39m \u001b[38;5;28mself\u001b[39m\u001b[38;5;241m.\u001b[39mpreprocess(df, \u001b[38;5;241m*\u001b[39m\u001b[38;5;241m*\u001b[39mkwargs)\n\u001b[1;32m   1218\u001b[0m initial_params \u001b[38;5;241m=\u001b[39m \u001b[38;5;28mself\u001b[39m\u001b[38;5;241m.\u001b[39mcalculate_initial_params(model_inputs\u001b[38;5;241m.\u001b[39mK)\n\u001b[1;32m   1220\u001b[0m dat \u001b[38;5;241m=\u001b[39m dataclasses\u001b[38;5;241m.\u001b[39masdict(model_inputs)\n",
      "File \u001b[0;32m~/anaconda3/lib/python3.12/site-packages/prophet/forecaster.py:1132\u001b[0m, in \u001b[0;36mProphet.preprocess\u001b[0;34m(self, df, **kwargs)\u001b[0m\n\u001b[1;32m   1130\u001b[0m history \u001b[38;5;241m=\u001b[39m df[df[\u001b[38;5;124m'\u001b[39m\u001b[38;5;124my\u001b[39m\u001b[38;5;124m'\u001b[39m]\u001b[38;5;241m.\u001b[39mnotnull()]\u001b[38;5;241m.\u001b[39mcopy()\n\u001b[1;32m   1131\u001b[0m \u001b[38;5;28;01mif\u001b[39;00m history\u001b[38;5;241m.\u001b[39mshape[\u001b[38;5;241m0\u001b[39m] \u001b[38;5;241m<\u001b[39m \u001b[38;5;241m2\u001b[39m:\n\u001b[0;32m-> 1132\u001b[0m     \u001b[38;5;28;01mraise\u001b[39;00m \u001b[38;5;167;01mValueError\u001b[39;00m(\u001b[38;5;124m'\u001b[39m\u001b[38;5;124mDataframe has less than 2 non-NaN rows.\u001b[39m\u001b[38;5;124m'\u001b[39m)\n\u001b[1;32m   1133\u001b[0m \u001b[38;5;28mself\u001b[39m\u001b[38;5;241m.\u001b[39mhistory_dates \u001b[38;5;241m=\u001b[39m pd\u001b[38;5;241m.\u001b[39mto_datetime(pd\u001b[38;5;241m.\u001b[39mSeries(df[\u001b[38;5;124m'\u001b[39m\u001b[38;5;124mds\u001b[39m\u001b[38;5;124m'\u001b[39m]\u001b[38;5;241m.\u001b[39munique(), name\u001b[38;5;241m=\u001b[39m\u001b[38;5;124m'\u001b[39m\u001b[38;5;124mds\u001b[39m\u001b[38;5;124m'\u001b[39m))\u001b[38;5;241m.\u001b[39msort_values()\n\u001b[1;32m   1135\u001b[0m \u001b[38;5;28mself\u001b[39m\u001b[38;5;241m.\u001b[39mhistory \u001b[38;5;241m=\u001b[39m \u001b[38;5;28mself\u001b[39m\u001b[38;5;241m.\u001b[39msetup_dataframe(history, initialize_scales\u001b[38;5;241m=\u001b[39m\u001b[38;5;28;01mTrue\u001b[39;00m)\n",
      "\u001b[0;31mValueError\u001b[0m: Dataframe has less than 2 non-NaN rows."
     ]
    }
   ],
   "source": [
    "# 4. Modeling with Prophet\n",
    "model = Prophet(daily_seasonality=True, yearly_seasonality=True)\n",
    "model.fit(train)"
   ]
  },
  {
   "cell_type": "code",
   "execution_count": null,
   "id": "acc483fb",
   "metadata": {},
   "outputs": [],
   "source": [
    "from sklearn.metrics import mean_absolute_error, mean_squared_error\n",
    "from sklearn.preprocessing import LabelEncoder"
   ]
  },
  {
   "cell_type": "code",
   "execution_count": null,
   "id": "29a26d78",
   "metadata": {},
   "outputs": [],
   "source": [
    "# 5. Forecasting\n",
    "future = model.make_future_dataframe(periods=len(test), freq='D')\n",
    "forecast = model.predict(future)\n",
    "\n",
    "# 6. Plot results\n",
    "fig1 = model.plot(forecast)\n",
    "plt.title(\"Forecast vs Actual\")\n",
    "plt.xlabel(\"Date\")\n",
    "plt.ylabel(\"Water Consumption\")\n",
    "plt.show()\n",
    "\n",
    "# 7. Evaluation on test set\n",
    "forecast_test = forecast[['ds', 'yhat']].set_index('ds').loc[test['ds']]\n",
    "true_test = test.set_index('ds')['y']\n",
    "\n",
    "mae = mean_absolute_error(true_test, forecast_test['yhat'])\n",
    "rmse = np.sqrt(mean_squared_error(true_test, forecast_test['yhat']))\n",
    "\n",
    "print(f\"MAE: {mae:.2f}\")\n",
    "print(f\"RMSE: {rmse:.2f}\")\n"
   ]
  }
 ],
 "metadata": {
  "kernelspec": {
   "display_name": "base",
   "language": "python",
   "name": "python3"
  },
  "language_info": {
   "codemirror_mode": {
    "name": "ipython",
    "version": 3
   },
   "file_extension": ".py",
   "mimetype": "text/x-python",
   "name": "python",
   "nbconvert_exporter": "python",
   "pygments_lexer": "ipython3",
   "version": "3.12.7"
  }
 },
 "nbformat": 4,
 "nbformat_minor": 5
}
