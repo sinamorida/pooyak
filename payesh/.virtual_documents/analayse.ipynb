import numpy as np 
import pandas as pd
import matplotlib.pyplot as plt


info_1401 = pd.read_csv('1401_claean_info.csv')
info_1402 = pd.read_csv("1402_claean_info.csv")
info_1403 = pd.read_csv("1403_claean_info.csv")


monthly_usage_1401 = pd.read_csv('long_usage1401.csv')
monthly_usage_1402 = pd.read_csv("long_usage1402.csv")
monthly_usage_1403 = pd.read_csv("long_usage1403.csv")


column_translations = {
    "Unnamed: 1_level_1" : 'Subscription Code',
    'کد اشتراک': 'Subscription Code',
    'نوع پروانه': 'License Type',
    'شهرستان': 'County',
    'سریال کنتور': 'Meter Serial',
    'سایز کنتور': 'Meter Size',
    'تاریخ نصب': 'Installation Date',
    'زمان آخرین اتصال': 'Last Connection Time',
    'مصرف بازه (m³)': 'Consumption in Period (m³)',
    'ساعت کارکرد بازه (h)': 'Operating Hours in Period (h)',
    'میانگین دبی بازه l/s': 'Average Flow Rate in Period (l/s)',
    'دبی l/s': 'Flow Rate (l/s)',
    'تعداد دبی منفی': 'Number of Negative Flows',
    'درصد دبی منفی': 'Percentage of Negative Flows',
    'ساعت کارکرد (h)': 'Operating Hours (h)',
    'مصرف (m³) (m³)': 'Consumption (m³)',
    'تعداد اطلاعات موجود': 'Number of Available Data Points',
}


info_1401.rename(columns=column_translations,inplace=True)
info_1402.rename(columns=column_translations,inplace=True)
info_1403.rename(columns=column_translations,inplace=True)


info_1401.drop(columns=["Unnamed: 0"],inplace=True)
info_1402.drop(columns=["Unnamed: 0"],inplace=True)
info_1403.drop(columns=["Unnamed: 0"],inplace=True)


monthly_usage_1401.drop(columns=["Unnamed: 0"],inplace=True)
monthly_usage_1402.drop(columns=["Unnamed: 0"],inplace=True)
monthly_usage_1403.drop(columns=["Unnamed: 0"],inplace=True)


info_1401


info_1401[info_1401['Average Flow Rate in Period (l/s)'] < 0]


info_1401[info_1401['Average Flow Rate in Period (l/s)'] < 0]


monthly_usage_1401.head()


monthly_usage_1401[monthly_usage_1401['Flow Rate (l/s)'] < 0]


monthly_usage_1402[monthly_usage_1402['Flow Rate (l/s)'] < 0]


monthly_usage_1403[monthly_usage_1403['Flow Rate (l/s)'] < 0]


info_1402.rename(columns=column_translations,inplace=True)


info_merged = pd.concat([info_1401,info_1402,info_1403])


monthly_usage_1402


monthly_usage_1403 


usage_merged = pd.concat([monthly_usage_1401,monthly_usage_1402,monthly_usage_1403])


info_merged.to_csv("merged_info.csv")
usage_merged.to_csv("merged_usage.csv")


info_merged


merge_inf0 = pd.read_csv("merged_info.csv")
merge_inf0.head()





merge_inf0.isna().sum()


monthly_usage_1403


usage_merged


usage_merged[usage_merged["Percentage of Negative Flows"] < 0]


df_neg_consumption = usage_merged[usage_merged["Consumption (m³)"] < 0] 


df_neg_consumption


numerical_cols_for_desc = ['Flow Rate (l/s)', 'Operating Hours (h)', 'Consumption (m³)',
                           'Number of Negative Flows']


df_neg_flow =  usage_merged[usage_merged["Number of Negative Flows"] > 0]


sumation_for_3years =  usage_merged.groupby("Subscription Code").sum()


mean_for_3years =  usage_merged.groupby("Subscription Code",dropna=True)[numerical_cols_for_desc].mean()


mean_for_3years


df_neg_consumption


df_neg_consumption.to_csv("negative_cons_in_3years.csv")


non_negatives_cons = usage_merged[usage_merged["Consumption (m³)"] >= 0]


usage_merged[usage_merged["Operating Hours (h)"] < 0]


non_negatives_cons.info()


non_negatives_cons


farmers = info_1401[info_1401["License Type"] == "کشاورزی"][['Subscription Code','County','Meter Size','Last Connection Time']]


farmers


info_1401





houses = info_1401[info_1401["Meter Serial"] >= 920000000000]


not_houses =  info_1401[info_1401["Meter Serial"] < 920000000000]


not_houses


houses


from numpy import isin


houses_usage_in_3years = usage_merged[usage_merged['Subscription Code'].isin( houses["Subscription Code"])]


houses_usage_in_3years.info()


houses_usage_in_3years[numerical_cols_for_desc].describe()





usage_without_houses =  usage_merged[usage_merged['Subscription Code'].isin(not_houses["Subscription Code"])]





farmers.head()



