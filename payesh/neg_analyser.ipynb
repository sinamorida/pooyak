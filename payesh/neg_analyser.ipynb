{
 "cells": [
  {
   "cell_type": "code",
   "execution_count": 2,
   "metadata": {},
   "outputs": [],
   "source": [
    "import pandas as pd"
   ]
  },
  {
   "cell_type": "code",
   "execution_count": 3,
   "metadata": {},
   "outputs": [
    {
     "name": "stderr",
     "output_type": "stream",
     "text": [
      "Matplotlib is building the font cache; this may take a moment.\n"
     ]
    }
   ],
   "source": [
    "import matplotlib.pyplot as plt"
   ]
  },
  {
   "cell_type": "code",
   "execution_count": 4,
   "metadata": {},
   "outputs": [],
   "source": [
    "neg_cons = pd.read_csv ('negative_conses.csv')"
   ]
  },
  {
   "cell_type": "code",
   "execution_count": 5,
   "metadata": {},
   "outputs": [
    {
     "data": {
      "text/html": [
       "<div>\n",
       "<style scoped>\n",
       "    .dataframe tbody tr th:only-of-type {\n",
       "        vertical-align: middle;\n",
       "    }\n",
       "\n",
       "    .dataframe tbody tr th {\n",
       "        vertical-align: top;\n",
       "    }\n",
       "\n",
       "    .dataframe thead th {\n",
       "        text-align: right;\n",
       "    }\n",
       "</style>\n",
       "<table border=\"1\" class=\"dataframe\">\n",
       "  <thead>\n",
       "    <tr style=\"text-align: right;\">\n",
       "      <th></th>\n",
       "      <th>Subscription Code</th>\n",
       "      <th>Flow Rate (l/s)</th>\n",
       "      <th>Number of Negative Flows</th>\n",
       "      <th>Percentage of Negative Flows</th>\n",
       "      <th>Operating Hours (h)</th>\n",
       "      <th>Consumption (m³)</th>\n",
       "      <th>Number of Available Data Points</th>\n",
       "      <th>تعداد مورد انتظار</th>\n",
       "      <th>درصد اطلاعات موجود</th>\n",
       "      <th>month</th>\n",
       "    </tr>\n",
       "  </thead>\n",
       "  <tbody>\n",
       "    <tr>\n",
       "      <th>0</th>\n",
       "      <td>302041</td>\n",
       "      <td>NaN</td>\n",
       "      <td>0</td>\n",
       "      <td>0.00</td>\n",
       "      <td>0.0</td>\n",
       "      <td>-2.600</td>\n",
       "      <td>31</td>\n",
       "      <td>31</td>\n",
       "      <td>100.00</td>\n",
       "      <td>1401/01</td>\n",
       "    </tr>\n",
       "    <tr>\n",
       "      <th>1</th>\n",
       "      <td>516231</td>\n",
       "      <td>NaN</td>\n",
       "      <td>0</td>\n",
       "      <td>0.00</td>\n",
       "      <td>NaN</td>\n",
       "      <td>-0.052</td>\n",
       "      <td>12</td>\n",
       "      <td>31</td>\n",
       "      <td>38.71</td>\n",
       "      <td>1401/01</td>\n",
       "    </tr>\n",
       "    <tr>\n",
       "      <th>2</th>\n",
       "      <td>515534</td>\n",
       "      <td>NaN</td>\n",
       "      <td>0</td>\n",
       "      <td>0.00</td>\n",
       "      <td>0.0</td>\n",
       "      <td>-0.133</td>\n",
       "      <td>31</td>\n",
       "      <td>31</td>\n",
       "      <td>100.00</td>\n",
       "      <td>1401/01</td>\n",
       "    </tr>\n",
       "    <tr>\n",
       "      <th>3</th>\n",
       "      <td>529336</td>\n",
       "      <td>2.07</td>\n",
       "      <td>1</td>\n",
       "      <td>3.23</td>\n",
       "      <td>300.4</td>\n",
       "      <td>-180119.900</td>\n",
       "      <td>10</td>\n",
       "      <td>31</td>\n",
       "      <td>32.26</td>\n",
       "      <td>1401/01</td>\n",
       "    </tr>\n",
       "    <tr>\n",
       "      <th>4</th>\n",
       "      <td>518586</td>\n",
       "      <td>NaN</td>\n",
       "      <td>0</td>\n",
       "      <td>0.00</td>\n",
       "      <td>0.0</td>\n",
       "      <td>-37.900</td>\n",
       "      <td>31</td>\n",
       "      <td>31</td>\n",
       "      <td>100.00</td>\n",
       "      <td>1401/01</td>\n",
       "    </tr>\n",
       "  </tbody>\n",
       "</table>\n",
       "</div>"
      ],
      "text/plain": [
       "  Subscription Code  Flow Rate (l/s)  Number of Negative Flows  \\\n",
       "0            302041              NaN                         0   \n",
       "1            516231              NaN                         0   \n",
       "2            515534              NaN                         0   \n",
       "3            529336             2.07                         1   \n",
       "4            518586              NaN                         0   \n",
       "\n",
       "   Percentage of Negative Flows  Operating Hours (h)  Consumption (m³)  \\\n",
       "0                          0.00                  0.0            -2.600   \n",
       "1                          0.00                  NaN            -0.052   \n",
       "2                          0.00                  0.0            -0.133   \n",
       "3                          3.23                300.4       -180119.900   \n",
       "4                          0.00                  0.0           -37.900   \n",
       "\n",
       "   Number of Available Data Points  تعداد مورد انتظار  درصد اطلاعات موجود  \\\n",
       "0                               31                 31              100.00   \n",
       "1                               12                 31               38.71   \n",
       "2                               31                 31              100.00   \n",
       "3                               10                 31               32.26   \n",
       "4                               31                 31              100.00   \n",
       "\n",
       "     month  \n",
       "0  1401/01  \n",
       "1  1401/01  \n",
       "2  1401/01  \n",
       "3  1401/01  \n",
       "4  1401/01  "
      ]
     },
     "execution_count": 5,
     "metadata": {},
     "output_type": "execute_result"
    }
   ],
   "source": [
    "neg_cons.head()"
   ]
  },
  {
   "cell_type": "code",
   "execution_count": 6,
   "metadata": {},
   "outputs": [
    {
     "data": {
      "text/plain": [
       "Subscription Code                     0\n",
       "Flow Rate (l/s)                    2926\n",
       "Number of Negative Flows              0\n",
       "Percentage of Negative Flows          0\n",
       "Operating Hours (h)                 380\n",
       "Consumption (m³)                      0\n",
       "Number of Available Data Points       0\n",
       "تعداد مورد انتظار                     0\n",
       "درصد اطلاعات موجود                    0\n",
       "month                                 0\n",
       "dtype: int64"
      ]
     },
     "execution_count": 6,
     "metadata": {},
     "output_type": "execute_result"
    }
   ],
   "source": [
    "neg_cons.isna().sum()"
   ]
  },
  {
   "cell_type": "markdown",
   "metadata": {},
   "source": [
    "دیتا هایی با مصرف منفی و ساعت کارکرد صفر و کمتر "
   ]
  },
  {
   "cell_type": "code",
   "execution_count": 7,
   "metadata": {},
   "outputs": [
    {
     "data": {
      "text/html": [
       "<div>\n",
       "<style scoped>\n",
       "    .dataframe tbody tr th:only-of-type {\n",
       "        vertical-align: middle;\n",
       "    }\n",
       "\n",
       "    .dataframe tbody tr th {\n",
       "        vertical-align: top;\n",
       "    }\n",
       "\n",
       "    .dataframe thead th {\n",
       "        text-align: right;\n",
       "    }\n",
       "</style>\n",
       "<table border=\"1\" class=\"dataframe\">\n",
       "  <thead>\n",
       "    <tr style=\"text-align: right;\">\n",
       "      <th></th>\n",
       "      <th>Subscription Code</th>\n",
       "      <th>Flow Rate (l/s)</th>\n",
       "      <th>Number of Negative Flows</th>\n",
       "      <th>Percentage of Negative Flows</th>\n",
       "      <th>Operating Hours (h)</th>\n",
       "      <th>Consumption (m³)</th>\n",
       "      <th>Number of Available Data Points</th>\n",
       "      <th>تعداد مورد انتظار</th>\n",
       "      <th>درصد اطلاعات موجود</th>\n",
       "      <th>month</th>\n",
       "    </tr>\n",
       "  </thead>\n",
       "  <tbody>\n",
       "    <tr>\n",
       "      <th>0</th>\n",
       "      <td>302041</td>\n",
       "      <td>NaN</td>\n",
       "      <td>0</td>\n",
       "      <td>0.0</td>\n",
       "      <td>0.0</td>\n",
       "      <td>-2.600</td>\n",
       "      <td>31</td>\n",
       "      <td>31</td>\n",
       "      <td>100.0</td>\n",
       "      <td>1401/01</td>\n",
       "    </tr>\n",
       "    <tr>\n",
       "      <th>2</th>\n",
       "      <td>515534</td>\n",
       "      <td>NaN</td>\n",
       "      <td>0</td>\n",
       "      <td>0.0</td>\n",
       "      <td>0.0</td>\n",
       "      <td>-0.133</td>\n",
       "      <td>31</td>\n",
       "      <td>31</td>\n",
       "      <td>100.0</td>\n",
       "      <td>1401/01</td>\n",
       "    </tr>\n",
       "    <tr>\n",
       "      <th>4</th>\n",
       "      <td>518586</td>\n",
       "      <td>NaN</td>\n",
       "      <td>0</td>\n",
       "      <td>0.0</td>\n",
       "      <td>0.0</td>\n",
       "      <td>-37.900</td>\n",
       "      <td>31</td>\n",
       "      <td>31</td>\n",
       "      <td>100.0</td>\n",
       "      <td>1401/01</td>\n",
       "    </tr>\n",
       "    <tr>\n",
       "      <th>10</th>\n",
       "      <td>910761</td>\n",
       "      <td>NaN</td>\n",
       "      <td>0</td>\n",
       "      <td>0.0</td>\n",
       "      <td>0.0</td>\n",
       "      <td>-0.453</td>\n",
       "      <td>31</td>\n",
       "      <td>31</td>\n",
       "      <td>100.0</td>\n",
       "      <td>1401/01</td>\n",
       "    </tr>\n",
       "    <tr>\n",
       "      <th>11</th>\n",
       "      <td>601218</td>\n",
       "      <td>NaN</td>\n",
       "      <td>0</td>\n",
       "      <td>0.0</td>\n",
       "      <td>0.0</td>\n",
       "      <td>-123.300</td>\n",
       "      <td>31</td>\n",
       "      <td>31</td>\n",
       "      <td>100.0</td>\n",
       "      <td>1401/01</td>\n",
       "    </tr>\n",
       "    <tr>\n",
       "      <th>...</th>\n",
       "      <td>...</td>\n",
       "      <td>...</td>\n",
       "      <td>...</td>\n",
       "      <td>...</td>\n",
       "      <td>...</td>\n",
       "      <td>...</td>\n",
       "      <td>...</td>\n",
       "      <td>...</td>\n",
       "      <td>...</td>\n",
       "      <td>...</td>\n",
       "    </tr>\n",
       "    <tr>\n",
       "      <th>3536</th>\n",
       "      <td>927164</td>\n",
       "      <td>NaN</td>\n",
       "      <td>0</td>\n",
       "      <td>0.0</td>\n",
       "      <td>0.0</td>\n",
       "      <td>-0.056</td>\n",
       "      <td>30</td>\n",
       "      <td>30</td>\n",
       "      <td>100.0</td>\n",
       "      <td>1403/12</td>\n",
       "    </tr>\n",
       "    <tr>\n",
       "      <th>3540</th>\n",
       "      <td>516014</td>\n",
       "      <td>NaN</td>\n",
       "      <td>0</td>\n",
       "      <td>0.0</td>\n",
       "      <td>0.0</td>\n",
       "      <td>-0.120</td>\n",
       "      <td>30</td>\n",
       "      <td>30</td>\n",
       "      <td>100.0</td>\n",
       "      <td>1403/12</td>\n",
       "    </tr>\n",
       "    <tr>\n",
       "      <th>3541</th>\n",
       "      <td>608600</td>\n",
       "      <td>NaN</td>\n",
       "      <td>0</td>\n",
       "      <td>0.0</td>\n",
       "      <td>0.0</td>\n",
       "      <td>-0.003</td>\n",
       "      <td>30</td>\n",
       "      <td>30</td>\n",
       "      <td>100.0</td>\n",
       "      <td>1403/12</td>\n",
       "    </tr>\n",
       "    <tr>\n",
       "      <th>3542</th>\n",
       "      <td>804911</td>\n",
       "      <td>NaN</td>\n",
       "      <td>0</td>\n",
       "      <td>0.0</td>\n",
       "      <td>0.0</td>\n",
       "      <td>-0.003</td>\n",
       "      <td>30</td>\n",
       "      <td>30</td>\n",
       "      <td>100.0</td>\n",
       "      <td>1403/12</td>\n",
       "    </tr>\n",
       "    <tr>\n",
       "      <th>3544</th>\n",
       "      <td>103209</td>\n",
       "      <td>NaN</td>\n",
       "      <td>0</td>\n",
       "      <td>0.0</td>\n",
       "      <td>0.0</td>\n",
       "      <td>-0.046</td>\n",
       "      <td>30</td>\n",
       "      <td>30</td>\n",
       "      <td>100.0</td>\n",
       "      <td>1403/12</td>\n",
       "    </tr>\n",
       "  </tbody>\n",
       "</table>\n",
       "<p>2670 rows × 10 columns</p>\n",
       "</div>"
      ],
      "text/plain": [
       "     Subscription Code  Flow Rate (l/s)  Number of Negative Flows  \\\n",
       "0               302041              NaN                         0   \n",
       "2               515534              NaN                         0   \n",
       "4               518586              NaN                         0   \n",
       "10              910761              NaN                         0   \n",
       "11              601218              NaN                         0   \n",
       "...                ...              ...                       ...   \n",
       "3536            927164              NaN                         0   \n",
       "3540            516014              NaN                         0   \n",
       "3541            608600              NaN                         0   \n",
       "3542            804911              NaN                         0   \n",
       "3544            103209              NaN                         0   \n",
       "\n",
       "      Percentage of Negative Flows  Operating Hours (h)  Consumption (m³)  \\\n",
       "0                              0.0                  0.0            -2.600   \n",
       "2                              0.0                  0.0            -0.133   \n",
       "4                              0.0                  0.0           -37.900   \n",
       "10                             0.0                  0.0            -0.453   \n",
       "11                             0.0                  0.0          -123.300   \n",
       "...                            ...                  ...               ...   \n",
       "3536                           0.0                  0.0            -0.056   \n",
       "3540                           0.0                  0.0            -0.120   \n",
       "3541                           0.0                  0.0            -0.003   \n",
       "3542                           0.0                  0.0            -0.003   \n",
       "3544                           0.0                  0.0            -0.046   \n",
       "\n",
       "      Number of Available Data Points  تعداد مورد انتظار  درصد اطلاعات موجود  \\\n",
       "0                                  31                 31               100.0   \n",
       "2                                  31                 31               100.0   \n",
       "4                                  31                 31               100.0   \n",
       "10                                 31                 31               100.0   \n",
       "11                                 31                 31               100.0   \n",
       "...                               ...                ...                 ...   \n",
       "3536                               30                 30               100.0   \n",
       "3540                               30                 30               100.0   \n",
       "3541                               30                 30               100.0   \n",
       "3542                               30                 30               100.0   \n",
       "3544                               30                 30               100.0   \n",
       "\n",
       "        month  \n",
       "0     1401/01  \n",
       "2     1401/01  \n",
       "4     1401/01  \n",
       "10    1401/01  \n",
       "11    1401/01  \n",
       "...       ...  \n",
       "3536  1403/12  \n",
       "3540  1403/12  \n",
       "3541  1403/12  \n",
       "3542  1403/12  \n",
       "3544  1403/12  \n",
       "\n",
       "[2670 rows x 10 columns]"
      ]
     },
     "execution_count": 7,
     "metadata": {},
     "output_type": "execute_result"
    }
   ],
   "source": [
    "neg_cons[neg_cons[\"Operating Hours (h)\"] <= 0]"
   ]
  },
  {
   "cell_type": "markdown",
   "metadata": {},
   "source": []
  },
  {
   "cell_type": "code",
   "execution_count": 8,
   "metadata": {},
   "outputs": [
    {
     "name": "stdout",
     "output_type": "stream",
     "text": [
      "<class 'pandas.core.frame.DataFrame'>\n",
      "RangeIndex: 3545 entries, 0 to 3544\n",
      "Data columns (total 10 columns):\n",
      " #   Column                           Non-Null Count  Dtype  \n",
      "---  ------                           --------------  -----  \n",
      " 0   Subscription Code                3545 non-null   object \n",
      " 1   Flow Rate (l/s)                  619 non-null    float64\n",
      " 2   Number of Negative Flows         3545 non-null   int64  \n",
      " 3   Percentage of Negative Flows     3545 non-null   float64\n",
      " 4   Operating Hours (h)              3165 non-null   float64\n",
      " 5   Consumption (m³)                 3545 non-null   float64\n",
      " 6   Number of Available Data Points  3545 non-null   int64  \n",
      " 7   تعداد مورد انتظار                3545 non-null   int64  \n",
      " 8   درصد اطلاعات موجود               3545 non-null   float64\n",
      " 9   month                            3545 non-null   object \n",
      "dtypes: float64(5), int64(3), object(2)\n",
      "memory usage: 277.1+ KB\n"
     ]
    }
   ],
   "source": [
    "neg_cons.info()"
   ]
  },
  {
   "cell_type": "code",
   "execution_count": 9,
   "metadata": {},
   "outputs": [],
   "source": [
    "info_1401 = pd.read_csv(\"data/1401_claean_info.csv\")"
   ]
  },
  {
   "cell_type": "code",
   "execution_count": 10,
   "metadata": {},
   "outputs": [
    {
     "data": {
      "text/html": [
       "<div>\n",
       "<style scoped>\n",
       "    .dataframe tbody tr th:only-of-type {\n",
       "        vertical-align: middle;\n",
       "    }\n",
       "\n",
       "    .dataframe tbody tr th {\n",
       "        vertical-align: top;\n",
       "    }\n",
       "\n",
       "    .dataframe thead th {\n",
       "        text-align: right;\n",
       "    }\n",
       "</style>\n",
       "<table border=\"1\" class=\"dataframe\">\n",
       "  <thead>\n",
       "    <tr style=\"text-align: right;\">\n",
       "      <th></th>\n",
       "      <th>Unnamed: 0</th>\n",
       "      <th>Subscription Code</th>\n",
       "      <th>License Type</th>\n",
       "      <th>County</th>\n",
       "      <th>Meter Serial</th>\n",
       "      <th>Meter Size</th>\n",
       "      <th>Installation Date</th>\n",
       "      <th>Last Connection Time</th>\n",
       "      <th>Consumption in Period (m³)</th>\n",
       "      <th>Operating Hours in Period (h)</th>\n",
       "      <th>Average Flow Rate in Period (l/s)</th>\n",
       "    </tr>\n",
       "  </thead>\n",
       "  <tbody>\n",
       "    <tr>\n",
       "      <th>0</th>\n",
       "      <td>1</td>\n",
       "      <td>520009</td>\n",
       "      <td>صنعتی</td>\n",
       "      <td>مشهد</td>\n",
       "      <td>9.098011e+11</td>\n",
       "      <td>50.0</td>\n",
       "      <td>1402/11/15</td>\n",
       "      <td>1404/01/28 - 03:07:28</td>\n",
       "      <td>NaN</td>\n",
       "      <td>NaN</td>\n",
       "      <td>NaN</td>\n",
       "    </tr>\n",
       "    <tr>\n",
       "      <th>1</th>\n",
       "      <td>2</td>\n",
       "      <td>200654</td>\n",
       "      <td>کشاورزی</td>\n",
       "      <td>قوچان</td>\n",
       "      <td>9.098010e+11</td>\n",
       "      <td>80.0</td>\n",
       "      <td>1400/02/12</td>\n",
       "      <td>1404/01/28 - 02:08:15</td>\n",
       "      <td>23879.930</td>\n",
       "      <td>343575.4</td>\n",
       "      <td>1.15</td>\n",
       "    </tr>\n",
       "    <tr>\n",
       "      <th>2</th>\n",
       "      <td>3</td>\n",
       "      <td>622162</td>\n",
       "      <td>کشاورزی</td>\n",
       "      <td>تربت حیدریه</td>\n",
       "      <td>9.098011e+11</td>\n",
       "      <td>50.0</td>\n",
       "      <td>1403/02/27</td>\n",
       "      <td>1403/09/08 - 03:10:09</td>\n",
       "      <td>NaN</td>\n",
       "      <td>NaN</td>\n",
       "      <td>NaN</td>\n",
       "    </tr>\n",
       "    <tr>\n",
       "      <th>3</th>\n",
       "      <td>4</td>\n",
       "      <td>515618</td>\n",
       "      <td>کشاورزی</td>\n",
       "      <td>مشهد</td>\n",
       "      <td>9.098010e+11</td>\n",
       "      <td>125.0</td>\n",
       "      <td>1400/02/30</td>\n",
       "      <td>1404/01/28 - 02:10:25</td>\n",
       "      <td>103922.600</td>\n",
       "      <td>475073.2</td>\n",
       "      <td>6.91</td>\n",
       "    </tr>\n",
       "    <tr>\n",
       "      <th>4</th>\n",
       "      <td>5</td>\n",
       "      <td>529232</td>\n",
       "      <td>کشاورزی</td>\n",
       "      <td>مشهد</td>\n",
       "      <td>9.098010e+11</td>\n",
       "      <td>125.0</td>\n",
       "      <td>1401/06/23</td>\n",
       "      <td>1404/01/28 - 02:11:21</td>\n",
       "      <td>84159.690</td>\n",
       "      <td>68022.1</td>\n",
       "      <td>6.00</td>\n",
       "    </tr>\n",
       "    <tr>\n",
       "      <th>...</th>\n",
       "      <td>...</td>\n",
       "      <td>...</td>\n",
       "      <td>...</td>\n",
       "      <td>...</td>\n",
       "      <td>...</td>\n",
       "      <td>...</td>\n",
       "      <td>...</td>\n",
       "      <td>...</td>\n",
       "      <td>...</td>\n",
       "      <td>...</td>\n",
       "      <td>...</td>\n",
       "    </tr>\n",
       "    <tr>\n",
       "      <th>2213</th>\n",
       "      <td>2214</td>\n",
       "      <td>925247</td>\n",
       "      <td>کشاورزی</td>\n",
       "      <td>باخرز</td>\n",
       "      <td>9.098010e+11</td>\n",
       "      <td>50.0</td>\n",
       "      <td>1400/03/24</td>\n",
       "      <td>1404/01/28 - 02:10:01</td>\n",
       "      <td>5685.400</td>\n",
       "      <td>56574.8</td>\n",
       "      <td>3.30</td>\n",
       "    </tr>\n",
       "    <tr>\n",
       "      <th>2214</th>\n",
       "      <td>2215</td>\n",
       "      <td>518473</td>\n",
       "      <td>کشاورزی</td>\n",
       "      <td>مشهد</td>\n",
       "      <td>9.098010e+11</td>\n",
       "      <td>100.0</td>\n",
       "      <td>1399/06/03</td>\n",
       "      <td>1404/01/28 - 03:01:20</td>\n",
       "      <td>250173.700</td>\n",
       "      <td>909533.1</td>\n",
       "      <td>12.28</td>\n",
       "    </tr>\n",
       "    <tr>\n",
       "      <th>2215</th>\n",
       "      <td>2216</td>\n",
       "      <td>201250</td>\n",
       "      <td>NaN</td>\n",
       "      <td>قوچان</td>\n",
       "      <td>9.098010e+11</td>\n",
       "      <td>50.0</td>\n",
       "      <td>1399/07/07</td>\n",
       "      <td>1404/01/28 - 02:10:42</td>\n",
       "      <td>8595.251</td>\n",
       "      <td>3673.9</td>\n",
       "      <td>2.66</td>\n",
       "    </tr>\n",
       "    <tr>\n",
       "      <th>2216</th>\n",
       "      <td>2217</td>\n",
       "      <td>925005</td>\n",
       "      <td>کشاورزی</td>\n",
       "      <td>باخرز</td>\n",
       "      <td>9.098010e+11</td>\n",
       "      <td>100.0</td>\n",
       "      <td>1400/03/03</td>\n",
       "      <td>1403/07/29 - 02:04:50</td>\n",
       "      <td>338274.800</td>\n",
       "      <td>437856.7</td>\n",
       "      <td>30.17</td>\n",
       "    </tr>\n",
       "    <tr>\n",
       "      <th>2217</th>\n",
       "      <td>2218</td>\n",
       "      <td>102290</td>\n",
       "      <td>NaN</td>\n",
       "      <td>سبزوار</td>\n",
       "      <td>9.098011e+11</td>\n",
       "      <td>150.0</td>\n",
       "      <td>1402/12/15</td>\n",
       "      <td>1404/01/28 - 03:10:36</td>\n",
       "      <td>NaN</td>\n",
       "      <td>NaN</td>\n",
       "      <td>NaN</td>\n",
       "    </tr>\n",
       "  </tbody>\n",
       "</table>\n",
       "<p>2218 rows × 11 columns</p>\n",
       "</div>"
      ],
      "text/plain": [
       "      Unnamed: 0 Subscription Code License Type       County  Meter Serial  \\\n",
       "0              1            520009        صنعتی         مشهد  9.098011e+11   \n",
       "1              2            200654      کشاورزی        قوچان  9.098010e+11   \n",
       "2              3            622162      کشاورزی  تربت حیدریه  9.098011e+11   \n",
       "3              4            515618      کشاورزی         مشهد  9.098010e+11   \n",
       "4              5            529232      کشاورزی         مشهد  9.098010e+11   \n",
       "...          ...               ...          ...          ...           ...   \n",
       "2213        2214            925247      کشاورزی        باخرز  9.098010e+11   \n",
       "2214        2215            518473      کشاورزی         مشهد  9.098010e+11   \n",
       "2215        2216            201250          NaN        قوچان  9.098010e+11   \n",
       "2216        2217            925005      کشاورزی        باخرز  9.098010e+11   \n",
       "2217        2218            102290          NaN       سبزوار  9.098011e+11   \n",
       "\n",
       "      Meter Size Installation Date   Last Connection Time  \\\n",
       "0           50.0        1402/11/15  1404/01/28 - 03:07:28   \n",
       "1           80.0        1400/02/12  1404/01/28 - 02:08:15   \n",
       "2           50.0        1403/02/27  1403/09/08 - 03:10:09   \n",
       "3          125.0        1400/02/30  1404/01/28 - 02:10:25   \n",
       "4          125.0        1401/06/23  1404/01/28 - 02:11:21   \n",
       "...          ...               ...                    ...   \n",
       "2213        50.0        1400/03/24  1404/01/28 - 02:10:01   \n",
       "2214       100.0        1399/06/03  1404/01/28 - 03:01:20   \n",
       "2215        50.0        1399/07/07  1404/01/28 - 02:10:42   \n",
       "2216       100.0        1400/03/03  1403/07/29 - 02:04:50   \n",
       "2217       150.0        1402/12/15  1404/01/28 - 03:10:36   \n",
       "\n",
       "      Consumption in Period (m³)  Operating Hours in Period (h)  \\\n",
       "0                            NaN                            NaN   \n",
       "1                      23879.930                       343575.4   \n",
       "2                            NaN                            NaN   \n",
       "3                     103922.600                       475073.2   \n",
       "4                      84159.690                        68022.1   \n",
       "...                          ...                            ...   \n",
       "2213                    5685.400                        56574.8   \n",
       "2214                  250173.700                       909533.1   \n",
       "2215                    8595.251                         3673.9   \n",
       "2216                  338274.800                       437856.7   \n",
       "2217                         NaN                            NaN   \n",
       "\n",
       "      Average Flow Rate in Period (l/s)  \n",
       "0                                   NaN  \n",
       "1                                  1.15  \n",
       "2                                   NaN  \n",
       "3                                  6.91  \n",
       "4                                  6.00  \n",
       "...                                 ...  \n",
       "2213                               3.30  \n",
       "2214                              12.28  \n",
       "2215                               2.66  \n",
       "2216                              30.17  \n",
       "2217                                NaN  \n",
       "\n",
       "[2218 rows x 11 columns]"
      ]
     },
     "execution_count": 10,
     "metadata": {},
     "output_type": "execute_result"
    }
   ],
   "source": [
    "info_1401"
   ]
  },
  {
   "cell_type": "code",
   "execution_count": 11,
   "metadata": {},
   "outputs": [],
   "source": [
    "cat_cols_info = info_1401[['Subscription Code','County','License Type','Installation Date']]"
   ]
  },
  {
   "cell_type": "code",
   "execution_count": 12,
   "metadata": {},
   "outputs": [],
   "source": [
    "df = neg_cons.merge(cat_cols_info,on=\"Subscription Code\",how=\"inner\")"
   ]
  },
  {
   "cell_type": "code",
   "execution_count": 13,
   "metadata": {},
   "outputs": [],
   "source": [
    "import plotly.express as px"
   ]
  },
  {
   "cell_type": "code",
   "execution_count": 14,
   "metadata": {},
   "outputs": [
    {
     "data": {
      "text/plain": [
       "625    -1.056963e+09\n",
       "3408   -7.339642e+06\n",
       "1971   -2.696113e+06\n",
       "3696   -2.293238e+06\n",
       "3107   -2.188351e+06\n",
       "2957   -1.677853e+06\n",
       "3128   -1.471987e+06\n",
       "3614   -1.400425e+06\n",
       "3079   -1.390282e+06\n",
       "2963   -1.355765e+06\n",
       "Name: Consumption (m³), dtype: float64"
      ]
     },
     "execution_count": 14,
     "metadata": {},
     "output_type": "execute_result"
    }
   ],
   "source": [
    "df['Consumption (m³)'].sort_values().nsmallest(10)"
   ]
  },
  {
   "cell_type": "code",
   "execution_count": 15,
   "metadata": {},
   "outputs": [
    {
     "data": {
      "text/plain": [
       "625"
      ]
     },
     "execution_count": 15,
     "metadata": {},
     "output_type": "execute_result"
    }
   ],
   "source": [
    "df.index[625]"
   ]
  },
  {
   "cell_type": "code",
   "execution_count": 16,
   "metadata": {},
   "outputs": [
    {
     "data": {
      "text/plain": [
       "Subscription Code                         516918\n",
       "Flow Rate (l/s)                              2.1\n",
       "Number of Negative Flows                       0\n",
       "Percentage of Negative Flows                 0.0\n",
       "Operating Hours (h)                  279605268.2\n",
       "Consumption (m³)                  -1056962687.88\n",
       "Number of Available Data Points               29\n",
       "تعداد مورد انتظار                             29\n",
       "درصد اطلاعات موجود                         100.0\n",
       "month                                    1401/12\n",
       "County                                      مشهد\n",
       "License Type                                 NaN\n",
       "Installation Date                     1399/04/07\n",
       "Name: 625, dtype: object"
      ]
     },
     "execution_count": 16,
     "metadata": {},
     "output_type": "execute_result"
    }
   ],
   "source": [
    "df.iloc[625]"
   ]
  },
  {
   "cell_type": "markdown",
   "metadata": {},
   "source": [
    "داده بالا به وضوح یک داده پرت است که با احتمال زیاد در اثر خطای ارسال کنتور ثبت شده است که برای بررسی بهتر موارد منفی حذف این گونه دیتا ها ضروری است "
   ]
  },
  {
   "cell_type": "code",
   "execution_count": 17,
   "metadata": {},
   "outputs": [],
   "source": [
    "df = df[df['Consumption (m³)'] > -100000000]"
   ]
  },
  {
   "cell_type": "code",
   "execution_count": 18,
   "metadata": {},
   "outputs": [],
   "source": [
    "def format_number(x):\n",
    "    if abs(x) >= 1_000_000:\n",
    "        return f\"{x/1_000_000:.1f}M\"\n",
    "    elif abs(x) >= 1_000:\n",
    "        return f\"{x/1_000:.1f}K\"\n",
    "    else:\n",
    "        return f\"{x:.0f}\"\n"
   ]
  },
  {
   "cell_type": "code",
   "execution_count": 19,
   "metadata": {},
   "outputs": [
    {
     "ename": "NameError",
     "evalue": "name 'df_county_consumption_data' is not defined",
     "output_type": "error",
     "traceback": [
      "\u001b[31m---------------------------------------------------------------------------\u001b[39m",
      "\u001b[31mNameError\u001b[39m                                 Traceback (most recent call last)",
      "\u001b[36mCell\u001b[39m\u001b[36m \u001b[39m\u001b[32mIn[19]\u001b[39m\u001b[32m, line 2\u001b[39m\n\u001b[32m      1\u001b[39m \u001b[38;5;66;03m# Bar Chart: Total Consumption by County\u001b[39;00m\n\u001b[32m----> \u001b[39m\u001b[32m2\u001b[39m df_county_consumption_data[\u001b[33m'\u001b[39m\u001b[33mFormatted\u001b[39m\u001b[33m'\u001b[39m] = \u001b[43mdf_county_consumption_data\u001b[49m[\u001b[33m'\u001b[39m\u001b[33mConsumption (m³)\u001b[39m\u001b[33m'\u001b[39m].apply(format_number)\n\u001b[32m      4\u001b[39m fig2_1 = px.bar(df_county_consumption_data,\n\u001b[32m      5\u001b[39m                 x=\u001b[33m'\u001b[39m\u001b[33mCounty\u001b[39m\u001b[33m'\u001b[39m,\n\u001b[32m      6\u001b[39m                 y=\u001b[33m'\u001b[39m\u001b[33mConsumption (m³)\u001b[39m\u001b[33m'\u001b[39m,\n\u001b[32m   (...)\u001b[39m\u001b[32m      9\u001b[39m                 labels={\u001b[33m'\u001b[39m\u001b[33mConsumption (m³)\u001b[39m\u001b[33m'\u001b[39m: \u001b[33m'\u001b[39m\u001b[33mTotal Consumption\u001b[39m\u001b[33m'\u001b[39m, \u001b[33m'\u001b[39m\u001b[33mCounty\u001b[39m\u001b[33m'\u001b[39m: \u001b[33m'\u001b[39m\u001b[33mCounty\u001b[39m\u001b[33m'\u001b[39m},\n\u001b[32m     10\u001b[39m                 height=\u001b[32m700\u001b[39m)\n\u001b[32m     12\u001b[39m fig2_1.update_traces(textposition=\u001b[33m'\u001b[39m\u001b[33moutside\u001b[39m\u001b[33m'\u001b[39m)\n",
      "\u001b[31mNameError\u001b[39m: name 'df_county_consumption_data' is not defined"
     ]
    }
   ],
   "source": [
    "# Bar Chart: Total Consumption by County\n",
    "df_county_consumption_data['Formatted'] = df_county_consumption_data['Consumption (m³)'].apply(format_number)\n",
    "\n",
    "fig2_1 = px.bar(df_county_consumption_data,\n",
    "                x='County',\n",
    "                y='Consumption (m³)',\n",
    "                text='Formatted',\n",
    "                title='مجموع مصارف منفی در سال های 1401 تا 1403 بر اساس شهرستان',\n",
    "                labels={'Consumption (m³)': 'Total Consumption', 'County': 'County'},\n",
    "                height=700)\n",
    "\n",
    "fig2_1.update_traces(textposition='outside')\n",
    "\n",
    "fig2_1.update_layout(\n",
    "    xaxis_tickangle=-45,\n",
    "    yaxis_tickformat=\".2s\",  # e.g., 1.2M\n",
    "    font=dict(size=14),\n",
    "    uniformtext_minsize=8,\n",
    "    uniformtext_mode='hide'\n",
    ")\n",
    "\n",
    "fig2_1.show()\n"
   ]
  },
  {
   "cell_type": "markdown",
   "metadata": {},
   "source": [
    "رسم گرافیگی نمودار ها "
   ]
  },
  {
   "cell_type": "code",
   "execution_count": null,
   "metadata": {},
   "outputs": [
    {
     "name": "stdout",
     "output_type": "stream",
     "text": [
      "Generating Bar Chart: Total Consumption by County using Plotly\n"
     ]
    },
    {
     "data": {
      "application/vnd.plotly.v1+json": {
       "config": {
        "plotlyServerURL": "https://plot.ly"
       },
       "data": [
        {
         "alignmentgroup": "True",
         "hovertemplate": "County=%{x}<br>Total Consumption (m³)=%{y}<extra></extra>",
         "legendgroup": "",
         "marker": {
          "color": "#636efa",
          "pattern": {
           "shape": ""
          }
         },
         "name": "",
         "offsetgroup": "",
         "orientation": "v",
         "showlegend": false,
         "textposition": "auto",
         "type": "bar",
         "x": [
          "طرقبه",
          "کلات",
          "چناران",
          "احمدآبادصولت",
          "بردسکن",
          "فریمان",
          "کاخک",
          "تایباد",
          "خرو",
          "درگز",
          "تربت جام",
          "قوچان",
          "باخرز",
          "سبزوار",
          "سرخس",
          "کاشمر",
          "خواف",
          "گناباد",
          "نیشابور",
          "تربت حیدریه",
          "مشهد"
         ],
         "xaxis": "x",
         "y": [
          -0.101,
          -0.176,
          -0.965,
          -13.17,
          -35.064,
          -36.160000000000004,
          -102.061,
          -145083.32200000001,
          -217610.357,
          -285134.663,
          -331526.507,
          -486068.131,
          -549705.93,
          -585007.847,
          -590655.403,
          -1115921.05,
          -1183164.86,
          -1469910.171,
          -4557252.465,
          -12897338.966,
          -85239687.34200001
         ],
         "yaxis": "y"
        }
       ],
       "layout": {
        "barmode": "relative",
        "height": 700,
        "legend": {
         "tracegroupgap": 0
        },
        "template": {
         "data": {
          "bar": [
           {
            "error_x": {
             "color": "#2a3f5f"
            },
            "error_y": {
             "color": "#2a3f5f"
            },
            "marker": {
             "line": {
              "color": "#E5ECF6",
              "width": 0.5
             },
             "pattern": {
              "fillmode": "overlay",
              "size": 10,
              "solidity": 0.2
             }
            },
            "type": "bar"
           }
          ],
          "barpolar": [
           {
            "marker": {
             "line": {
              "color": "#E5ECF6",
              "width": 0.5
             },
             "pattern": {
              "fillmode": "overlay",
              "size": 10,
              "solidity": 0.2
             }
            },
            "type": "barpolar"
           }
          ],
          "carpet": [
           {
            "aaxis": {
             "endlinecolor": "#2a3f5f",
             "gridcolor": "white",
             "linecolor": "white",
             "minorgridcolor": "white",
             "startlinecolor": "#2a3f5f"
            },
            "baxis": {
             "endlinecolor": "#2a3f5f",
             "gridcolor": "white",
             "linecolor": "white",
             "minorgridcolor": "white",
             "startlinecolor": "#2a3f5f"
            },
            "type": "carpet"
           }
          ],
          "choropleth": [
           {
            "colorbar": {
             "outlinewidth": 0,
             "ticks": ""
            },
            "type": "choropleth"
           }
          ],
          "contour": [
           {
            "colorbar": {
             "outlinewidth": 0,
             "ticks": ""
            },
            "colorscale": [
             [
              0,
              "#0d0887"
             ],
             [
              0.1111111111111111,
              "#46039f"
             ],
             [
              0.2222222222222222,
              "#7201a8"
             ],
             [
              0.3333333333333333,
              "#9c179e"
             ],
             [
              0.4444444444444444,
              "#bd3786"
             ],
             [
              0.5555555555555556,
              "#d8576b"
             ],
             [
              0.6666666666666666,
              "#ed7953"
             ],
             [
              0.7777777777777778,
              "#fb9f3a"
             ],
             [
              0.8888888888888888,
              "#fdca26"
             ],
             [
              1,
              "#f0f921"
             ]
            ],
            "type": "contour"
           }
          ],
          "contourcarpet": [
           {
            "colorbar": {
             "outlinewidth": 0,
             "ticks": ""
            },
            "type": "contourcarpet"
           }
          ],
          "heatmap": [
           {
            "colorbar": {
             "outlinewidth": 0,
             "ticks": ""
            },
            "colorscale": [
             [
              0,
              "#0d0887"
             ],
             [
              0.1111111111111111,
              "#46039f"
             ],
             [
              0.2222222222222222,
              "#7201a8"
             ],
             [
              0.3333333333333333,
              "#9c179e"
             ],
             [
              0.4444444444444444,
              "#bd3786"
             ],
             [
              0.5555555555555556,
              "#d8576b"
             ],
             [
              0.6666666666666666,
              "#ed7953"
             ],
             [
              0.7777777777777778,
              "#fb9f3a"
             ],
             [
              0.8888888888888888,
              "#fdca26"
             ],
             [
              1,
              "#f0f921"
             ]
            ],
            "type": "heatmap"
           }
          ],
          "heatmapgl": [
           {
            "colorbar": {
             "outlinewidth": 0,
             "ticks": ""
            },
            "colorscale": [
             [
              0,
              "#0d0887"
             ],
             [
              0.1111111111111111,
              "#46039f"
             ],
             [
              0.2222222222222222,
              "#7201a8"
             ],
             [
              0.3333333333333333,
              "#9c179e"
             ],
             [
              0.4444444444444444,
              "#bd3786"
             ],
             [
              0.5555555555555556,
              "#d8576b"
             ],
             [
              0.6666666666666666,
              "#ed7953"
             ],
             [
              0.7777777777777778,
              "#fb9f3a"
             ],
             [
              0.8888888888888888,
              "#fdca26"
             ],
             [
              1,
              "#f0f921"
             ]
            ],
            "type": "heatmapgl"
           }
          ],
          "histogram": [
           {
            "marker": {
             "pattern": {
              "fillmode": "overlay",
              "size": 10,
              "solidity": 0.2
             }
            },
            "type": "histogram"
           }
          ],
          "histogram2d": [
           {
            "colorbar": {
             "outlinewidth": 0,
             "ticks": ""
            },
            "colorscale": [
             [
              0,
              "#0d0887"
             ],
             [
              0.1111111111111111,
              "#46039f"
             ],
             [
              0.2222222222222222,
              "#7201a8"
             ],
             [
              0.3333333333333333,
              "#9c179e"
             ],
             [
              0.4444444444444444,
              "#bd3786"
             ],
             [
              0.5555555555555556,
              "#d8576b"
             ],
             [
              0.6666666666666666,
              "#ed7953"
             ],
             [
              0.7777777777777778,
              "#fb9f3a"
             ],
             [
              0.8888888888888888,
              "#fdca26"
             ],
             [
              1,
              "#f0f921"
             ]
            ],
            "type": "histogram2d"
           }
          ],
          "histogram2dcontour": [
           {
            "colorbar": {
             "outlinewidth": 0,
             "ticks": ""
            },
            "colorscale": [
             [
              0,
              "#0d0887"
             ],
             [
              0.1111111111111111,
              "#46039f"
             ],
             [
              0.2222222222222222,
              "#7201a8"
             ],
             [
              0.3333333333333333,
              "#9c179e"
             ],
             [
              0.4444444444444444,
              "#bd3786"
             ],
             [
              0.5555555555555556,
              "#d8576b"
             ],
             [
              0.6666666666666666,
              "#ed7953"
             ],
             [
              0.7777777777777778,
              "#fb9f3a"
             ],
             [
              0.8888888888888888,
              "#fdca26"
             ],
             [
              1,
              "#f0f921"
             ]
            ],
            "type": "histogram2dcontour"
           }
          ],
          "mesh3d": [
           {
            "colorbar": {
             "outlinewidth": 0,
             "ticks": ""
            },
            "type": "mesh3d"
           }
          ],
          "parcoords": [
           {
            "line": {
             "colorbar": {
              "outlinewidth": 0,
              "ticks": ""
             }
            },
            "type": "parcoords"
           }
          ],
          "pie": [
           {
            "automargin": true,
            "type": "pie"
           }
          ],
          "scatter": [
           {
            "fillpattern": {
             "fillmode": "overlay",
             "size": 10,
             "solidity": 0.2
            },
            "type": "scatter"
           }
          ],
          "scatter3d": [
           {
            "line": {
             "colorbar": {
              "outlinewidth": 0,
              "ticks": ""
             }
            },
            "marker": {
             "colorbar": {
              "outlinewidth": 0,
              "ticks": ""
             }
            },
            "type": "scatter3d"
           }
          ],
          "scattercarpet": [
           {
            "marker": {
             "colorbar": {
              "outlinewidth": 0,
              "ticks": ""
             }
            },
            "type": "scattercarpet"
           }
          ],
          "scattergeo": [
           {
            "marker": {
             "colorbar": {
              "outlinewidth": 0,
              "ticks": ""
             }
            },
            "type": "scattergeo"
           }
          ],
          "scattergl": [
           {
            "marker": {
             "colorbar": {
              "outlinewidth": 0,
              "ticks": ""
             }
            },
            "type": "scattergl"
           }
          ],
          "scattermapbox": [
           {
            "marker": {
             "colorbar": {
              "outlinewidth": 0,
              "ticks": ""
             }
            },
            "type": "scattermapbox"
           }
          ],
          "scatterpolar": [
           {
            "marker": {
             "colorbar": {
              "outlinewidth": 0,
              "ticks": ""
             }
            },
            "type": "scatterpolar"
           }
          ],
          "scatterpolargl": [
           {
            "marker": {
             "colorbar": {
              "outlinewidth": 0,
              "ticks": ""
             }
            },
            "type": "scatterpolargl"
           }
          ],
          "scatterternary": [
           {
            "marker": {
             "colorbar": {
              "outlinewidth": 0,
              "ticks": ""
             }
            },
            "type": "scatterternary"
           }
          ],
          "surface": [
           {
            "colorbar": {
             "outlinewidth": 0,
             "ticks": ""
            },
            "colorscale": [
             [
              0,
              "#0d0887"
             ],
             [
              0.1111111111111111,
              "#46039f"
             ],
             [
              0.2222222222222222,
              "#7201a8"
             ],
             [
              0.3333333333333333,
              "#9c179e"
             ],
             [
              0.4444444444444444,
              "#bd3786"
             ],
             [
              0.5555555555555556,
              "#d8576b"
             ],
             [
              0.6666666666666666,
              "#ed7953"
             ],
             [
              0.7777777777777778,
              "#fb9f3a"
             ],
             [
              0.8888888888888888,
              "#fdca26"
             ],
             [
              1,
              "#f0f921"
             ]
            ],
            "type": "surface"
           }
          ],
          "table": [
           {
            "cells": {
             "fill": {
              "color": "#EBF0F8"
             },
             "line": {
              "color": "white"
             }
            },
            "header": {
             "fill": {
              "color": "#C8D4E3"
             },
             "line": {
              "color": "white"
             }
            },
            "type": "table"
           }
          ]
         },
         "layout": {
          "annotationdefaults": {
           "arrowcolor": "#2a3f5f",
           "arrowhead": 0,
           "arrowwidth": 1
          },
          "autotypenumbers": "strict",
          "coloraxis": {
           "colorbar": {
            "outlinewidth": 0,
            "ticks": ""
           }
          },
          "colorscale": {
           "diverging": [
            [
             0,
             "#8e0152"
            ],
            [
             0.1,
             "#c51b7d"
            ],
            [
             0.2,
             "#de77ae"
            ],
            [
             0.3,
             "#f1b6da"
            ],
            [
             0.4,
             "#fde0ef"
            ],
            [
             0.5,
             "#f7f7f7"
            ],
            [
             0.6,
             "#e6f5d0"
            ],
            [
             0.7,
             "#b8e186"
            ],
            [
             0.8,
             "#7fbc41"
            ],
            [
             0.9,
             "#4d9221"
            ],
            [
             1,
             "#276419"
            ]
           ],
           "sequential": [
            [
             0,
             "#0d0887"
            ],
            [
             0.1111111111111111,
             "#46039f"
            ],
            [
             0.2222222222222222,
             "#7201a8"
            ],
            [
             0.3333333333333333,
             "#9c179e"
            ],
            [
             0.4444444444444444,
             "#bd3786"
            ],
            [
             0.5555555555555556,
             "#d8576b"
            ],
            [
             0.6666666666666666,
             "#ed7953"
            ],
            [
             0.7777777777777778,
             "#fb9f3a"
            ],
            [
             0.8888888888888888,
             "#fdca26"
            ],
            [
             1,
             "#f0f921"
            ]
           ],
           "sequentialminus": [
            [
             0,
             "#0d0887"
            ],
            [
             0.1111111111111111,
             "#46039f"
            ],
            [
             0.2222222222222222,
             "#7201a8"
            ],
            [
             0.3333333333333333,
             "#9c179e"
            ],
            [
             0.4444444444444444,
             "#bd3786"
            ],
            [
             0.5555555555555556,
             "#d8576b"
            ],
            [
             0.6666666666666666,
             "#ed7953"
            ],
            [
             0.7777777777777778,
             "#fb9f3a"
            ],
            [
             0.8888888888888888,
             "#fdca26"
            ],
            [
             1,
             "#f0f921"
            ]
           ]
          },
          "colorway": [
           "#636efa",
           "#EF553B",
           "#00cc96",
           "#ab63fa",
           "#FFA15A",
           "#19d3f3",
           "#FF6692",
           "#B6E880",
           "#FF97FF",
           "#FECB52"
          ],
          "font": {
           "color": "#2a3f5f"
          },
          "geo": {
           "bgcolor": "white",
           "lakecolor": "white",
           "landcolor": "#E5ECF6",
           "showlakes": true,
           "showland": true,
           "subunitcolor": "white"
          },
          "hoverlabel": {
           "align": "left"
          },
          "hovermode": "closest",
          "mapbox": {
           "style": "light"
          },
          "paper_bgcolor": "white",
          "plot_bgcolor": "#E5ECF6",
          "polar": {
           "angularaxis": {
            "gridcolor": "white",
            "linecolor": "white",
            "ticks": ""
           },
           "bgcolor": "#E5ECF6",
           "radialaxis": {
            "gridcolor": "white",
            "linecolor": "white",
            "ticks": ""
           }
          },
          "scene": {
           "xaxis": {
            "backgroundcolor": "#E5ECF6",
            "gridcolor": "white",
            "gridwidth": 2,
            "linecolor": "white",
            "showbackground": true,
            "ticks": "",
            "zerolinecolor": "white"
           },
           "yaxis": {
            "backgroundcolor": "#E5ECF6",
            "gridcolor": "white",
            "gridwidth": 2,
            "linecolor": "white",
            "showbackground": true,
            "ticks": "",
            "zerolinecolor": "white"
           },
           "zaxis": {
            "backgroundcolor": "#E5ECF6",
            "gridcolor": "white",
            "gridwidth": 2,
            "linecolor": "white",
            "showbackground": true,
            "ticks": "",
            "zerolinecolor": "white"
           }
          },
          "shapedefaults": {
           "line": {
            "color": "#2a3f5f"
           }
          },
          "ternary": {
           "aaxis": {
            "gridcolor": "white",
            "linecolor": "white",
            "ticks": ""
           },
           "baxis": {
            "gridcolor": "white",
            "linecolor": "white",
            "ticks": ""
           },
           "bgcolor": "#E5ECF6",
           "caxis": {
            "gridcolor": "white",
            "linecolor": "white",
            "ticks": ""
           }
          },
          "title": {
           "x": 0.05
          },
          "xaxis": {
           "automargin": true,
           "gridcolor": "white",
           "linecolor": "white",
           "ticks": "",
           "title": {
            "standoff": 15
           },
           "zerolinecolor": "white",
           "zerolinewidth": 2
          },
          "yaxis": {
           "automargin": true,
           "gridcolor": "white",
           "linecolor": "white",
           "ticks": "",
           "title": {
            "standoff": 15
           },
           "zerolinecolor": "white",
           "zerolinewidth": 2
          }
         }
        },
        "title": {
         "text": "مجموع مصارف منفی در سال های 1401 تا 1403 بر اساس شهرستان"
        },
        "xaxis": {
         "anchor": "y",
         "domain": [
          0,
          1
         ],
         "tickangle": -45,
         "title": {
          "text": "County"
         }
        },
        "yaxis": {
         "anchor": "x",
         "domain": [
          0,
          1
         ],
         "title": {
          "text": "Total Consumption (m³)"
         }
        }
       }
      }
     },
     "metadata": {},
     "output_type": "display_data"
    },
    {
     "name": "stdout",
     "output_type": "stream",
     "text": [
      "Generating Bar Chart: Total Consumption by License Type using Plotly\n"
     ]
    },
    {
     "data": {
      "application/vnd.plotly.v1+json": {
       "config": {
        "plotlyServerURL": "https://plot.ly"
       },
       "data": [
        {
         "alignmentgroup": "True",
         "hovertemplate": "License Type=%{x}<br>Total Consumption (m³)=%{y}<extra></extra>",
         "legendgroup": "",
         "marker": {
          "color": "#636efa",
          "pattern": {
           "shape": ""
          }
         },
         "name": "",
         "offsetgroup": "",
         "orientation": "v",
         "showlegend": false,
         "textposition": "auto",
         "type": "bar",
         "x": [
          "سایر",
          "شرب روستایی",
          "شرب و بهداشت دام",
          "شرب شهری",
          "خدمات",
          "صنعتی",
          "کشاورزی"
         ],
         "xaxis": "x",
         "y": [
          -60608.018,
          -235155.948,
          -365770.135,
          -679027.827,
          -1621225.974,
          -2901875.295,
          -93437045.363
         ],
         "yaxis": "y"
        }
       ],
       "layout": {
        "barmode": "relative",
        "height": 600,
        "legend": {
         "tracegroupgap": 0
        },
        "template": {
         "data": {
          "bar": [
           {
            "error_x": {
             "color": "#2a3f5f"
            },
            "error_y": {
             "color": "#2a3f5f"
            },
            "marker": {
             "line": {
              "color": "#E5ECF6",
              "width": 0.5
             },
             "pattern": {
              "fillmode": "overlay",
              "size": 10,
              "solidity": 0.2
             }
            },
            "type": "bar"
           }
          ],
          "barpolar": [
           {
            "marker": {
             "line": {
              "color": "#E5ECF6",
              "width": 0.5
             },
             "pattern": {
              "fillmode": "overlay",
              "size": 10,
              "solidity": 0.2
             }
            },
            "type": "barpolar"
           }
          ],
          "carpet": [
           {
            "aaxis": {
             "endlinecolor": "#2a3f5f",
             "gridcolor": "white",
             "linecolor": "white",
             "minorgridcolor": "white",
             "startlinecolor": "#2a3f5f"
            },
            "baxis": {
             "endlinecolor": "#2a3f5f",
             "gridcolor": "white",
             "linecolor": "white",
             "minorgridcolor": "white",
             "startlinecolor": "#2a3f5f"
            },
            "type": "carpet"
           }
          ],
          "choropleth": [
           {
            "colorbar": {
             "outlinewidth": 0,
             "ticks": ""
            },
            "type": "choropleth"
           }
          ],
          "contour": [
           {
            "colorbar": {
             "outlinewidth": 0,
             "ticks": ""
            },
            "colorscale": [
             [
              0,
              "#0d0887"
             ],
             [
              0.1111111111111111,
              "#46039f"
             ],
             [
              0.2222222222222222,
              "#7201a8"
             ],
             [
              0.3333333333333333,
              "#9c179e"
             ],
             [
              0.4444444444444444,
              "#bd3786"
             ],
             [
              0.5555555555555556,
              "#d8576b"
             ],
             [
              0.6666666666666666,
              "#ed7953"
             ],
             [
              0.7777777777777778,
              "#fb9f3a"
             ],
             [
              0.8888888888888888,
              "#fdca26"
             ],
             [
              1,
              "#f0f921"
             ]
            ],
            "type": "contour"
           }
          ],
          "contourcarpet": [
           {
            "colorbar": {
             "outlinewidth": 0,
             "ticks": ""
            },
            "type": "contourcarpet"
           }
          ],
          "heatmap": [
           {
            "colorbar": {
             "outlinewidth": 0,
             "ticks": ""
            },
            "colorscale": [
             [
              0,
              "#0d0887"
             ],
             [
              0.1111111111111111,
              "#46039f"
             ],
             [
              0.2222222222222222,
              "#7201a8"
             ],
             [
              0.3333333333333333,
              "#9c179e"
             ],
             [
              0.4444444444444444,
              "#bd3786"
             ],
             [
              0.5555555555555556,
              "#d8576b"
             ],
             [
              0.6666666666666666,
              "#ed7953"
             ],
             [
              0.7777777777777778,
              "#fb9f3a"
             ],
             [
              0.8888888888888888,
              "#fdca26"
             ],
             [
              1,
              "#f0f921"
             ]
            ],
            "type": "heatmap"
           }
          ],
          "heatmapgl": [
           {
            "colorbar": {
             "outlinewidth": 0,
             "ticks": ""
            },
            "colorscale": [
             [
              0,
              "#0d0887"
             ],
             [
              0.1111111111111111,
              "#46039f"
             ],
             [
              0.2222222222222222,
              "#7201a8"
             ],
             [
              0.3333333333333333,
              "#9c179e"
             ],
             [
              0.4444444444444444,
              "#bd3786"
             ],
             [
              0.5555555555555556,
              "#d8576b"
             ],
             [
              0.6666666666666666,
              "#ed7953"
             ],
             [
              0.7777777777777778,
              "#fb9f3a"
             ],
             [
              0.8888888888888888,
              "#fdca26"
             ],
             [
              1,
              "#f0f921"
             ]
            ],
            "type": "heatmapgl"
           }
          ],
          "histogram": [
           {
            "marker": {
             "pattern": {
              "fillmode": "overlay",
              "size": 10,
              "solidity": 0.2
             }
            },
            "type": "histogram"
           }
          ],
          "histogram2d": [
           {
            "colorbar": {
             "outlinewidth": 0,
             "ticks": ""
            },
            "colorscale": [
             [
              0,
              "#0d0887"
             ],
             [
              0.1111111111111111,
              "#46039f"
             ],
             [
              0.2222222222222222,
              "#7201a8"
             ],
             [
              0.3333333333333333,
              "#9c179e"
             ],
             [
              0.4444444444444444,
              "#bd3786"
             ],
             [
              0.5555555555555556,
              "#d8576b"
             ],
             [
              0.6666666666666666,
              "#ed7953"
             ],
             [
              0.7777777777777778,
              "#fb9f3a"
             ],
             [
              0.8888888888888888,
              "#fdca26"
             ],
             [
              1,
              "#f0f921"
             ]
            ],
            "type": "histogram2d"
           }
          ],
          "histogram2dcontour": [
           {
            "colorbar": {
             "outlinewidth": 0,
             "ticks": ""
            },
            "colorscale": [
             [
              0,
              "#0d0887"
             ],
             [
              0.1111111111111111,
              "#46039f"
             ],
             [
              0.2222222222222222,
              "#7201a8"
             ],
             [
              0.3333333333333333,
              "#9c179e"
             ],
             [
              0.4444444444444444,
              "#bd3786"
             ],
             [
              0.5555555555555556,
              "#d8576b"
             ],
             [
              0.6666666666666666,
              "#ed7953"
             ],
             [
              0.7777777777777778,
              "#fb9f3a"
             ],
             [
              0.8888888888888888,
              "#fdca26"
             ],
             [
              1,
              "#f0f921"
             ]
            ],
            "type": "histogram2dcontour"
           }
          ],
          "mesh3d": [
           {
            "colorbar": {
             "outlinewidth": 0,
             "ticks": ""
            },
            "type": "mesh3d"
           }
          ],
          "parcoords": [
           {
            "line": {
             "colorbar": {
              "outlinewidth": 0,
              "ticks": ""
             }
            },
            "type": "parcoords"
           }
          ],
          "pie": [
           {
            "automargin": true,
            "type": "pie"
           }
          ],
          "scatter": [
           {
            "fillpattern": {
             "fillmode": "overlay",
             "size": 10,
             "solidity": 0.2
            },
            "type": "scatter"
           }
          ],
          "scatter3d": [
           {
            "line": {
             "colorbar": {
              "outlinewidth": 0,
              "ticks": ""
             }
            },
            "marker": {
             "colorbar": {
              "outlinewidth": 0,
              "ticks": ""
             }
            },
            "type": "scatter3d"
           }
          ],
          "scattercarpet": [
           {
            "marker": {
             "colorbar": {
              "outlinewidth": 0,
              "ticks": ""
             }
            },
            "type": "scattercarpet"
           }
          ],
          "scattergeo": [
           {
            "marker": {
             "colorbar": {
              "outlinewidth": 0,
              "ticks": ""
             }
            },
            "type": "scattergeo"
           }
          ],
          "scattergl": [
           {
            "marker": {
             "colorbar": {
              "outlinewidth": 0,
              "ticks": ""
             }
            },
            "type": "scattergl"
           }
          ],
          "scattermapbox": [
           {
            "marker": {
             "colorbar": {
              "outlinewidth": 0,
              "ticks": ""
             }
            },
            "type": "scattermapbox"
           }
          ],
          "scatterpolar": [
           {
            "marker": {
             "colorbar": {
              "outlinewidth": 0,
              "ticks": ""
             }
            },
            "type": "scatterpolar"
           }
          ],
          "scatterpolargl": [
           {
            "marker": {
             "colorbar": {
              "outlinewidth": 0,
              "ticks": ""
             }
            },
            "type": "scatterpolargl"
           }
          ],
          "scatterternary": [
           {
            "marker": {
             "colorbar": {
              "outlinewidth": 0,
              "ticks": ""
             }
            },
            "type": "scatterternary"
           }
          ],
          "surface": [
           {
            "colorbar": {
             "outlinewidth": 0,
             "ticks": ""
            },
            "colorscale": [
             [
              0,
              "#0d0887"
             ],
             [
              0.1111111111111111,
              "#46039f"
             ],
             [
              0.2222222222222222,
              "#7201a8"
             ],
             [
              0.3333333333333333,
              "#9c179e"
             ],
             [
              0.4444444444444444,
              "#bd3786"
             ],
             [
              0.5555555555555556,
              "#d8576b"
             ],
             [
              0.6666666666666666,
              "#ed7953"
             ],
             [
              0.7777777777777778,
              "#fb9f3a"
             ],
             [
              0.8888888888888888,
              "#fdca26"
             ],
             [
              1,
              "#f0f921"
             ]
            ],
            "type": "surface"
           }
          ],
          "table": [
           {
            "cells": {
             "fill": {
              "color": "#EBF0F8"
             },
             "line": {
              "color": "white"
             }
            },
            "header": {
             "fill": {
              "color": "#C8D4E3"
             },
             "line": {
              "color": "white"
             }
            },
            "type": "table"
           }
          ]
         },
         "layout": {
          "annotationdefaults": {
           "arrowcolor": "#2a3f5f",
           "arrowhead": 0,
           "arrowwidth": 1
          },
          "autotypenumbers": "strict",
          "coloraxis": {
           "colorbar": {
            "outlinewidth": 0,
            "ticks": ""
           }
          },
          "colorscale": {
           "diverging": [
            [
             0,
             "#8e0152"
            ],
            [
             0.1,
             "#c51b7d"
            ],
            [
             0.2,
             "#de77ae"
            ],
            [
             0.3,
             "#f1b6da"
            ],
            [
             0.4,
             "#fde0ef"
            ],
            [
             0.5,
             "#f7f7f7"
            ],
            [
             0.6,
             "#e6f5d0"
            ],
            [
             0.7,
             "#b8e186"
            ],
            [
             0.8,
             "#7fbc41"
            ],
            [
             0.9,
             "#4d9221"
            ],
            [
             1,
             "#276419"
            ]
           ],
           "sequential": [
            [
             0,
             "#0d0887"
            ],
            [
             0.1111111111111111,
             "#46039f"
            ],
            [
             0.2222222222222222,
             "#7201a8"
            ],
            [
             0.3333333333333333,
             "#9c179e"
            ],
            [
             0.4444444444444444,
             "#bd3786"
            ],
            [
             0.5555555555555556,
             "#d8576b"
            ],
            [
             0.6666666666666666,
             "#ed7953"
            ],
            [
             0.7777777777777778,
             "#fb9f3a"
            ],
            [
             0.8888888888888888,
             "#fdca26"
            ],
            [
             1,
             "#f0f921"
            ]
           ],
           "sequentialminus": [
            [
             0,
             "#0d0887"
            ],
            [
             0.1111111111111111,
             "#46039f"
            ],
            [
             0.2222222222222222,
             "#7201a8"
            ],
            [
             0.3333333333333333,
             "#9c179e"
            ],
            [
             0.4444444444444444,
             "#bd3786"
            ],
            [
             0.5555555555555556,
             "#d8576b"
            ],
            [
             0.6666666666666666,
             "#ed7953"
            ],
            [
             0.7777777777777778,
             "#fb9f3a"
            ],
            [
             0.8888888888888888,
             "#fdca26"
            ],
            [
             1,
             "#f0f921"
            ]
           ]
          },
          "colorway": [
           "#636efa",
           "#EF553B",
           "#00cc96",
           "#ab63fa",
           "#FFA15A",
           "#19d3f3",
           "#FF6692",
           "#B6E880",
           "#FF97FF",
           "#FECB52"
          ],
          "font": {
           "color": "#2a3f5f"
          },
          "geo": {
           "bgcolor": "white",
           "lakecolor": "white",
           "landcolor": "#E5ECF6",
           "showlakes": true,
           "showland": true,
           "subunitcolor": "white"
          },
          "hoverlabel": {
           "align": "left"
          },
          "hovermode": "closest",
          "mapbox": {
           "style": "light"
          },
          "paper_bgcolor": "white",
          "plot_bgcolor": "#E5ECF6",
          "polar": {
           "angularaxis": {
            "gridcolor": "white",
            "linecolor": "white",
            "ticks": ""
           },
           "bgcolor": "#E5ECF6",
           "radialaxis": {
            "gridcolor": "white",
            "linecolor": "white",
            "ticks": ""
           }
          },
          "scene": {
           "xaxis": {
            "backgroundcolor": "#E5ECF6",
            "gridcolor": "white",
            "gridwidth": 2,
            "linecolor": "white",
            "showbackground": true,
            "ticks": "",
            "zerolinecolor": "white"
           },
           "yaxis": {
            "backgroundcolor": "#E5ECF6",
            "gridcolor": "white",
            "gridwidth": 2,
            "linecolor": "white",
            "showbackground": true,
            "ticks": "",
            "zerolinecolor": "white"
           },
           "zaxis": {
            "backgroundcolor": "#E5ECF6",
            "gridcolor": "white",
            "gridwidth": 2,
            "linecolor": "white",
            "showbackground": true,
            "ticks": "",
            "zerolinecolor": "white"
           }
          },
          "shapedefaults": {
           "line": {
            "color": "#2a3f5f"
           }
          },
          "ternary": {
           "aaxis": {
            "gridcolor": "white",
            "linecolor": "white",
            "ticks": ""
           },
           "baxis": {
            "gridcolor": "white",
            "linecolor": "white",
            "ticks": ""
           },
           "bgcolor": "#E5ECF6",
           "caxis": {
            "gridcolor": "white",
            "linecolor": "white",
            "ticks": ""
           }
          },
          "title": {
           "x": 0.05
          },
          "xaxis": {
           "automargin": true,
           "gridcolor": "white",
           "linecolor": "white",
           "ticks": "",
           "title": {
            "standoff": 15
           },
           "zerolinecolor": "white",
           "zerolinewidth": 2
          },
          "yaxis": {
           "automargin": true,
           "gridcolor": "white",
           "linecolor": "white",
           "ticks": "",
           "title": {
            "standoff": 15
           },
           "zerolinecolor": "white",
           "zerolinewidth": 2
          }
         }
        },
        "title": {
         "text": "مجموع مصارف منفی در سال های 1401 تا 1403 بر اساس نوع پروانه"
        },
        "xaxis": {
         "anchor": "y",
         "domain": [
          0,
          1
         ],
         "tickangle": -45,
         "title": {
          "text": "License Type"
         }
        },
        "yaxis": {
         "anchor": "x",
         "domain": [
          0,
          1
         ],
         "title": {
          "text": "Total Consumption (m³)"
         }
        }
       }
      }
     },
     "metadata": {},
     "output_type": "display_data"
    },
    {
     "name": "stdout",
     "output_type": "stream",
     "text": [
      "Generating Grouped Bar Chart: Consumption by County and Year using Plotly\n"
     ]
    },
    {
     "data": {
      "application/vnd.plotly.v1+json": {
       "config": {
        "plotlyServerURL": "https://plot.ly"
       },
       "data": [
        {
         "alignmentgroup": "True",
         "hovertemplate": "Year=1403<br>County=%{x}<br>Total Consumption (m³)=%{y}<extra></extra>",
         "legendgroup": "1403",
         "marker": {
          "color": "#636efa",
          "pattern": {
           "shape": ""
          }
         },
         "name": "1403",
         "offsetgroup": "1403",
         "orientation": "v",
         "showlegend": true,
         "textposition": "auto",
         "type": "bar",
         "x": [
          "طرقبه",
          "کلات",
          "چناران",
          "احمدآبادصولت",
          "فریمان",
          "کاخک",
          "تایباد",
          "خرو",
          "درگز",
          "تربت جام",
          "قوچان",
          "باخرز",
          "سبزوار",
          "سرخس",
          "کاشمر",
          "خواف",
          "گناباد",
          "نیشابور",
          "تربت حیدریه",
          "مشهد"
         ],
         "xaxis": "x",
         "y": [
          -0.101,
          -0.176,
          -0.965,
          -13.17,
          -36.160000000000004,
          -0.959,
          -16574.822,
          -173012.732,
          -285134.489,
          -286200.12200000003,
          -409325.249,
          -0.03,
          -51187.686,
          -151934.12900000002,
          -408620.027,
          -1081894.858,
          -992869.662,
          -2320262.106,
          -7427740.818,
          -46968255.957
         ],
         "yaxis": "y"
        },
        {
         "alignmentgroup": "True",
         "hovertemplate": "Year=1402<br>County=%{x}<br>Total Consumption (m³)=%{y}<extra></extra>",
         "legendgroup": "1402",
         "marker": {
          "color": "#EF553B",
          "pattern": {
           "shape": ""
          }
         },
         "name": "1402",
         "offsetgroup": "1402",
         "orientation": "v",
         "showlegend": true,
         "textposition": "auto",
         "type": "bar",
         "x": [
          "بردسکن",
          "کاخک",
          "تایباد",
          "خرو",
          "درگز",
          "تربت جام",
          "قوچان",
          "سبزوار",
          "سرخس",
          "کاشمر",
          "خواف",
          "گناباد",
          "نیشابور",
          "تربت حیدریه",
          "مشهد"
         ],
         "xaxis": "x",
         "y": [
          -35.064,
          -101.102,
          -802.4,
          -44597.625,
          -0.174,
          -26478.11,
          -71656.839,
          -254544.301,
          -419762.494,
          -640558.603,
          -45438.592000000004,
          -476059.63899999997,
          -2175112.381,
          -4810885.61,
          -28738518.614
         ],
         "yaxis": "y"
        },
        {
         "alignmentgroup": "True",
         "hovertemplate": "Year=1401<br>County=%{x}<br>Total Consumption (m³)=%{y}<extra></extra>",
         "legendgroup": "1401",
         "marker": {
          "color": "#00cc96",
          "pattern": {
           "shape": ""
          }
         },
         "name": "1401",
         "offsetgroup": "1401",
         "orientation": "v",
         "showlegend": true,
         "textposition": "auto",
         "type": "bar",
         "x": [
          "تایباد",
          "تربت جام",
          "قوچان",
          "باخرز",
          "سبزوار",
          "سرخس",
          "کاشمر",
          "خواف",
          "گناباد",
          "نیشابور",
          "تربت حیدریه",
          "مشهد"
         ],
         "xaxis": "x",
         "y": [
          -127706.1,
          -18848.275,
          -5086.043,
          -549705.9,
          -279275.86,
          -18958.78,
          -66742.42000000001,
          -55831.41,
          -980.87,
          -61877.978,
          -658712.5380000001,
          -9532912.771
         ],
         "yaxis": "y"
        }
       ],
       "layout": {
        "barmode": "group",
        "height": 800,
        "legend": {
         "title": {
          "text": "Year"
         },
         "tracegroupgap": 0
        },
        "template": {
         "data": {
          "bar": [
           {
            "error_x": {
             "color": "#2a3f5f"
            },
            "error_y": {
             "color": "#2a3f5f"
            },
            "marker": {
             "line": {
              "color": "#E5ECF6",
              "width": 0.5
             },
             "pattern": {
              "fillmode": "overlay",
              "size": 10,
              "solidity": 0.2
             }
            },
            "type": "bar"
           }
          ],
          "barpolar": [
           {
            "marker": {
             "line": {
              "color": "#E5ECF6",
              "width": 0.5
             },
             "pattern": {
              "fillmode": "overlay",
              "size": 10,
              "solidity": 0.2
             }
            },
            "type": "barpolar"
           }
          ],
          "carpet": [
           {
            "aaxis": {
             "endlinecolor": "#2a3f5f",
             "gridcolor": "white",
             "linecolor": "white",
             "minorgridcolor": "white",
             "startlinecolor": "#2a3f5f"
            },
            "baxis": {
             "endlinecolor": "#2a3f5f",
             "gridcolor": "white",
             "linecolor": "white",
             "minorgridcolor": "white",
             "startlinecolor": "#2a3f5f"
            },
            "type": "carpet"
           }
          ],
          "choropleth": [
           {
            "colorbar": {
             "outlinewidth": 0,
             "ticks": ""
            },
            "type": "choropleth"
           }
          ],
          "contour": [
           {
            "colorbar": {
             "outlinewidth": 0,
             "ticks": ""
            },
            "colorscale": [
             [
              0,
              "#0d0887"
             ],
             [
              0.1111111111111111,
              "#46039f"
             ],
             [
              0.2222222222222222,
              "#7201a8"
             ],
             [
              0.3333333333333333,
              "#9c179e"
             ],
             [
              0.4444444444444444,
              "#bd3786"
             ],
             [
              0.5555555555555556,
              "#d8576b"
             ],
             [
              0.6666666666666666,
              "#ed7953"
             ],
             [
              0.7777777777777778,
              "#fb9f3a"
             ],
             [
              0.8888888888888888,
              "#fdca26"
             ],
             [
              1,
              "#f0f921"
             ]
            ],
            "type": "contour"
           }
          ],
          "contourcarpet": [
           {
            "colorbar": {
             "outlinewidth": 0,
             "ticks": ""
            },
            "type": "contourcarpet"
           }
          ],
          "heatmap": [
           {
            "colorbar": {
             "outlinewidth": 0,
             "ticks": ""
            },
            "colorscale": [
             [
              0,
              "#0d0887"
             ],
             [
              0.1111111111111111,
              "#46039f"
             ],
             [
              0.2222222222222222,
              "#7201a8"
             ],
             [
              0.3333333333333333,
              "#9c179e"
             ],
             [
              0.4444444444444444,
              "#bd3786"
             ],
             [
              0.5555555555555556,
              "#d8576b"
             ],
             [
              0.6666666666666666,
              "#ed7953"
             ],
             [
              0.7777777777777778,
              "#fb9f3a"
             ],
             [
              0.8888888888888888,
              "#fdca26"
             ],
             [
              1,
              "#f0f921"
             ]
            ],
            "type": "heatmap"
           }
          ],
          "heatmapgl": [
           {
            "colorbar": {
             "outlinewidth": 0,
             "ticks": ""
            },
            "colorscale": [
             [
              0,
              "#0d0887"
             ],
             [
              0.1111111111111111,
              "#46039f"
             ],
             [
              0.2222222222222222,
              "#7201a8"
             ],
             [
              0.3333333333333333,
              "#9c179e"
             ],
             [
              0.4444444444444444,
              "#bd3786"
             ],
             [
              0.5555555555555556,
              "#d8576b"
             ],
             [
              0.6666666666666666,
              "#ed7953"
             ],
             [
              0.7777777777777778,
              "#fb9f3a"
             ],
             [
              0.8888888888888888,
              "#fdca26"
             ],
             [
              1,
              "#f0f921"
             ]
            ],
            "type": "heatmapgl"
           }
          ],
          "histogram": [
           {
            "marker": {
             "pattern": {
              "fillmode": "overlay",
              "size": 10,
              "solidity": 0.2
             }
            },
            "type": "histogram"
           }
          ],
          "histogram2d": [
           {
            "colorbar": {
             "outlinewidth": 0,
             "ticks": ""
            },
            "colorscale": [
             [
              0,
              "#0d0887"
             ],
             [
              0.1111111111111111,
              "#46039f"
             ],
             [
              0.2222222222222222,
              "#7201a8"
             ],
             [
              0.3333333333333333,
              "#9c179e"
             ],
             [
              0.4444444444444444,
              "#bd3786"
             ],
             [
              0.5555555555555556,
              "#d8576b"
             ],
             [
              0.6666666666666666,
              "#ed7953"
             ],
             [
              0.7777777777777778,
              "#fb9f3a"
             ],
             [
              0.8888888888888888,
              "#fdca26"
             ],
             [
              1,
              "#f0f921"
             ]
            ],
            "type": "histogram2d"
           }
          ],
          "histogram2dcontour": [
           {
            "colorbar": {
             "outlinewidth": 0,
             "ticks": ""
            },
            "colorscale": [
             [
              0,
              "#0d0887"
             ],
             [
              0.1111111111111111,
              "#46039f"
             ],
             [
              0.2222222222222222,
              "#7201a8"
             ],
             [
              0.3333333333333333,
              "#9c179e"
             ],
             [
              0.4444444444444444,
              "#bd3786"
             ],
             [
              0.5555555555555556,
              "#d8576b"
             ],
             [
              0.6666666666666666,
              "#ed7953"
             ],
             [
              0.7777777777777778,
              "#fb9f3a"
             ],
             [
              0.8888888888888888,
              "#fdca26"
             ],
             [
              1,
              "#f0f921"
             ]
            ],
            "type": "histogram2dcontour"
           }
          ],
          "mesh3d": [
           {
            "colorbar": {
             "outlinewidth": 0,
             "ticks": ""
            },
            "type": "mesh3d"
           }
          ],
          "parcoords": [
           {
            "line": {
             "colorbar": {
              "outlinewidth": 0,
              "ticks": ""
             }
            },
            "type": "parcoords"
           }
          ],
          "pie": [
           {
            "automargin": true,
            "type": "pie"
           }
          ],
          "scatter": [
           {
            "fillpattern": {
             "fillmode": "overlay",
             "size": 10,
             "solidity": 0.2
            },
            "type": "scatter"
           }
          ],
          "scatter3d": [
           {
            "line": {
             "colorbar": {
              "outlinewidth": 0,
              "ticks": ""
             }
            },
            "marker": {
             "colorbar": {
              "outlinewidth": 0,
              "ticks": ""
             }
            },
            "type": "scatter3d"
           }
          ],
          "scattercarpet": [
           {
            "marker": {
             "colorbar": {
              "outlinewidth": 0,
              "ticks": ""
             }
            },
            "type": "scattercarpet"
           }
          ],
          "scattergeo": [
           {
            "marker": {
             "colorbar": {
              "outlinewidth": 0,
              "ticks": ""
             }
            },
            "type": "scattergeo"
           }
          ],
          "scattergl": [
           {
            "marker": {
             "colorbar": {
              "outlinewidth": 0,
              "ticks": ""
             }
            },
            "type": "scattergl"
           }
          ],
          "scattermapbox": [
           {
            "marker": {
             "colorbar": {
              "outlinewidth": 0,
              "ticks": ""
             }
            },
            "type": "scattermapbox"
           }
          ],
          "scatterpolar": [
           {
            "marker": {
             "colorbar": {
              "outlinewidth": 0,
              "ticks": ""
             }
            },
            "type": "scatterpolar"
           }
          ],
          "scatterpolargl": [
           {
            "marker": {
             "colorbar": {
              "outlinewidth": 0,
              "ticks": ""
             }
            },
            "type": "scatterpolargl"
           }
          ],
          "scatterternary": [
           {
            "marker": {
             "colorbar": {
              "outlinewidth": 0,
              "ticks": ""
             }
            },
            "type": "scatterternary"
           }
          ],
          "surface": [
           {
            "colorbar": {
             "outlinewidth": 0,
             "ticks": ""
            },
            "colorscale": [
             [
              0,
              "#0d0887"
             ],
             [
              0.1111111111111111,
              "#46039f"
             ],
             [
              0.2222222222222222,
              "#7201a8"
             ],
             [
              0.3333333333333333,
              "#9c179e"
             ],
             [
              0.4444444444444444,
              "#bd3786"
             ],
             [
              0.5555555555555556,
              "#d8576b"
             ],
             [
              0.6666666666666666,
              "#ed7953"
             ],
             [
              0.7777777777777778,
              "#fb9f3a"
             ],
             [
              0.8888888888888888,
              "#fdca26"
             ],
             [
              1,
              "#f0f921"
             ]
            ],
            "type": "surface"
           }
          ],
          "table": [
           {
            "cells": {
             "fill": {
              "color": "#EBF0F8"
             },
             "line": {
              "color": "white"
             }
            },
            "header": {
             "fill": {
              "color": "#C8D4E3"
             },
             "line": {
              "color": "white"
             }
            },
            "type": "table"
           }
          ]
         },
         "layout": {
          "annotationdefaults": {
           "arrowcolor": "#2a3f5f",
           "arrowhead": 0,
           "arrowwidth": 1
          },
          "autotypenumbers": "strict",
          "coloraxis": {
           "colorbar": {
            "outlinewidth": 0,
            "ticks": ""
           }
          },
          "colorscale": {
           "diverging": [
            [
             0,
             "#8e0152"
            ],
            [
             0.1,
             "#c51b7d"
            ],
            [
             0.2,
             "#de77ae"
            ],
            [
             0.3,
             "#f1b6da"
            ],
            [
             0.4,
             "#fde0ef"
            ],
            [
             0.5,
             "#f7f7f7"
            ],
            [
             0.6,
             "#e6f5d0"
            ],
            [
             0.7,
             "#b8e186"
            ],
            [
             0.8,
             "#7fbc41"
            ],
            [
             0.9,
             "#4d9221"
            ],
            [
             1,
             "#276419"
            ]
           ],
           "sequential": [
            [
             0,
             "#0d0887"
            ],
            [
             0.1111111111111111,
             "#46039f"
            ],
            [
             0.2222222222222222,
             "#7201a8"
            ],
            [
             0.3333333333333333,
             "#9c179e"
            ],
            [
             0.4444444444444444,
             "#bd3786"
            ],
            [
             0.5555555555555556,
             "#d8576b"
            ],
            [
             0.6666666666666666,
             "#ed7953"
            ],
            [
             0.7777777777777778,
             "#fb9f3a"
            ],
            [
             0.8888888888888888,
             "#fdca26"
            ],
            [
             1,
             "#f0f921"
            ]
           ],
           "sequentialminus": [
            [
             0,
             "#0d0887"
            ],
            [
             0.1111111111111111,
             "#46039f"
            ],
            [
             0.2222222222222222,
             "#7201a8"
            ],
            [
             0.3333333333333333,
             "#9c179e"
            ],
            [
             0.4444444444444444,
             "#bd3786"
            ],
            [
             0.5555555555555556,
             "#d8576b"
            ],
            [
             0.6666666666666666,
             "#ed7953"
            ],
            [
             0.7777777777777778,
             "#fb9f3a"
            ],
            [
             0.8888888888888888,
             "#fdca26"
            ],
            [
             1,
             "#f0f921"
            ]
           ]
          },
          "colorway": [
           "#636efa",
           "#EF553B",
           "#00cc96",
           "#ab63fa",
           "#FFA15A",
           "#19d3f3",
           "#FF6692",
           "#B6E880",
           "#FF97FF",
           "#FECB52"
          ],
          "font": {
           "color": "#2a3f5f"
          },
          "geo": {
           "bgcolor": "white",
           "lakecolor": "white",
           "landcolor": "#E5ECF6",
           "showlakes": true,
           "showland": true,
           "subunitcolor": "white"
          },
          "hoverlabel": {
           "align": "left"
          },
          "hovermode": "closest",
          "mapbox": {
           "style": "light"
          },
          "paper_bgcolor": "white",
          "plot_bgcolor": "#E5ECF6",
          "polar": {
           "angularaxis": {
            "gridcolor": "white",
            "linecolor": "white",
            "ticks": ""
           },
           "bgcolor": "#E5ECF6",
           "radialaxis": {
            "gridcolor": "white",
            "linecolor": "white",
            "ticks": ""
           }
          },
          "scene": {
           "xaxis": {
            "backgroundcolor": "#E5ECF6",
            "gridcolor": "white",
            "gridwidth": 2,
            "linecolor": "white",
            "showbackground": true,
            "ticks": "",
            "zerolinecolor": "white"
           },
           "yaxis": {
            "backgroundcolor": "#E5ECF6",
            "gridcolor": "white",
            "gridwidth": 2,
            "linecolor": "white",
            "showbackground": true,
            "ticks": "",
            "zerolinecolor": "white"
           },
           "zaxis": {
            "backgroundcolor": "#E5ECF6",
            "gridcolor": "white",
            "gridwidth": 2,
            "linecolor": "white",
            "showbackground": true,
            "ticks": "",
            "zerolinecolor": "white"
           }
          },
          "shapedefaults": {
           "line": {
            "color": "#2a3f5f"
           }
          },
          "ternary": {
           "aaxis": {
            "gridcolor": "white",
            "linecolor": "white",
            "ticks": ""
           },
           "baxis": {
            "gridcolor": "white",
            "linecolor": "white",
            "ticks": ""
           },
           "bgcolor": "#E5ECF6",
           "caxis": {
            "gridcolor": "white",
            "linecolor": "white",
            "ticks": ""
           }
          },
          "title": {
           "x": 0.05
          },
          "xaxis": {
           "automargin": true,
           "gridcolor": "white",
           "linecolor": "white",
           "ticks": "",
           "title": {
            "standoff": 15
           },
           "zerolinecolor": "white",
           "zerolinewidth": 2
          },
          "yaxis": {
           "automargin": true,
           "gridcolor": "white",
           "linecolor": "white",
           "ticks": "",
           "title": {
            "standoff": 15
           },
           "zerolinecolor": "white",
           "zerolinewidth": 2
          }
         }
        },
        "title": {
         "text": "مصارف منفی در سال های 1401 تا 1403 بر اساس شهرستان های مخلف"
        },
        "xaxis": {
         "anchor": "y",
         "domain": [
          0,
          1
         ],
         "tickangle": -60,
         "title": {
          "text": "County"
         }
        },
        "yaxis": {
         "anchor": "x",
         "domain": [
          0,
          1
         ],
         "title": {
          "text": "Total Consumption (m³)"
         }
        }
       }
      }
     },
     "metadata": {},
     "output_type": "display_data"
    },
    {
     "name": "stdout",
     "output_type": "stream",
     "text": [
      "Generating Grouped Bar Chart: Consumption by License Type and Year using Plotly\n"
     ]
    },
    {
     "data": {
      "application/vnd.plotly.v1+json": {
       "config": {
        "plotlyServerURL": "https://plot.ly"
       },
       "data": [
        {
         "alignmentgroup": "True",
         "hovertemplate": "Year=1401<br>License Type=%{x}<br>Total Consumption (m³)=%{text}<extra></extra>",
         "legendgroup": "1401",
         "marker": {
          "color": "#636efa",
          "pattern": {
           "shape": ""
          }
         },
         "name": "1401",
         "offsetgroup": "1401",
         "orientation": "v",
         "showlegend": true,
         "text": [
          -29415.409999999996,
          -216.148,
          -76815.189,
          -166.822,
          -528408.3690000001,
          -1180867.426,
          -8759353.224
         ],
         "textposition": "auto",
         "type": "bar",
         "x": [
          "سایر",
          "شرب روستایی",
          "شرب و بهداشت دام",
          "شرب شهری",
          "خدمات",
          "صنعتی",
          "کشاورزی"
         ],
         "xaxis": "x",
         "y": [
          -29415.409999999996,
          -216.148,
          -76815.189,
          -166.822,
          -528408.3690000001,
          -1180867.426,
          -8759353.224
         ],
         "yaxis": "y"
        },
        {
         "alignmentgroup": "True",
         "hovertemplate": "Year=1402<br>License Type=%{x}<br>Total Consumption (m³)=%{text}<extra></extra>",
         "legendgroup": "1402",
         "marker": {
          "color": "#EF553B",
          "pattern": {
           "shape": ""
          }
         },
         "name": "1402",
         "offsetgroup": "1402",
         "orientation": "v",
         "showlegend": true,
         "text": [
          -15487.048,
          -115052.8,
          -79820.501,
          -621291.0329999999,
          -183779.304,
          -1038551.285,
          -28635771.433
         ],
         "textposition": "auto",
         "type": "bar",
         "x": [
          "سایر",
          "شرب روستایی",
          "شرب و بهداشت دام",
          "شرب شهری",
          "خدمات",
          "صنعتی",
          "کشاورزی"
         ],
         "xaxis": "x",
         "y": [
          -15487.048,
          -115052.8,
          -79820.501,
          -621291.0329999999,
          -183779.304,
          -1038551.285,
          -28635771.433
         ],
         "yaxis": "y"
        },
        {
         "alignmentgroup": "True",
         "hovertemplate": "Year=1403<br>License Type=%{x}<br>Total Consumption (m³)=%{text}<extra></extra>",
         "legendgroup": "1403",
         "marker": {
          "color": "#00cc96",
          "pattern": {
           "shape": ""
          }
         },
         "name": "1403",
         "offsetgroup": "1403",
         "orientation": "v",
         "showlegend": true,
         "text": [
          -15705.56,
          -119887,
          -209134.445,
          -57569.972,
          -909038.301,
          -682456.584,
          -56041920.706
         ],
         "textposition": "auto",
         "type": "bar",
         "x": [
          "سایر",
          "شرب روستایی",
          "شرب و بهداشت دام",
          "شرب شهری",
          "خدمات",
          "صنعتی",
          "کشاورزی"
         ],
         "xaxis": "x",
         "y": [
          -15705.56,
          -119887,
          -209134.445,
          -57569.972,
          -909038.301,
          -682456.584,
          -56041920.706
         ],
         "yaxis": "y"
        }
       ],
       "layout": {
        "barmode": "group",
        "height": 700,
        "legend": {
         "title": {
          "text": "Year"
         },
         "tracegroupgap": 0
        },
        "template": {
         "data": {
          "bar": [
           {
            "error_x": {
             "color": "#2a3f5f"
            },
            "error_y": {
             "color": "#2a3f5f"
            },
            "marker": {
             "line": {
              "color": "#E5ECF6",
              "width": 0.5
             },
             "pattern": {
              "fillmode": "overlay",
              "size": 10,
              "solidity": 0.2
             }
            },
            "type": "bar"
           }
          ],
          "barpolar": [
           {
            "marker": {
             "line": {
              "color": "#E5ECF6",
              "width": 0.5
             },
             "pattern": {
              "fillmode": "overlay",
              "size": 10,
              "solidity": 0.2
             }
            },
            "type": "barpolar"
           }
          ],
          "carpet": [
           {
            "aaxis": {
             "endlinecolor": "#2a3f5f",
             "gridcolor": "white",
             "linecolor": "white",
             "minorgridcolor": "white",
             "startlinecolor": "#2a3f5f"
            },
            "baxis": {
             "endlinecolor": "#2a3f5f",
             "gridcolor": "white",
             "linecolor": "white",
             "minorgridcolor": "white",
             "startlinecolor": "#2a3f5f"
            },
            "type": "carpet"
           }
          ],
          "choropleth": [
           {
            "colorbar": {
             "outlinewidth": 0,
             "ticks": ""
            },
            "type": "choropleth"
           }
          ],
          "contour": [
           {
            "colorbar": {
             "outlinewidth": 0,
             "ticks": ""
            },
            "colorscale": [
             [
              0,
              "#0d0887"
             ],
             [
              0.1111111111111111,
              "#46039f"
             ],
             [
              0.2222222222222222,
              "#7201a8"
             ],
             [
              0.3333333333333333,
              "#9c179e"
             ],
             [
              0.4444444444444444,
              "#bd3786"
             ],
             [
              0.5555555555555556,
              "#d8576b"
             ],
             [
              0.6666666666666666,
              "#ed7953"
             ],
             [
              0.7777777777777778,
              "#fb9f3a"
             ],
             [
              0.8888888888888888,
              "#fdca26"
             ],
             [
              1,
              "#f0f921"
             ]
            ],
            "type": "contour"
           }
          ],
          "contourcarpet": [
           {
            "colorbar": {
             "outlinewidth": 0,
             "ticks": ""
            },
            "type": "contourcarpet"
           }
          ],
          "heatmap": [
           {
            "colorbar": {
             "outlinewidth": 0,
             "ticks": ""
            },
            "colorscale": [
             [
              0,
              "#0d0887"
             ],
             [
              0.1111111111111111,
              "#46039f"
             ],
             [
              0.2222222222222222,
              "#7201a8"
             ],
             [
              0.3333333333333333,
              "#9c179e"
             ],
             [
              0.4444444444444444,
              "#bd3786"
             ],
             [
              0.5555555555555556,
              "#d8576b"
             ],
             [
              0.6666666666666666,
              "#ed7953"
             ],
             [
              0.7777777777777778,
              "#fb9f3a"
             ],
             [
              0.8888888888888888,
              "#fdca26"
             ],
             [
              1,
              "#f0f921"
             ]
            ],
            "type": "heatmap"
           }
          ],
          "heatmapgl": [
           {
            "colorbar": {
             "outlinewidth": 0,
             "ticks": ""
            },
            "colorscale": [
             [
              0,
              "#0d0887"
             ],
             [
              0.1111111111111111,
              "#46039f"
             ],
             [
              0.2222222222222222,
              "#7201a8"
             ],
             [
              0.3333333333333333,
              "#9c179e"
             ],
             [
              0.4444444444444444,
              "#bd3786"
             ],
             [
              0.5555555555555556,
              "#d8576b"
             ],
             [
              0.6666666666666666,
              "#ed7953"
             ],
             [
              0.7777777777777778,
              "#fb9f3a"
             ],
             [
              0.8888888888888888,
              "#fdca26"
             ],
             [
              1,
              "#f0f921"
             ]
            ],
            "type": "heatmapgl"
           }
          ],
          "histogram": [
           {
            "marker": {
             "pattern": {
              "fillmode": "overlay",
              "size": 10,
              "solidity": 0.2
             }
            },
            "type": "histogram"
           }
          ],
          "histogram2d": [
           {
            "colorbar": {
             "outlinewidth": 0,
             "ticks": ""
            },
            "colorscale": [
             [
              0,
              "#0d0887"
             ],
             [
              0.1111111111111111,
              "#46039f"
             ],
             [
              0.2222222222222222,
              "#7201a8"
             ],
             [
              0.3333333333333333,
              "#9c179e"
             ],
             [
              0.4444444444444444,
              "#bd3786"
             ],
             [
              0.5555555555555556,
              "#d8576b"
             ],
             [
              0.6666666666666666,
              "#ed7953"
             ],
             [
              0.7777777777777778,
              "#fb9f3a"
             ],
             [
              0.8888888888888888,
              "#fdca26"
             ],
             [
              1,
              "#f0f921"
             ]
            ],
            "type": "histogram2d"
           }
          ],
          "histogram2dcontour": [
           {
            "colorbar": {
             "outlinewidth": 0,
             "ticks": ""
            },
            "colorscale": [
             [
              0,
              "#0d0887"
             ],
             [
              0.1111111111111111,
              "#46039f"
             ],
             [
              0.2222222222222222,
              "#7201a8"
             ],
             [
              0.3333333333333333,
              "#9c179e"
             ],
             [
              0.4444444444444444,
              "#bd3786"
             ],
             [
              0.5555555555555556,
              "#d8576b"
             ],
             [
              0.6666666666666666,
              "#ed7953"
             ],
             [
              0.7777777777777778,
              "#fb9f3a"
             ],
             [
              0.8888888888888888,
              "#fdca26"
             ],
             [
              1,
              "#f0f921"
             ]
            ],
            "type": "histogram2dcontour"
           }
          ],
          "mesh3d": [
           {
            "colorbar": {
             "outlinewidth": 0,
             "ticks": ""
            },
            "type": "mesh3d"
           }
          ],
          "parcoords": [
           {
            "line": {
             "colorbar": {
              "outlinewidth": 0,
              "ticks": ""
             }
            },
            "type": "parcoords"
           }
          ],
          "pie": [
           {
            "automargin": true,
            "type": "pie"
           }
          ],
          "scatter": [
           {
            "fillpattern": {
             "fillmode": "overlay",
             "size": 10,
             "solidity": 0.2
            },
            "type": "scatter"
           }
          ],
          "scatter3d": [
           {
            "line": {
             "colorbar": {
              "outlinewidth": 0,
              "ticks": ""
             }
            },
            "marker": {
             "colorbar": {
              "outlinewidth": 0,
              "ticks": ""
             }
            },
            "type": "scatter3d"
           }
          ],
          "scattercarpet": [
           {
            "marker": {
             "colorbar": {
              "outlinewidth": 0,
              "ticks": ""
             }
            },
            "type": "scattercarpet"
           }
          ],
          "scattergeo": [
           {
            "marker": {
             "colorbar": {
              "outlinewidth": 0,
              "ticks": ""
             }
            },
            "type": "scattergeo"
           }
          ],
          "scattergl": [
           {
            "marker": {
             "colorbar": {
              "outlinewidth": 0,
              "ticks": ""
             }
            },
            "type": "scattergl"
           }
          ],
          "scattermapbox": [
           {
            "marker": {
             "colorbar": {
              "outlinewidth": 0,
              "ticks": ""
             }
            },
            "type": "scattermapbox"
           }
          ],
          "scatterpolar": [
           {
            "marker": {
             "colorbar": {
              "outlinewidth": 0,
              "ticks": ""
             }
            },
            "type": "scatterpolar"
           }
          ],
          "scatterpolargl": [
           {
            "marker": {
             "colorbar": {
              "outlinewidth": 0,
              "ticks": ""
             }
            },
            "type": "scatterpolargl"
           }
          ],
          "scatterternary": [
           {
            "marker": {
             "colorbar": {
              "outlinewidth": 0,
              "ticks": ""
             }
            },
            "type": "scatterternary"
           }
          ],
          "surface": [
           {
            "colorbar": {
             "outlinewidth": 0,
             "ticks": ""
            },
            "colorscale": [
             [
              0,
              "#0d0887"
             ],
             [
              0.1111111111111111,
              "#46039f"
             ],
             [
              0.2222222222222222,
              "#7201a8"
             ],
             [
              0.3333333333333333,
              "#9c179e"
             ],
             [
              0.4444444444444444,
              "#bd3786"
             ],
             [
              0.5555555555555556,
              "#d8576b"
             ],
             [
              0.6666666666666666,
              "#ed7953"
             ],
             [
              0.7777777777777778,
              "#fb9f3a"
             ],
             [
              0.8888888888888888,
              "#fdca26"
             ],
             [
              1,
              "#f0f921"
             ]
            ],
            "type": "surface"
           }
          ],
          "table": [
           {
            "cells": {
             "fill": {
              "color": "#EBF0F8"
             },
             "line": {
              "color": "white"
             }
            },
            "header": {
             "fill": {
              "color": "#C8D4E3"
             },
             "line": {
              "color": "white"
             }
            },
            "type": "table"
           }
          ]
         },
         "layout": {
          "annotationdefaults": {
           "arrowcolor": "#2a3f5f",
           "arrowhead": 0,
           "arrowwidth": 1
          },
          "autotypenumbers": "strict",
          "coloraxis": {
           "colorbar": {
            "outlinewidth": 0,
            "ticks": ""
           }
          },
          "colorscale": {
           "diverging": [
            [
             0,
             "#8e0152"
            ],
            [
             0.1,
             "#c51b7d"
            ],
            [
             0.2,
             "#de77ae"
            ],
            [
             0.3,
             "#f1b6da"
            ],
            [
             0.4,
             "#fde0ef"
            ],
            [
             0.5,
             "#f7f7f7"
            ],
            [
             0.6,
             "#e6f5d0"
            ],
            [
             0.7,
             "#b8e186"
            ],
            [
             0.8,
             "#7fbc41"
            ],
            [
             0.9,
             "#4d9221"
            ],
            [
             1,
             "#276419"
            ]
           ],
           "sequential": [
            [
             0,
             "#0d0887"
            ],
            [
             0.1111111111111111,
             "#46039f"
            ],
            [
             0.2222222222222222,
             "#7201a8"
            ],
            [
             0.3333333333333333,
             "#9c179e"
            ],
            [
             0.4444444444444444,
             "#bd3786"
            ],
            [
             0.5555555555555556,
             "#d8576b"
            ],
            [
             0.6666666666666666,
             "#ed7953"
            ],
            [
             0.7777777777777778,
             "#fb9f3a"
            ],
            [
             0.8888888888888888,
             "#fdca26"
            ],
            [
             1,
             "#f0f921"
            ]
           ],
           "sequentialminus": [
            [
             0,
             "#0d0887"
            ],
            [
             0.1111111111111111,
             "#46039f"
            ],
            [
             0.2222222222222222,
             "#7201a8"
            ],
            [
             0.3333333333333333,
             "#9c179e"
            ],
            [
             0.4444444444444444,
             "#bd3786"
            ],
            [
             0.5555555555555556,
             "#d8576b"
            ],
            [
             0.6666666666666666,
             "#ed7953"
            ],
            [
             0.7777777777777778,
             "#fb9f3a"
            ],
            [
             0.8888888888888888,
             "#fdca26"
            ],
            [
             1,
             "#f0f921"
            ]
           ]
          },
          "colorway": [
           "#636efa",
           "#EF553B",
           "#00cc96",
           "#ab63fa",
           "#FFA15A",
           "#19d3f3",
           "#FF6692",
           "#B6E880",
           "#FF97FF",
           "#FECB52"
          ],
          "font": {
           "color": "#2a3f5f"
          },
          "geo": {
           "bgcolor": "white",
           "lakecolor": "white",
           "landcolor": "#E5ECF6",
           "showlakes": true,
           "showland": true,
           "subunitcolor": "white"
          },
          "hoverlabel": {
           "align": "left"
          },
          "hovermode": "closest",
          "mapbox": {
           "style": "light"
          },
          "paper_bgcolor": "white",
          "plot_bgcolor": "#E5ECF6",
          "polar": {
           "angularaxis": {
            "gridcolor": "white",
            "linecolor": "white",
            "ticks": ""
           },
           "bgcolor": "#E5ECF6",
           "radialaxis": {
            "gridcolor": "white",
            "linecolor": "white",
            "ticks": ""
           }
          },
          "scene": {
           "xaxis": {
            "backgroundcolor": "#E5ECF6",
            "gridcolor": "white",
            "gridwidth": 2,
            "linecolor": "white",
            "showbackground": true,
            "ticks": "",
            "zerolinecolor": "white"
           },
           "yaxis": {
            "backgroundcolor": "#E5ECF6",
            "gridcolor": "white",
            "gridwidth": 2,
            "linecolor": "white",
            "showbackground": true,
            "ticks": "",
            "zerolinecolor": "white"
           },
           "zaxis": {
            "backgroundcolor": "#E5ECF6",
            "gridcolor": "white",
            "gridwidth": 2,
            "linecolor": "white",
            "showbackground": true,
            "ticks": "",
            "zerolinecolor": "white"
           }
          },
          "shapedefaults": {
           "line": {
            "color": "#2a3f5f"
           }
          },
          "ternary": {
           "aaxis": {
            "gridcolor": "white",
            "linecolor": "white",
            "ticks": ""
           },
           "baxis": {
            "gridcolor": "white",
            "linecolor": "white",
            "ticks": ""
           },
           "bgcolor": "#E5ECF6",
           "caxis": {
            "gridcolor": "white",
            "linecolor": "white",
            "ticks": ""
           }
          },
          "title": {
           "x": 0.05
          },
          "xaxis": {
           "automargin": true,
           "gridcolor": "white",
           "linecolor": "white",
           "ticks": "",
           "title": {
            "standoff": 15
           },
           "zerolinecolor": "white",
           "zerolinewidth": 2
          },
          "yaxis": {
           "automargin": true,
           "gridcolor": "white",
           "linecolor": "white",
           "ticks": "",
           "title": {
            "standoff": 15
           },
           "zerolinecolor": "white",
           "zerolinewidth": 2
          }
         }
        },
        "title": {
         "text": "مجموع مصارف منفی در سال های 1401 تا 1403 بر اساس نوع پروانه"
        },
        "xaxis": {
         "anchor": "y",
         "domain": [
          0,
          1
         ],
         "tickangle": -45,
         "title": {
          "text": "License Type"
         }
        },
        "yaxis": {
         "anchor": "x",
         "domain": [
          0,
          1
         ],
         "title": {
          "text": "Total Consumption (m³)"
         }
        }
       }
      }
     },
     "metadata": {},
     "output_type": "display_data"
    },
    {
     "name": "stdout",
     "output_type": "stream",
     "text": [
      "All requested plots generated using Plotly.\n"
     ]
    }
   ],
   "source": [
    "\n",
    "import pandas as pd\n",
    "import plotly.express as px\n",
    "\n",
    "# From notebook_cell_output_0, df has columns:\n",
    "# 'Consumption (m³)', 'Operating Hours (h)', 'County', 'License Type', 'month'\n",
    "# Note: Based on the KeyError in the output and usage in section 1.1,\n",
    "# the actual column name for county data in 'df' is assumed to be 'County'.\n",
    "# The code below will use 'County' to resolve the error.\n",
    "\n",
    "# --- 1. نمودار استک بار چارت رو با استفاده از ستون های میزان مصرف و ساعت فعالیت تولید بکن ---\n",
    "# --- که تقسیم بندی مشتریان هم به صورت شهر باشه و هم به نوع لایسنس ---\n",
    "# \"1. Create a stacked bar chart using 'Consumption' and 'Operating Hours' columns,\n",
    "#     where customer segmentation is by 'County' and also by 'License Type'.\"\n",
    "\n",
    "\n",
    "\n",
    "# --- 2. تقسیم بندی مشتریان رو هم بر اساس نمودار های بار چارت انجام بده ---\n",
    "# \"2. Also perform customer segmentation using bar charts.\"\n",
    "\n",
    "# 2.1 Bar Chart: Total Consumption by County\n",
    "# FIX: Changed 'County' to 'County' to address the KeyError from the output.\n",
    "print(\"Generating Bar Chart: Total Consumption by County using Plotly\")\n",
    "df_county_consumption_data = df.groupby('County', as_index=False)['Consumption (m³)'].sum()\n",
    "df_county_consumption_data = df_county_consumption_data.sort_values(by='Consumption (m³)', ascending=False)\n",
    "\n",
    "if not df_county_consumption_data.empty:\n",
    "    fig2_1 = px.bar(df_county_consumption_data,\n",
    "                    x='County',\n",
    "                    y='Consumption (m³)',\n",
    "                    title='مجموع مصارف منفی در سال های 1401 تا 1403 بر اساس شهرستان',\n",
    "                    labels={'Consumption (m³)': 'Total Consumption (m³)', 'County': 'County'},\n",
    "                    height=700) # Adjusted height\n",
    "    fig2_1.update_layout(xaxis_tickangle=-45)\n",
    "    fig2_1.show()\n",
    "else:\n",
    "    print(\"Data for 'Bar Chart: Total Consumption by County' is empty. Skipping plot.\")\n",
    "\n",
    "# 2.2 Bar Chart: Total Consumption by License Type\n",
    "print(\"Generating Bar Chart: Total Consumption by License Type using Plotly\")\n",
    "df_license_consumption_data = df.groupby('License Type', as_index=False)['Consumption (m³)'].sum()\n",
    "df_license_consumption_data = df_license_consumption_data.sort_values(by='Consumption (m³)', ascending=False)\n",
    "\n",
    "if not df_license_consumption_data.empty:\n",
    "    fig2_2 = px.bar(df_license_consumption_data,\n",
    "                    x='License Type',\n",
    "                    y='Consumption (m³)',\n",
    "                    title='مجموع مصارف منفی در سال های 1401 تا 1403 بر اساس نوع پروانه',\n",
    "                    labels={'Consumption (m³)': 'Total Consumption (m³)', 'License Type': 'License Type'},\n",
    "                    height=600)\n",
    "    fig2_2.update_layout(xaxis_tickangle=-45)\n",
    "    fig2_2.show()\n",
    "else:\n",
    "    print(\"Data for 'Bar Chart: Total Consumption by License Type' is empty. Skipping plot.\")\n",
    "\n",
    "# --- 3. میزان مصرف گروه شهر های مختلف و گروه های مختلف رو هم بر اساس سال های مختلف ارزیابی بکن ---\n",
    "# \"3. Evaluate the consumption of different county groups and different license type groups\n",
    "#     based on different years.\"\n",
    "\n",
    "# Create a copy to avoid SettingWithCopyWarning if df is a slice\n",
    "df_copy = df.copy()\n",
    "df_copy['Year'] = df_copy['month'].str.split('/').str[0]\n",
    "\n",
    "# 3.1 Grouped Bar Chart: Consumption by County and Year\n",
    "# FIX: Changed 'County' to 'County' to address the KeyError from the output.\n",
    "print(\"Generating Grouped Bar Chart: Consumption by County and Year using Plotly\")\n",
    "df_county_year_consumption_data = df_copy.groupby(['County', 'Year'], as_index=False)['Consumption (m³)'].sum()\n",
    "\n",
    "if not df_county_year_consumption_data.empty:\n",
    "    # Sort counties by total consumption over all years for better visualization\n",
    "    county_total_consumption_order = df_copy.groupby('County')['Consumption (m³)'].sum().sort_values(ascending=False).index\n",
    "    df_county_year_consumption_data['County'] = pd.Categorical(df_county_year_consumption_data['County'], categories=county_total_consumption_order, ordered=True)\n",
    "    df_county_year_consumption_data = df_county_year_consumption_data.sort_values(['County', 'Year'])\n",
    "\n",
    "    fig3_1 = px.bar(df_county_year_consumption_data,\n",
    "                    x='County',\n",
    "                    y='Consumption (m³)',\n",
    "                    color='Year',\n",
    "                    barmode='group',\n",
    "                    title='مصارف منفی در سال های 1401 تا 1403 بر اساس شهرستان های مخلف',\n",
    "                    labels={'Consumption (m³)': 'Total Consumption (m³)', 'County': 'County'},\n",
    "                    height=800) # Adjusted height\n",
    "    fig3_1.update_layout(xaxis_tickangle=-60) # Rotated more for potentially long county names\n",
    "    fig3_1.show()\n",
    "else:\n",
    "    print(\"Data for 'Grouped Bar Chart: Consumption by County and Year' is empty. Skipping plot.\")\n",
    "\n",
    "# 3.2 Grouped Bar Chart: Consumption by License Type and Year\n",
    "print(\"Generating Grouped Bar Chart: Consumption by License Type and Year using Plotly\")\n",
    "df_license_year_consumption_data = df_copy.groupby(['License Type', 'Year'], as_index=False)['Consumption (m³)'].sum()\n",
    "\n",
    "if not df_license_year_consumption_data.empty:\n",
    "    # Sort license types by total consumption over all years for better visualization\n",
    "    license_total_consumption_order = df_copy.groupby('License Type')['Consumption (m³)'].sum().sort_values(ascending=False).index\n",
    "    df_license_year_consumption_data['License Type'] = pd.Categorical(df_license_year_consumption_data['License Type'], categories=license_total_consumption_order, ordered=True)\n",
    "    df_license_year_consumption_data = df_license_year_consumption_data.sort_values(['License Type', 'Year'])\n",
    "    \n",
    "    fig3_2 = px.bar(df_license_year_consumption_data,\n",
    "                    x='License Type',\n",
    "                    y='Consumption (m³)',\n",
    "                    color='Year',\n",
    "                    barmode='group',\n",
    "                    text=f'Consumption (m³)',\n",
    "                    #\n",
    "                    title='مجموع مصارف منفی در سال های 1401 تا 1403 بر اساس نوع پروانه',\n",
    "                    labels={'Consumption (m³)': 'Total Consumption (m³)', 'License Type': 'License Type'},\n",
    "                    height=700) # Adjusted height\n",
    "    fig3_2.update_layout(xaxis_tickangle=-45)\n",
    "    fig3_2.show()\n",
    "else:\n",
    "    print(\"Data for 'Grouped Bar Chart: Consumption by License Type and Year' is empty. Skipping plot.\")\n",
    "\n",
    "print(\"All requested plots generated using Plotly.\")\n"
   ]
  },
  {
   "cell_type": "code",
   "execution_count": 56,
   "metadata": {},
   "outputs": [
    {
     "name": "stdout",
     "output_type": "stream",
     "text": [
      "Generating Bar Chart: Total Consumption by County using Plotly\n"
     ]
    },
    {
     "data": {
      "application/vnd.plotly.v1+json": {
       "config": {
        "plotlyServerURL": "https://plot.ly"
       },
       "data": [
        {
         "alignmentgroup": "True",
         "hovertemplate": "County=%{x}<br>Total Consumption=%{y}<br>Formatted=%{text}<extra></extra>",
         "legendgroup": "",
         "marker": {
          "color": "#636efa",
          "pattern": {
           "shape": ""
          }
         },
         "name": "",
         "offsetgroup": "",
         "orientation": "v",
         "showlegend": false,
         "text": [
          "-0",
          "-0",
          "-1",
          "-13",
          "-35",
          "-36",
          "-102",
          "-145.1K",
          "-217.6K",
          "-285.1K",
          "-331.5K",
          "-486.1K",
          "-549.7K",
          "-585.0K",
          "-590.7K",
          "-1.1M",
          "-1.2M",
          "-1.5M",
          "-4.6M",
          "-12.9M",
          "-85.2M"
         ],
         "textposition": "outside",
         "type": "bar",
         "x": [
          "طرقبه",
          "کلات",
          "چناران",
          "احمدآبادصولت",
          "بردسکن",
          "فریمان",
          "کاخک",
          "تایباد",
          "خرو",
          "درگز",
          "تربت جام",
          "قوچان",
          "باخرز",
          "سبزوار",
          "سرخس",
          "کاشمر",
          "خواف",
          "گناباد",
          "نیشابور",
          "تربت حیدریه",
          "مشهد"
         ],
         "xaxis": "x",
         "y": [
          -0.101,
          -0.176,
          -0.965,
          -13.17,
          -35.064,
          -36.160000000000004,
          -102.061,
          -145083.32200000001,
          -217610.357,
          -285134.663,
          -331526.507,
          -486068.131,
          -549705.93,
          -585007.847,
          -590655.403,
          -1115921.05,
          -1183164.86,
          -1469910.171,
          -4557252.465,
          -12897338.966,
          -85239687.34200001
         ],
         "yaxis": "y"
        }
       ],
       "layout": {
        "barmode": "relative",
        "font": {
         "size": 14
        },
        "height": 700,
        "legend": {
         "tracegroupgap": 0
        },
        "template": {
         "data": {
          "bar": [
           {
            "error_x": {
             "color": "#2a3f5f"
            },
            "error_y": {
             "color": "#2a3f5f"
            },
            "marker": {
             "line": {
              "color": "#E5ECF6",
              "width": 0.5
             },
             "pattern": {
              "fillmode": "overlay",
              "size": 10,
              "solidity": 0.2
             }
            },
            "type": "bar"
           }
          ],
          "barpolar": [
           {
            "marker": {
             "line": {
              "color": "#E5ECF6",
              "width": 0.5
             },
             "pattern": {
              "fillmode": "overlay",
              "size": 10,
              "solidity": 0.2
             }
            },
            "type": "barpolar"
           }
          ],
          "carpet": [
           {
            "aaxis": {
             "endlinecolor": "#2a3f5f",
             "gridcolor": "white",
             "linecolor": "white",
             "minorgridcolor": "white",
             "startlinecolor": "#2a3f5f"
            },
            "baxis": {
             "endlinecolor": "#2a3f5f",
             "gridcolor": "white",
             "linecolor": "white",
             "minorgridcolor": "white",
             "startlinecolor": "#2a3f5f"
            },
            "type": "carpet"
           }
          ],
          "choropleth": [
           {
            "colorbar": {
             "outlinewidth": 0,
             "ticks": ""
            },
            "type": "choropleth"
           }
          ],
          "contour": [
           {
            "colorbar": {
             "outlinewidth": 0,
             "ticks": ""
            },
            "colorscale": [
             [
              0,
              "#0d0887"
             ],
             [
              0.1111111111111111,
              "#46039f"
             ],
             [
              0.2222222222222222,
              "#7201a8"
             ],
             [
              0.3333333333333333,
              "#9c179e"
             ],
             [
              0.4444444444444444,
              "#bd3786"
             ],
             [
              0.5555555555555556,
              "#d8576b"
             ],
             [
              0.6666666666666666,
              "#ed7953"
             ],
             [
              0.7777777777777778,
              "#fb9f3a"
             ],
             [
              0.8888888888888888,
              "#fdca26"
             ],
             [
              1,
              "#f0f921"
             ]
            ],
            "type": "contour"
           }
          ],
          "contourcarpet": [
           {
            "colorbar": {
             "outlinewidth": 0,
             "ticks": ""
            },
            "type": "contourcarpet"
           }
          ],
          "heatmap": [
           {
            "colorbar": {
             "outlinewidth": 0,
             "ticks": ""
            },
            "colorscale": [
             [
              0,
              "#0d0887"
             ],
             [
              0.1111111111111111,
              "#46039f"
             ],
             [
              0.2222222222222222,
              "#7201a8"
             ],
             [
              0.3333333333333333,
              "#9c179e"
             ],
             [
              0.4444444444444444,
              "#bd3786"
             ],
             [
              0.5555555555555556,
              "#d8576b"
             ],
             [
              0.6666666666666666,
              "#ed7953"
             ],
             [
              0.7777777777777778,
              "#fb9f3a"
             ],
             [
              0.8888888888888888,
              "#fdca26"
             ],
             [
              1,
              "#f0f921"
             ]
            ],
            "type": "heatmap"
           }
          ],
          "heatmapgl": [
           {
            "colorbar": {
             "outlinewidth": 0,
             "ticks": ""
            },
            "colorscale": [
             [
              0,
              "#0d0887"
             ],
             [
              0.1111111111111111,
              "#46039f"
             ],
             [
              0.2222222222222222,
              "#7201a8"
             ],
             [
              0.3333333333333333,
              "#9c179e"
             ],
             [
              0.4444444444444444,
              "#bd3786"
             ],
             [
              0.5555555555555556,
              "#d8576b"
             ],
             [
              0.6666666666666666,
              "#ed7953"
             ],
             [
              0.7777777777777778,
              "#fb9f3a"
             ],
             [
              0.8888888888888888,
              "#fdca26"
             ],
             [
              1,
              "#f0f921"
             ]
            ],
            "type": "heatmapgl"
           }
          ],
          "histogram": [
           {
            "marker": {
             "pattern": {
              "fillmode": "overlay",
              "size": 10,
              "solidity": 0.2
             }
            },
            "type": "histogram"
           }
          ],
          "histogram2d": [
           {
            "colorbar": {
             "outlinewidth": 0,
             "ticks": ""
            },
            "colorscale": [
             [
              0,
              "#0d0887"
             ],
             [
              0.1111111111111111,
              "#46039f"
             ],
             [
              0.2222222222222222,
              "#7201a8"
             ],
             [
              0.3333333333333333,
              "#9c179e"
             ],
             [
              0.4444444444444444,
              "#bd3786"
             ],
             [
              0.5555555555555556,
              "#d8576b"
             ],
             [
              0.6666666666666666,
              "#ed7953"
             ],
             [
              0.7777777777777778,
              "#fb9f3a"
             ],
             [
              0.8888888888888888,
              "#fdca26"
             ],
             [
              1,
              "#f0f921"
             ]
            ],
            "type": "histogram2d"
           }
          ],
          "histogram2dcontour": [
           {
            "colorbar": {
             "outlinewidth": 0,
             "ticks": ""
            },
            "colorscale": [
             [
              0,
              "#0d0887"
             ],
             [
              0.1111111111111111,
              "#46039f"
             ],
             [
              0.2222222222222222,
              "#7201a8"
             ],
             [
              0.3333333333333333,
              "#9c179e"
             ],
             [
              0.4444444444444444,
              "#bd3786"
             ],
             [
              0.5555555555555556,
              "#d8576b"
             ],
             [
              0.6666666666666666,
              "#ed7953"
             ],
             [
              0.7777777777777778,
              "#fb9f3a"
             ],
             [
              0.8888888888888888,
              "#fdca26"
             ],
             [
              1,
              "#f0f921"
             ]
            ],
            "type": "histogram2dcontour"
           }
          ],
          "mesh3d": [
           {
            "colorbar": {
             "outlinewidth": 0,
             "ticks": ""
            },
            "type": "mesh3d"
           }
          ],
          "parcoords": [
           {
            "line": {
             "colorbar": {
              "outlinewidth": 0,
              "ticks": ""
             }
            },
            "type": "parcoords"
           }
          ],
          "pie": [
           {
            "automargin": true,
            "type": "pie"
           }
          ],
          "scatter": [
           {
            "fillpattern": {
             "fillmode": "overlay",
             "size": 10,
             "solidity": 0.2
            },
            "type": "scatter"
           }
          ],
          "scatter3d": [
           {
            "line": {
             "colorbar": {
              "outlinewidth": 0,
              "ticks": ""
             }
            },
            "marker": {
             "colorbar": {
              "outlinewidth": 0,
              "ticks": ""
             }
            },
            "type": "scatter3d"
           }
          ],
          "scattercarpet": [
           {
            "marker": {
             "colorbar": {
              "outlinewidth": 0,
              "ticks": ""
             }
            },
            "type": "scattercarpet"
           }
          ],
          "scattergeo": [
           {
            "marker": {
             "colorbar": {
              "outlinewidth": 0,
              "ticks": ""
             }
            },
            "type": "scattergeo"
           }
          ],
          "scattergl": [
           {
            "marker": {
             "colorbar": {
              "outlinewidth": 0,
              "ticks": ""
             }
            },
            "type": "scattergl"
           }
          ],
          "scattermapbox": [
           {
            "marker": {
             "colorbar": {
              "outlinewidth": 0,
              "ticks": ""
             }
            },
            "type": "scattermapbox"
           }
          ],
          "scatterpolar": [
           {
            "marker": {
             "colorbar": {
              "outlinewidth": 0,
              "ticks": ""
             }
            },
            "type": "scatterpolar"
           }
          ],
          "scatterpolargl": [
           {
            "marker": {
             "colorbar": {
              "outlinewidth": 0,
              "ticks": ""
             }
            },
            "type": "scatterpolargl"
           }
          ],
          "scatterternary": [
           {
            "marker": {
             "colorbar": {
              "outlinewidth": 0,
              "ticks": ""
             }
            },
            "type": "scatterternary"
           }
          ],
          "surface": [
           {
            "colorbar": {
             "outlinewidth": 0,
             "ticks": ""
            },
            "colorscale": [
             [
              0,
              "#0d0887"
             ],
             [
              0.1111111111111111,
              "#46039f"
             ],
             [
              0.2222222222222222,
              "#7201a8"
             ],
             [
              0.3333333333333333,
              "#9c179e"
             ],
             [
              0.4444444444444444,
              "#bd3786"
             ],
             [
              0.5555555555555556,
              "#d8576b"
             ],
             [
              0.6666666666666666,
              "#ed7953"
             ],
             [
              0.7777777777777778,
              "#fb9f3a"
             ],
             [
              0.8888888888888888,
              "#fdca26"
             ],
             [
              1,
              "#f0f921"
             ]
            ],
            "type": "surface"
           }
          ],
          "table": [
           {
            "cells": {
             "fill": {
              "color": "#EBF0F8"
             },
             "line": {
              "color": "white"
             }
            },
            "header": {
             "fill": {
              "color": "#C8D4E3"
             },
             "line": {
              "color": "white"
             }
            },
            "type": "table"
           }
          ]
         },
         "layout": {
          "annotationdefaults": {
           "arrowcolor": "#2a3f5f",
           "arrowhead": 0,
           "arrowwidth": 1
          },
          "autotypenumbers": "strict",
          "coloraxis": {
           "colorbar": {
            "outlinewidth": 0,
            "ticks": ""
           }
          },
          "colorscale": {
           "diverging": [
            [
             0,
             "#8e0152"
            ],
            [
             0.1,
             "#c51b7d"
            ],
            [
             0.2,
             "#de77ae"
            ],
            [
             0.3,
             "#f1b6da"
            ],
            [
             0.4,
             "#fde0ef"
            ],
            [
             0.5,
             "#f7f7f7"
            ],
            [
             0.6,
             "#e6f5d0"
            ],
            [
             0.7,
             "#b8e186"
            ],
            [
             0.8,
             "#7fbc41"
            ],
            [
             0.9,
             "#4d9221"
            ],
            [
             1,
             "#276419"
            ]
           ],
           "sequential": [
            [
             0,
             "#0d0887"
            ],
            [
             0.1111111111111111,
             "#46039f"
            ],
            [
             0.2222222222222222,
             "#7201a8"
            ],
            [
             0.3333333333333333,
             "#9c179e"
            ],
            [
             0.4444444444444444,
             "#bd3786"
            ],
            [
             0.5555555555555556,
             "#d8576b"
            ],
            [
             0.6666666666666666,
             "#ed7953"
            ],
            [
             0.7777777777777778,
             "#fb9f3a"
            ],
            [
             0.8888888888888888,
             "#fdca26"
            ],
            [
             1,
             "#f0f921"
            ]
           ],
           "sequentialminus": [
            [
             0,
             "#0d0887"
            ],
            [
             0.1111111111111111,
             "#46039f"
            ],
            [
             0.2222222222222222,
             "#7201a8"
            ],
            [
             0.3333333333333333,
             "#9c179e"
            ],
            [
             0.4444444444444444,
             "#bd3786"
            ],
            [
             0.5555555555555556,
             "#d8576b"
            ],
            [
             0.6666666666666666,
             "#ed7953"
            ],
            [
             0.7777777777777778,
             "#fb9f3a"
            ],
            [
             0.8888888888888888,
             "#fdca26"
            ],
            [
             1,
             "#f0f921"
            ]
           ]
          },
          "colorway": [
           "#636efa",
           "#EF553B",
           "#00cc96",
           "#ab63fa",
           "#FFA15A",
           "#19d3f3",
           "#FF6692",
           "#B6E880",
           "#FF97FF",
           "#FECB52"
          ],
          "font": {
           "color": "#2a3f5f"
          },
          "geo": {
           "bgcolor": "white",
           "lakecolor": "white",
           "landcolor": "#E5ECF6",
           "showlakes": true,
           "showland": true,
           "subunitcolor": "white"
          },
          "hoverlabel": {
           "align": "left"
          },
          "hovermode": "closest",
          "mapbox": {
           "style": "light"
          },
          "paper_bgcolor": "white",
          "plot_bgcolor": "#E5ECF6",
          "polar": {
           "angularaxis": {
            "gridcolor": "white",
            "linecolor": "white",
            "ticks": ""
           },
           "bgcolor": "#E5ECF6",
           "radialaxis": {
            "gridcolor": "white",
            "linecolor": "white",
            "ticks": ""
           }
          },
          "scene": {
           "xaxis": {
            "backgroundcolor": "#E5ECF6",
            "gridcolor": "white",
            "gridwidth": 2,
            "linecolor": "white",
            "showbackground": true,
            "ticks": "",
            "zerolinecolor": "white"
           },
           "yaxis": {
            "backgroundcolor": "#E5ECF6",
            "gridcolor": "white",
            "gridwidth": 2,
            "linecolor": "white",
            "showbackground": true,
            "ticks": "",
            "zerolinecolor": "white"
           },
           "zaxis": {
            "backgroundcolor": "#E5ECF6",
            "gridcolor": "white",
            "gridwidth": 2,
            "linecolor": "white",
            "showbackground": true,
            "ticks": "",
            "zerolinecolor": "white"
           }
          },
          "shapedefaults": {
           "line": {
            "color": "#2a3f5f"
           }
          },
          "ternary": {
           "aaxis": {
            "gridcolor": "white",
            "linecolor": "white",
            "ticks": ""
           },
           "baxis": {
            "gridcolor": "white",
            "linecolor": "white",
            "ticks": ""
           },
           "bgcolor": "#E5ECF6",
           "caxis": {
            "gridcolor": "white",
            "linecolor": "white",
            "ticks": ""
           }
          },
          "title": {
           "x": 0.05
          },
          "xaxis": {
           "automargin": true,
           "gridcolor": "white",
           "linecolor": "white",
           "ticks": "",
           "title": {
            "standoff": 15
           },
           "zerolinecolor": "white",
           "zerolinewidth": 2
          },
          "yaxis": {
           "automargin": true,
           "gridcolor": "white",
           "linecolor": "white",
           "ticks": "",
           "title": {
            "standoff": 15
           },
           "zerolinecolor": "white",
           "zerolinewidth": 2
          }
         }
        },
        "title": {
         "text": "مجموع مصارف منفی در سال‌های 1401 تا 1403 بر اساس شهرستان"
        },
        "uniformtext": {
         "minsize": 8,
         "mode": "hide"
        },
        "xaxis": {
         "anchor": "y",
         "domain": [
          0,
          1
         ],
         "tickangle": -45,
         "title": {
          "text": "County"
         }
        },
        "yaxis": {
         "anchor": "x",
         "domain": [
          0,
          1
         ],
         "tickformat": ".2s",
         "title": {
          "text": "Total Consumption"
         }
        }
       }
      }
     },
     "metadata": {},
     "output_type": "display_data"
    },
    {
     "name": "stdout",
     "output_type": "stream",
     "text": [
      "Generating Bar Chart: Total Consumption by License Type using Plotly\n"
     ]
    },
    {
     "data": {
      "application/vnd.plotly.v1+json": {
       "config": {
        "plotlyServerURL": "https://plot.ly"
       },
       "data": [
        {
         "alignmentgroup": "True",
         "hovertemplate": "License Type=%{x}<br>Total Consumption=%{y}<br>Formatted=%{text}<extra></extra>",
         "legendgroup": "",
         "marker": {
          "color": "#636efa",
          "pattern": {
           "shape": ""
          }
         },
         "name": "",
         "offsetgroup": "",
         "orientation": "v",
         "showlegend": false,
         "text": [
          "-60.6K",
          "-235.2K",
          "-365.8K",
          "-679.0K",
          "-1.6M",
          "-2.9M",
          "-93.4M"
         ],
         "textposition": "outside",
         "type": "bar",
         "x": [
          "سایر",
          "شرب روستایی",
          "شرب و بهداشت دام",
          "شرب شهری",
          "خدمات",
          "صنعتی",
          "کشاورزی"
         ],
         "xaxis": "x",
         "y": [
          -60608.018,
          -235155.948,
          -365770.135,
          -679027.827,
          -1621225.974,
          -2901875.295,
          -93437045.363
         ],
         "yaxis": "y"
        }
       ],
       "layout": {
        "barmode": "relative",
        "font": {
         "size": 14
        },
        "height": 600,
        "legend": {
         "tracegroupgap": 0
        },
        "template": {
         "data": {
          "bar": [
           {
            "error_x": {
             "color": "#2a3f5f"
            },
            "error_y": {
             "color": "#2a3f5f"
            },
            "marker": {
             "line": {
              "color": "#E5ECF6",
              "width": 0.5
             },
             "pattern": {
              "fillmode": "overlay",
              "size": 10,
              "solidity": 0.2
             }
            },
            "type": "bar"
           }
          ],
          "barpolar": [
           {
            "marker": {
             "line": {
              "color": "#E5ECF6",
              "width": 0.5
             },
             "pattern": {
              "fillmode": "overlay",
              "size": 10,
              "solidity": 0.2
             }
            },
            "type": "barpolar"
           }
          ],
          "carpet": [
           {
            "aaxis": {
             "endlinecolor": "#2a3f5f",
             "gridcolor": "white",
             "linecolor": "white",
             "minorgridcolor": "white",
             "startlinecolor": "#2a3f5f"
            },
            "baxis": {
             "endlinecolor": "#2a3f5f",
             "gridcolor": "white",
             "linecolor": "white",
             "minorgridcolor": "white",
             "startlinecolor": "#2a3f5f"
            },
            "type": "carpet"
           }
          ],
          "choropleth": [
           {
            "colorbar": {
             "outlinewidth": 0,
             "ticks": ""
            },
            "type": "choropleth"
           }
          ],
          "contour": [
           {
            "colorbar": {
             "outlinewidth": 0,
             "ticks": ""
            },
            "colorscale": [
             [
              0,
              "#0d0887"
             ],
             [
              0.1111111111111111,
              "#46039f"
             ],
             [
              0.2222222222222222,
              "#7201a8"
             ],
             [
              0.3333333333333333,
              "#9c179e"
             ],
             [
              0.4444444444444444,
              "#bd3786"
             ],
             [
              0.5555555555555556,
              "#d8576b"
             ],
             [
              0.6666666666666666,
              "#ed7953"
             ],
             [
              0.7777777777777778,
              "#fb9f3a"
             ],
             [
              0.8888888888888888,
              "#fdca26"
             ],
             [
              1,
              "#f0f921"
             ]
            ],
            "type": "contour"
           }
          ],
          "contourcarpet": [
           {
            "colorbar": {
             "outlinewidth": 0,
             "ticks": ""
            },
            "type": "contourcarpet"
           }
          ],
          "heatmap": [
           {
            "colorbar": {
             "outlinewidth": 0,
             "ticks": ""
            },
            "colorscale": [
             [
              0,
              "#0d0887"
             ],
             [
              0.1111111111111111,
              "#46039f"
             ],
             [
              0.2222222222222222,
              "#7201a8"
             ],
             [
              0.3333333333333333,
              "#9c179e"
             ],
             [
              0.4444444444444444,
              "#bd3786"
             ],
             [
              0.5555555555555556,
              "#d8576b"
             ],
             [
              0.6666666666666666,
              "#ed7953"
             ],
             [
              0.7777777777777778,
              "#fb9f3a"
             ],
             [
              0.8888888888888888,
              "#fdca26"
             ],
             [
              1,
              "#f0f921"
             ]
            ],
            "type": "heatmap"
           }
          ],
          "heatmapgl": [
           {
            "colorbar": {
             "outlinewidth": 0,
             "ticks": ""
            },
            "colorscale": [
             [
              0,
              "#0d0887"
             ],
             [
              0.1111111111111111,
              "#46039f"
             ],
             [
              0.2222222222222222,
              "#7201a8"
             ],
             [
              0.3333333333333333,
              "#9c179e"
             ],
             [
              0.4444444444444444,
              "#bd3786"
             ],
             [
              0.5555555555555556,
              "#d8576b"
             ],
             [
              0.6666666666666666,
              "#ed7953"
             ],
             [
              0.7777777777777778,
              "#fb9f3a"
             ],
             [
              0.8888888888888888,
              "#fdca26"
             ],
             [
              1,
              "#f0f921"
             ]
            ],
            "type": "heatmapgl"
           }
          ],
          "histogram": [
           {
            "marker": {
             "pattern": {
              "fillmode": "overlay",
              "size": 10,
              "solidity": 0.2
             }
            },
            "type": "histogram"
           }
          ],
          "histogram2d": [
           {
            "colorbar": {
             "outlinewidth": 0,
             "ticks": ""
            },
            "colorscale": [
             [
              0,
              "#0d0887"
             ],
             [
              0.1111111111111111,
              "#46039f"
             ],
             [
              0.2222222222222222,
              "#7201a8"
             ],
             [
              0.3333333333333333,
              "#9c179e"
             ],
             [
              0.4444444444444444,
              "#bd3786"
             ],
             [
              0.5555555555555556,
              "#d8576b"
             ],
             [
              0.6666666666666666,
              "#ed7953"
             ],
             [
              0.7777777777777778,
              "#fb9f3a"
             ],
             [
              0.8888888888888888,
              "#fdca26"
             ],
             [
              1,
              "#f0f921"
             ]
            ],
            "type": "histogram2d"
           }
          ],
          "histogram2dcontour": [
           {
            "colorbar": {
             "outlinewidth": 0,
             "ticks": ""
            },
            "colorscale": [
             [
              0,
              "#0d0887"
             ],
             [
              0.1111111111111111,
              "#46039f"
             ],
             [
              0.2222222222222222,
              "#7201a8"
             ],
             [
              0.3333333333333333,
              "#9c179e"
             ],
             [
              0.4444444444444444,
              "#bd3786"
             ],
             [
              0.5555555555555556,
              "#d8576b"
             ],
             [
              0.6666666666666666,
              "#ed7953"
             ],
             [
              0.7777777777777778,
              "#fb9f3a"
             ],
             [
              0.8888888888888888,
              "#fdca26"
             ],
             [
              1,
              "#f0f921"
             ]
            ],
            "type": "histogram2dcontour"
           }
          ],
          "mesh3d": [
           {
            "colorbar": {
             "outlinewidth": 0,
             "ticks": ""
            },
            "type": "mesh3d"
           }
          ],
          "parcoords": [
           {
            "line": {
             "colorbar": {
              "outlinewidth": 0,
              "ticks": ""
             }
            },
            "type": "parcoords"
           }
          ],
          "pie": [
           {
            "automargin": true,
            "type": "pie"
           }
          ],
          "scatter": [
           {
            "fillpattern": {
             "fillmode": "overlay",
             "size": 10,
             "solidity": 0.2
            },
            "type": "scatter"
           }
          ],
          "scatter3d": [
           {
            "line": {
             "colorbar": {
              "outlinewidth": 0,
              "ticks": ""
             }
            },
            "marker": {
             "colorbar": {
              "outlinewidth": 0,
              "ticks": ""
             }
            },
            "type": "scatter3d"
           }
          ],
          "scattercarpet": [
           {
            "marker": {
             "colorbar": {
              "outlinewidth": 0,
              "ticks": ""
             }
            },
            "type": "scattercarpet"
           }
          ],
          "scattergeo": [
           {
            "marker": {
             "colorbar": {
              "outlinewidth": 0,
              "ticks": ""
             }
            },
            "type": "scattergeo"
           }
          ],
          "scattergl": [
           {
            "marker": {
             "colorbar": {
              "outlinewidth": 0,
              "ticks": ""
             }
            },
            "type": "scattergl"
           }
          ],
          "scattermapbox": [
           {
            "marker": {
             "colorbar": {
              "outlinewidth": 0,
              "ticks": ""
             }
            },
            "type": "scattermapbox"
           }
          ],
          "scatterpolar": [
           {
            "marker": {
             "colorbar": {
              "outlinewidth": 0,
              "ticks": ""
             }
            },
            "type": "scatterpolar"
           }
          ],
          "scatterpolargl": [
           {
            "marker": {
             "colorbar": {
              "outlinewidth": 0,
              "ticks": ""
             }
            },
            "type": "scatterpolargl"
           }
          ],
          "scatterternary": [
           {
            "marker": {
             "colorbar": {
              "outlinewidth": 0,
              "ticks": ""
             }
            },
            "type": "scatterternary"
           }
          ],
          "surface": [
           {
            "colorbar": {
             "outlinewidth": 0,
             "ticks": ""
            },
            "colorscale": [
             [
              0,
              "#0d0887"
             ],
             [
              0.1111111111111111,
              "#46039f"
             ],
             [
              0.2222222222222222,
              "#7201a8"
             ],
             [
              0.3333333333333333,
              "#9c179e"
             ],
             [
              0.4444444444444444,
              "#bd3786"
             ],
             [
              0.5555555555555556,
              "#d8576b"
             ],
             [
              0.6666666666666666,
              "#ed7953"
             ],
             [
              0.7777777777777778,
              "#fb9f3a"
             ],
             [
              0.8888888888888888,
              "#fdca26"
             ],
             [
              1,
              "#f0f921"
             ]
            ],
            "type": "surface"
           }
          ],
          "table": [
           {
            "cells": {
             "fill": {
              "color": "#EBF0F8"
             },
             "line": {
              "color": "white"
             }
            },
            "header": {
             "fill": {
              "color": "#C8D4E3"
             },
             "line": {
              "color": "white"
             }
            },
            "type": "table"
           }
          ]
         },
         "layout": {
          "annotationdefaults": {
           "arrowcolor": "#2a3f5f",
           "arrowhead": 0,
           "arrowwidth": 1
          },
          "autotypenumbers": "strict",
          "coloraxis": {
           "colorbar": {
            "outlinewidth": 0,
            "ticks": ""
           }
          },
          "colorscale": {
           "diverging": [
            [
             0,
             "#8e0152"
            ],
            [
             0.1,
             "#c51b7d"
            ],
            [
             0.2,
             "#de77ae"
            ],
            [
             0.3,
             "#f1b6da"
            ],
            [
             0.4,
             "#fde0ef"
            ],
            [
             0.5,
             "#f7f7f7"
            ],
            [
             0.6,
             "#e6f5d0"
            ],
            [
             0.7,
             "#b8e186"
            ],
            [
             0.8,
             "#7fbc41"
            ],
            [
             0.9,
             "#4d9221"
            ],
            [
             1,
             "#276419"
            ]
           ],
           "sequential": [
            [
             0,
             "#0d0887"
            ],
            [
             0.1111111111111111,
             "#46039f"
            ],
            [
             0.2222222222222222,
             "#7201a8"
            ],
            [
             0.3333333333333333,
             "#9c179e"
            ],
            [
             0.4444444444444444,
             "#bd3786"
            ],
            [
             0.5555555555555556,
             "#d8576b"
            ],
            [
             0.6666666666666666,
             "#ed7953"
            ],
            [
             0.7777777777777778,
             "#fb9f3a"
            ],
            [
             0.8888888888888888,
             "#fdca26"
            ],
            [
             1,
             "#f0f921"
            ]
           ],
           "sequentialminus": [
            [
             0,
             "#0d0887"
            ],
            [
             0.1111111111111111,
             "#46039f"
            ],
            [
             0.2222222222222222,
             "#7201a8"
            ],
            [
             0.3333333333333333,
             "#9c179e"
            ],
            [
             0.4444444444444444,
             "#bd3786"
            ],
            [
             0.5555555555555556,
             "#d8576b"
            ],
            [
             0.6666666666666666,
             "#ed7953"
            ],
            [
             0.7777777777777778,
             "#fb9f3a"
            ],
            [
             0.8888888888888888,
             "#fdca26"
            ],
            [
             1,
             "#f0f921"
            ]
           ]
          },
          "colorway": [
           "#636efa",
           "#EF553B",
           "#00cc96",
           "#ab63fa",
           "#FFA15A",
           "#19d3f3",
           "#FF6692",
           "#B6E880",
           "#FF97FF",
           "#FECB52"
          ],
          "font": {
           "color": "#2a3f5f"
          },
          "geo": {
           "bgcolor": "white",
           "lakecolor": "white",
           "landcolor": "#E5ECF6",
           "showlakes": true,
           "showland": true,
           "subunitcolor": "white"
          },
          "hoverlabel": {
           "align": "left"
          },
          "hovermode": "closest",
          "mapbox": {
           "style": "light"
          },
          "paper_bgcolor": "white",
          "plot_bgcolor": "#E5ECF6",
          "polar": {
           "angularaxis": {
            "gridcolor": "white",
            "linecolor": "white",
            "ticks": ""
           },
           "bgcolor": "#E5ECF6",
           "radialaxis": {
            "gridcolor": "white",
            "linecolor": "white",
            "ticks": ""
           }
          },
          "scene": {
           "xaxis": {
            "backgroundcolor": "#E5ECF6",
            "gridcolor": "white",
            "gridwidth": 2,
            "linecolor": "white",
            "showbackground": true,
            "ticks": "",
            "zerolinecolor": "white"
           },
           "yaxis": {
            "backgroundcolor": "#E5ECF6",
            "gridcolor": "white",
            "gridwidth": 2,
            "linecolor": "white",
            "showbackground": true,
            "ticks": "",
            "zerolinecolor": "white"
           },
           "zaxis": {
            "backgroundcolor": "#E5ECF6",
            "gridcolor": "white",
            "gridwidth": 2,
            "linecolor": "white",
            "showbackground": true,
            "ticks": "",
            "zerolinecolor": "white"
           }
          },
          "shapedefaults": {
           "line": {
            "color": "#2a3f5f"
           }
          },
          "ternary": {
           "aaxis": {
            "gridcolor": "white",
            "linecolor": "white",
            "ticks": ""
           },
           "baxis": {
            "gridcolor": "white",
            "linecolor": "white",
            "ticks": ""
           },
           "bgcolor": "#E5ECF6",
           "caxis": {
            "gridcolor": "white",
            "linecolor": "white",
            "ticks": ""
           }
          },
          "title": {
           "x": 0.05
          },
          "xaxis": {
           "automargin": true,
           "gridcolor": "white",
           "linecolor": "white",
           "ticks": "",
           "title": {
            "standoff": 15
           },
           "zerolinecolor": "white",
           "zerolinewidth": 2
          },
          "yaxis": {
           "automargin": true,
           "gridcolor": "white",
           "linecolor": "white",
           "ticks": "",
           "title": {
            "standoff": 15
           },
           "zerolinecolor": "white",
           "zerolinewidth": 2
          }
         }
        },
        "title": {
         "text": "مجموع مصارف منفی در سال‌های 1401 تا 1403 بر اساس نوع پروانه"
        },
        "uniformtext": {
         "minsize": 8,
         "mode": "hide"
        },
        "xaxis": {
         "anchor": "y",
         "domain": [
          0,
          1
         ],
         "tickangle": -45,
         "title": {
          "text": "License Type"
         }
        },
        "yaxis": {
         "anchor": "x",
         "domain": [
          0,
          1
         ],
         "tickformat": ".2s",
         "title": {
          "text": "Total Consumption"
         }
        }
       }
      }
     },
     "metadata": {},
     "output_type": "display_data"
    },
    {
     "name": "stdout",
     "output_type": "stream",
     "text": [
      "Generating Grouped Bar Chart: Consumption by County and Year using Plotly\n"
     ]
    },
    {
     "data": {
      "application/vnd.plotly.v1+json": {
       "config": {
        "plotlyServerURL": "https://plot.ly"
       },
       "data": [
        {
         "alignmentgroup": "True",
         "hovertemplate": "Year=1403<br>County=%{x}<br>Total Consumption=%{y}<br>Formatted=%{text}<extra></extra>",
         "legendgroup": "1403",
         "marker": {
          "color": "#636efa",
          "pattern": {
           "shape": ""
          }
         },
         "name": "1403",
         "offsetgroup": "1403",
         "orientation": "v",
         "showlegend": true,
         "text": [
          "-0",
          "-0",
          "-1",
          "-13",
          "-36",
          "-1",
          "-16.6K",
          "-173.0K",
          "-285.1K",
          "-286.2K",
          "-409.3K",
          "-0",
          "-51.2K",
          "-151.9K",
          "-408.6K",
          "-1.1M",
          "-992.9K",
          "-2.3M",
          "-7.4M",
          "-47.0M"
         ],
         "textposition": "outside",
         "type": "bar",
         "x": [
          "طرقبه",
          "کلات",
          "چناران",
          "احمدآبادصولت",
          "فریمان",
          "کاخک",
          "تایباد",
          "خرو",
          "درگز",
          "تربت جام",
          "قوچان",
          "باخرز",
          "سبزوار",
          "سرخس",
          "کاشمر",
          "خواف",
          "گناباد",
          "نیشابور",
          "تربت حیدریه",
          "مشهد"
         ],
         "xaxis": "x",
         "y": [
          -0.101,
          -0.176,
          -0.965,
          -13.17,
          -36.160000000000004,
          -0.959,
          -16574.822,
          -173012.732,
          -285134.489,
          -286200.12200000003,
          -409325.249,
          -0.03,
          -51187.686,
          -151934.12900000002,
          -408620.027,
          -1081894.858,
          -992869.662,
          -2320262.106,
          -7427740.818,
          -46968255.957
         ],
         "yaxis": "y"
        },
        {
         "alignmentgroup": "True",
         "hovertemplate": "Year=1402<br>County=%{x}<br>Total Consumption=%{y}<br>Formatted=%{text}<extra></extra>",
         "legendgroup": "1402",
         "marker": {
          "color": "#EF553B",
          "pattern": {
           "shape": ""
          }
         },
         "name": "1402",
         "offsetgroup": "1402",
         "orientation": "v",
         "showlegend": true,
         "text": [
          "-35",
          "-101",
          "-802",
          "-44.6K",
          "-0",
          "-26.5K",
          "-71.7K",
          "-254.5K",
          "-419.8K",
          "-640.6K",
          "-45.4K",
          "-476.1K",
          "-2.2M",
          "-4.8M",
          "-28.7M"
         ],
         "textposition": "outside",
         "type": "bar",
         "x": [
          "بردسکن",
          "کاخک",
          "تایباد",
          "خرو",
          "درگز",
          "تربت جام",
          "قوچان",
          "سبزوار",
          "سرخس",
          "کاشمر",
          "خواف",
          "گناباد",
          "نیشابور",
          "تربت حیدریه",
          "مشهد"
         ],
         "xaxis": "x",
         "y": [
          -35.064,
          -101.102,
          -802.4,
          -44597.625,
          -0.174,
          -26478.11,
          -71656.839,
          -254544.301,
          -419762.494,
          -640558.603,
          -45438.592000000004,
          -476059.63899999997,
          -2175112.381,
          -4810885.61,
          -28738518.614
         ],
         "yaxis": "y"
        },
        {
         "alignmentgroup": "True",
         "hovertemplate": "Year=1401<br>County=%{x}<br>Total Consumption=%{y}<br>Formatted=%{text}<extra></extra>",
         "legendgroup": "1401",
         "marker": {
          "color": "#00cc96",
          "pattern": {
           "shape": ""
          }
         },
         "name": "1401",
         "offsetgroup": "1401",
         "orientation": "v",
         "showlegend": true,
         "text": [
          "-127.7K",
          "-18.8K",
          "-5.1K",
          "-549.7K",
          "-279.3K",
          "-19.0K",
          "-66.7K",
          "-55.8K",
          "-981",
          "-61.9K",
          "-658.7K",
          "-9.5M"
         ],
         "textposition": "outside",
         "type": "bar",
         "x": [
          "تایباد",
          "تربت جام",
          "قوچان",
          "باخرز",
          "سبزوار",
          "سرخس",
          "کاشمر",
          "خواف",
          "گناباد",
          "نیشابور",
          "تربت حیدریه",
          "مشهد"
         ],
         "xaxis": "x",
         "y": [
          -127706.1,
          -18848.275,
          -5086.043,
          -549705.9,
          -279275.86,
          -18958.78,
          -66742.42000000001,
          -55831.41,
          -980.87,
          -61877.978,
          -658712.5380000001,
          -9532912.771
         ],
         "yaxis": "y"
        }
       ],
       "layout": {
        "barmode": "group",
        "font": {
         "size": 14
        },
        "height": 800,
        "legend": {
         "title": {
          "text": "Year"
         },
         "tracegroupgap": 0
        },
        "template": {
         "data": {
          "bar": [
           {
            "error_x": {
             "color": "#2a3f5f"
            },
            "error_y": {
             "color": "#2a3f5f"
            },
            "marker": {
             "line": {
              "color": "#E5ECF6",
              "width": 0.5
             },
             "pattern": {
              "fillmode": "overlay",
              "size": 10,
              "solidity": 0.2
             }
            },
            "type": "bar"
           }
          ],
          "barpolar": [
           {
            "marker": {
             "line": {
              "color": "#E5ECF6",
              "width": 0.5
             },
             "pattern": {
              "fillmode": "overlay",
              "size": 10,
              "solidity": 0.2
             }
            },
            "type": "barpolar"
           }
          ],
          "carpet": [
           {
            "aaxis": {
             "endlinecolor": "#2a3f5f",
             "gridcolor": "white",
             "linecolor": "white",
             "minorgridcolor": "white",
             "startlinecolor": "#2a3f5f"
            },
            "baxis": {
             "endlinecolor": "#2a3f5f",
             "gridcolor": "white",
             "linecolor": "white",
             "minorgridcolor": "white",
             "startlinecolor": "#2a3f5f"
            },
            "type": "carpet"
           }
          ],
          "choropleth": [
           {
            "colorbar": {
             "outlinewidth": 0,
             "ticks": ""
            },
            "type": "choropleth"
           }
          ],
          "contour": [
           {
            "colorbar": {
             "outlinewidth": 0,
             "ticks": ""
            },
            "colorscale": [
             [
              0,
              "#0d0887"
             ],
             [
              0.1111111111111111,
              "#46039f"
             ],
             [
              0.2222222222222222,
              "#7201a8"
             ],
             [
              0.3333333333333333,
              "#9c179e"
             ],
             [
              0.4444444444444444,
              "#bd3786"
             ],
             [
              0.5555555555555556,
              "#d8576b"
             ],
             [
              0.6666666666666666,
              "#ed7953"
             ],
             [
              0.7777777777777778,
              "#fb9f3a"
             ],
             [
              0.8888888888888888,
              "#fdca26"
             ],
             [
              1,
              "#f0f921"
             ]
            ],
            "type": "contour"
           }
          ],
          "contourcarpet": [
           {
            "colorbar": {
             "outlinewidth": 0,
             "ticks": ""
            },
            "type": "contourcarpet"
           }
          ],
          "heatmap": [
           {
            "colorbar": {
             "outlinewidth": 0,
             "ticks": ""
            },
            "colorscale": [
             [
              0,
              "#0d0887"
             ],
             [
              0.1111111111111111,
              "#46039f"
             ],
             [
              0.2222222222222222,
              "#7201a8"
             ],
             [
              0.3333333333333333,
              "#9c179e"
             ],
             [
              0.4444444444444444,
              "#bd3786"
             ],
             [
              0.5555555555555556,
              "#d8576b"
             ],
             [
              0.6666666666666666,
              "#ed7953"
             ],
             [
              0.7777777777777778,
              "#fb9f3a"
             ],
             [
              0.8888888888888888,
              "#fdca26"
             ],
             [
              1,
              "#f0f921"
             ]
            ],
            "type": "heatmap"
           }
          ],
          "heatmapgl": [
           {
            "colorbar": {
             "outlinewidth": 0,
             "ticks": ""
            },
            "colorscale": [
             [
              0,
              "#0d0887"
             ],
             [
              0.1111111111111111,
              "#46039f"
             ],
             [
              0.2222222222222222,
              "#7201a8"
             ],
             [
              0.3333333333333333,
              "#9c179e"
             ],
             [
              0.4444444444444444,
              "#bd3786"
             ],
             [
              0.5555555555555556,
              "#d8576b"
             ],
             [
              0.6666666666666666,
              "#ed7953"
             ],
             [
              0.7777777777777778,
              "#fb9f3a"
             ],
             [
              0.8888888888888888,
              "#fdca26"
             ],
             [
              1,
              "#f0f921"
             ]
            ],
            "type": "heatmapgl"
           }
          ],
          "histogram": [
           {
            "marker": {
             "pattern": {
              "fillmode": "overlay",
              "size": 10,
              "solidity": 0.2
             }
            },
            "type": "histogram"
           }
          ],
          "histogram2d": [
           {
            "colorbar": {
             "outlinewidth": 0,
             "ticks": ""
            },
            "colorscale": [
             [
              0,
              "#0d0887"
             ],
             [
              0.1111111111111111,
              "#46039f"
             ],
             [
              0.2222222222222222,
              "#7201a8"
             ],
             [
              0.3333333333333333,
              "#9c179e"
             ],
             [
              0.4444444444444444,
              "#bd3786"
             ],
             [
              0.5555555555555556,
              "#d8576b"
             ],
             [
              0.6666666666666666,
              "#ed7953"
             ],
             [
              0.7777777777777778,
              "#fb9f3a"
             ],
             [
              0.8888888888888888,
              "#fdca26"
             ],
             [
              1,
              "#f0f921"
             ]
            ],
            "type": "histogram2d"
           }
          ],
          "histogram2dcontour": [
           {
            "colorbar": {
             "outlinewidth": 0,
             "ticks": ""
            },
            "colorscale": [
             [
              0,
              "#0d0887"
             ],
             [
              0.1111111111111111,
              "#46039f"
             ],
             [
              0.2222222222222222,
              "#7201a8"
             ],
             [
              0.3333333333333333,
              "#9c179e"
             ],
             [
              0.4444444444444444,
              "#bd3786"
             ],
             [
              0.5555555555555556,
              "#d8576b"
             ],
             [
              0.6666666666666666,
              "#ed7953"
             ],
             [
              0.7777777777777778,
              "#fb9f3a"
             ],
             [
              0.8888888888888888,
              "#fdca26"
             ],
             [
              1,
              "#f0f921"
             ]
            ],
            "type": "histogram2dcontour"
           }
          ],
          "mesh3d": [
           {
            "colorbar": {
             "outlinewidth": 0,
             "ticks": ""
            },
            "type": "mesh3d"
           }
          ],
          "parcoords": [
           {
            "line": {
             "colorbar": {
              "outlinewidth": 0,
              "ticks": ""
             }
            },
            "type": "parcoords"
           }
          ],
          "pie": [
           {
            "automargin": true,
            "type": "pie"
           }
          ],
          "scatter": [
           {
            "fillpattern": {
             "fillmode": "overlay",
             "size": 10,
             "solidity": 0.2
            },
            "type": "scatter"
           }
          ],
          "scatter3d": [
           {
            "line": {
             "colorbar": {
              "outlinewidth": 0,
              "ticks": ""
             }
            },
            "marker": {
             "colorbar": {
              "outlinewidth": 0,
              "ticks": ""
             }
            },
            "type": "scatter3d"
           }
          ],
          "scattercarpet": [
           {
            "marker": {
             "colorbar": {
              "outlinewidth": 0,
              "ticks": ""
             }
            },
            "type": "scattercarpet"
           }
          ],
          "scattergeo": [
           {
            "marker": {
             "colorbar": {
              "outlinewidth": 0,
              "ticks": ""
             }
            },
            "type": "scattergeo"
           }
          ],
          "scattergl": [
           {
            "marker": {
             "colorbar": {
              "outlinewidth": 0,
              "ticks": ""
             }
            },
            "type": "scattergl"
           }
          ],
          "scattermapbox": [
           {
            "marker": {
             "colorbar": {
              "outlinewidth": 0,
              "ticks": ""
             }
            },
            "type": "scattermapbox"
           }
          ],
          "scatterpolar": [
           {
            "marker": {
             "colorbar": {
              "outlinewidth": 0,
              "ticks": ""
             }
            },
            "type": "scatterpolar"
           }
          ],
          "scatterpolargl": [
           {
            "marker": {
             "colorbar": {
              "outlinewidth": 0,
              "ticks": ""
             }
            },
            "type": "scatterpolargl"
           }
          ],
          "scatterternary": [
           {
            "marker": {
             "colorbar": {
              "outlinewidth": 0,
              "ticks": ""
             }
            },
            "type": "scatterternary"
           }
          ],
          "surface": [
           {
            "colorbar": {
             "outlinewidth": 0,
             "ticks": ""
            },
            "colorscale": [
             [
              0,
              "#0d0887"
             ],
             [
              0.1111111111111111,
              "#46039f"
             ],
             [
              0.2222222222222222,
              "#7201a8"
             ],
             [
              0.3333333333333333,
              "#9c179e"
             ],
             [
              0.4444444444444444,
              "#bd3786"
             ],
             [
              0.5555555555555556,
              "#d8576b"
             ],
             [
              0.6666666666666666,
              "#ed7953"
             ],
             [
              0.7777777777777778,
              "#fb9f3a"
             ],
             [
              0.8888888888888888,
              "#fdca26"
             ],
             [
              1,
              "#f0f921"
             ]
            ],
            "type": "surface"
           }
          ],
          "table": [
           {
            "cells": {
             "fill": {
              "color": "#EBF0F8"
             },
             "line": {
              "color": "white"
             }
            },
            "header": {
             "fill": {
              "color": "#C8D4E3"
             },
             "line": {
              "color": "white"
             }
            },
            "type": "table"
           }
          ]
         },
         "layout": {
          "annotationdefaults": {
           "arrowcolor": "#2a3f5f",
           "arrowhead": 0,
           "arrowwidth": 1
          },
          "autotypenumbers": "strict",
          "coloraxis": {
           "colorbar": {
            "outlinewidth": 0,
            "ticks": ""
           }
          },
          "colorscale": {
           "diverging": [
            [
             0,
             "#8e0152"
            ],
            [
             0.1,
             "#c51b7d"
            ],
            [
             0.2,
             "#de77ae"
            ],
            [
             0.3,
             "#f1b6da"
            ],
            [
             0.4,
             "#fde0ef"
            ],
            [
             0.5,
             "#f7f7f7"
            ],
            [
             0.6,
             "#e6f5d0"
            ],
            [
             0.7,
             "#b8e186"
            ],
            [
             0.8,
             "#7fbc41"
            ],
            [
             0.9,
             "#4d9221"
            ],
            [
             1,
             "#276419"
            ]
           ],
           "sequential": [
            [
             0,
             "#0d0887"
            ],
            [
             0.1111111111111111,
             "#46039f"
            ],
            [
             0.2222222222222222,
             "#7201a8"
            ],
            [
             0.3333333333333333,
             "#9c179e"
            ],
            [
             0.4444444444444444,
             "#bd3786"
            ],
            [
             0.5555555555555556,
             "#d8576b"
            ],
            [
             0.6666666666666666,
             "#ed7953"
            ],
            [
             0.7777777777777778,
             "#fb9f3a"
            ],
            [
             0.8888888888888888,
             "#fdca26"
            ],
            [
             1,
             "#f0f921"
            ]
           ],
           "sequentialminus": [
            [
             0,
             "#0d0887"
            ],
            [
             0.1111111111111111,
             "#46039f"
            ],
            [
             0.2222222222222222,
             "#7201a8"
            ],
            [
             0.3333333333333333,
             "#9c179e"
            ],
            [
             0.4444444444444444,
             "#bd3786"
            ],
            [
             0.5555555555555556,
             "#d8576b"
            ],
            [
             0.6666666666666666,
             "#ed7953"
            ],
            [
             0.7777777777777778,
             "#fb9f3a"
            ],
            [
             0.8888888888888888,
             "#fdca26"
            ],
            [
             1,
             "#f0f921"
            ]
           ]
          },
          "colorway": [
           "#636efa",
           "#EF553B",
           "#00cc96",
           "#ab63fa",
           "#FFA15A",
           "#19d3f3",
           "#FF6692",
           "#B6E880",
           "#FF97FF",
           "#FECB52"
          ],
          "font": {
           "color": "#2a3f5f"
          },
          "geo": {
           "bgcolor": "white",
           "lakecolor": "white",
           "landcolor": "#E5ECF6",
           "showlakes": true,
           "showland": true,
           "subunitcolor": "white"
          },
          "hoverlabel": {
           "align": "left"
          },
          "hovermode": "closest",
          "mapbox": {
           "style": "light"
          },
          "paper_bgcolor": "white",
          "plot_bgcolor": "#E5ECF6",
          "polar": {
           "angularaxis": {
            "gridcolor": "white",
            "linecolor": "white",
            "ticks": ""
           },
           "bgcolor": "#E5ECF6",
           "radialaxis": {
            "gridcolor": "white",
            "linecolor": "white",
            "ticks": ""
           }
          },
          "scene": {
           "xaxis": {
            "backgroundcolor": "#E5ECF6",
            "gridcolor": "white",
            "gridwidth": 2,
            "linecolor": "white",
            "showbackground": true,
            "ticks": "",
            "zerolinecolor": "white"
           },
           "yaxis": {
            "backgroundcolor": "#E5ECF6",
            "gridcolor": "white",
            "gridwidth": 2,
            "linecolor": "white",
            "showbackground": true,
            "ticks": "",
            "zerolinecolor": "white"
           },
           "zaxis": {
            "backgroundcolor": "#E5ECF6",
            "gridcolor": "white",
            "gridwidth": 2,
            "linecolor": "white",
            "showbackground": true,
            "ticks": "",
            "zerolinecolor": "white"
           }
          },
          "shapedefaults": {
           "line": {
            "color": "#2a3f5f"
           }
          },
          "ternary": {
           "aaxis": {
            "gridcolor": "white",
            "linecolor": "white",
            "ticks": ""
           },
           "baxis": {
            "gridcolor": "white",
            "linecolor": "white",
            "ticks": ""
           },
           "bgcolor": "#E5ECF6",
           "caxis": {
            "gridcolor": "white",
            "linecolor": "white",
            "ticks": ""
           }
          },
          "title": {
           "x": 0.05
          },
          "xaxis": {
           "automargin": true,
           "gridcolor": "white",
           "linecolor": "white",
           "ticks": "",
           "title": {
            "standoff": 15
           },
           "zerolinecolor": "white",
           "zerolinewidth": 2
          },
          "yaxis": {
           "automargin": true,
           "gridcolor": "white",
           "linecolor": "white",
           "ticks": "",
           "title": {
            "standoff": 15
           },
           "zerolinecolor": "white",
           "zerolinewidth": 2
          }
         }
        },
        "title": {
         "text": "مصارف منفی در سال‌های 1401 تا 1403 بر اساس شهرستان‌های مختلف"
        },
        "uniformtext": {
         "minsize": 8,
         "mode": "hide"
        },
        "xaxis": {
         "anchor": "y",
         "domain": [
          0,
          1
         ],
         "tickangle": -60,
         "title": {
          "text": "County"
         }
        },
        "yaxis": {
         "anchor": "x",
         "domain": [
          0,
          1
         ],
         "tickformat": ".2s",
         "title": {
          "text": "Total Consumption"
         }
        }
       }
      }
     },
     "metadata": {},
     "output_type": "display_data"
    },
    {
     "name": "stdout",
     "output_type": "stream",
     "text": [
      "Generating Grouped Bar Chart: Consumption by License Type and Year using Plotly\n"
     ]
    },
    {
     "data": {
      "application/vnd.plotly.v1+json": {
       "config": {
        "plotlyServerURL": "https://plot.ly"
       },
       "data": [
        {
         "alignmentgroup": "True",
         "hovertemplate": "Year=1401<br>License Type=%{x}<br>Total Consumption=%{y}<br>Formatted=%{text}<extra></extra>",
         "legendgroup": "1401",
         "marker": {
          "color": "#636efa",
          "pattern": {
           "shape": ""
          }
         },
         "name": "1401",
         "offsetgroup": "1401",
         "orientation": "v",
         "showlegend": true,
         "text": [
          "-29.4K",
          "-216",
          "-76.8K",
          "-167",
          "-528.4K",
          "-1.2M",
          "-8.8M"
         ],
         "textposition": "outside",
         "type": "bar",
         "x": [
          "سایر",
          "شرب روستایی",
          "شرب و بهداشت دام",
          "شرب شهری",
          "خدمات",
          "صنعتی",
          "کشاورزی"
         ],
         "xaxis": "x",
         "y": [
          -29415.409999999996,
          -216.148,
          -76815.189,
          -166.822,
          -528408.3690000001,
          -1180867.426,
          -8759353.224
         ],
         "yaxis": "y"
        },
        {
         "alignmentgroup": "True",
         "hovertemplate": "Year=1402<br>License Type=%{x}<br>Total Consumption=%{y}<br>Formatted=%{text}<extra></extra>",
         "legendgroup": "1402",
         "marker": {
          "color": "#EF553B",
          "pattern": {
           "shape": ""
          }
         },
         "name": "1402",
         "offsetgroup": "1402",
         "orientation": "v",
         "showlegend": true,
         "text": [
          "-15.5K",
          "-115.1K",
          "-79.8K",
          "-621.3K",
          "-183.8K",
          "-1.0M",
          "-28.6M"
         ],
         "textposition": "outside",
         "type": "bar",
         "x": [
          "سایر",
          "شرب روستایی",
          "شرب و بهداشت دام",
          "شرب شهری",
          "خدمات",
          "صنعتی",
          "کشاورزی"
         ],
         "xaxis": "x",
         "y": [
          -15487.048,
          -115052.8,
          -79820.501,
          -621291.0329999999,
          -183779.304,
          -1038551.285,
          -28635771.433
         ],
         "yaxis": "y"
        },
        {
         "alignmentgroup": "True",
         "hovertemplate": "Year=1403<br>License Type=%{x}<br>Total Consumption=%{y}<br>Formatted=%{text}<extra></extra>",
         "legendgroup": "1403",
         "marker": {
          "color": "#00cc96",
          "pattern": {
           "shape": ""
          }
         },
         "name": "1403",
         "offsetgroup": "1403",
         "orientation": "v",
         "showlegend": true,
         "text": [
          "-15.7K",
          "-119.9K",
          "-209.1K",
          "-57.6K",
          "-909.0K",
          "-682.5K",
          "-56.0M"
         ],
         "textposition": "outside",
         "type": "bar",
         "x": [
          "سایر",
          "شرب روستایی",
          "شرب و بهداشت دام",
          "شرب شهری",
          "خدمات",
          "صنعتی",
          "کشاورزی"
         ],
         "xaxis": "x",
         "y": [
          -15705.56,
          -119887,
          -209134.445,
          -57569.972,
          -909038.301,
          -682456.584,
          -56041920.706
         ],
         "yaxis": "y"
        }
       ],
       "layout": {
        "barmode": "group",
        "font": {
         "size": 14
        },
        "height": 700,
        "legend": {
         "title": {
          "text": "Year"
         },
         "tracegroupgap": 0
        },
        "template": {
         "data": {
          "bar": [
           {
            "error_x": {
             "color": "#2a3f5f"
            },
            "error_y": {
             "color": "#2a3f5f"
            },
            "marker": {
             "line": {
              "color": "#E5ECF6",
              "width": 0.5
             },
             "pattern": {
              "fillmode": "overlay",
              "size": 10,
              "solidity": 0.2
             }
            },
            "type": "bar"
           }
          ],
          "barpolar": [
           {
            "marker": {
             "line": {
              "color": "#E5ECF6",
              "width": 0.5
             },
             "pattern": {
              "fillmode": "overlay",
              "size": 10,
              "solidity": 0.2
             }
            },
            "type": "barpolar"
           }
          ],
          "carpet": [
           {
            "aaxis": {
             "endlinecolor": "#2a3f5f",
             "gridcolor": "white",
             "linecolor": "white",
             "minorgridcolor": "white",
             "startlinecolor": "#2a3f5f"
            },
            "baxis": {
             "endlinecolor": "#2a3f5f",
             "gridcolor": "white",
             "linecolor": "white",
             "minorgridcolor": "white",
             "startlinecolor": "#2a3f5f"
            },
            "type": "carpet"
           }
          ],
          "choropleth": [
           {
            "colorbar": {
             "outlinewidth": 0,
             "ticks": ""
            },
            "type": "choropleth"
           }
          ],
          "contour": [
           {
            "colorbar": {
             "outlinewidth": 0,
             "ticks": ""
            },
            "colorscale": [
             [
              0,
              "#0d0887"
             ],
             [
              0.1111111111111111,
              "#46039f"
             ],
             [
              0.2222222222222222,
              "#7201a8"
             ],
             [
              0.3333333333333333,
              "#9c179e"
             ],
             [
              0.4444444444444444,
              "#bd3786"
             ],
             [
              0.5555555555555556,
              "#d8576b"
             ],
             [
              0.6666666666666666,
              "#ed7953"
             ],
             [
              0.7777777777777778,
              "#fb9f3a"
             ],
             [
              0.8888888888888888,
              "#fdca26"
             ],
             [
              1,
              "#f0f921"
             ]
            ],
            "type": "contour"
           }
          ],
          "contourcarpet": [
           {
            "colorbar": {
             "outlinewidth": 0,
             "ticks": ""
            },
            "type": "contourcarpet"
           }
          ],
          "heatmap": [
           {
            "colorbar": {
             "outlinewidth": 0,
             "ticks": ""
            },
            "colorscale": [
             [
              0,
              "#0d0887"
             ],
             [
              0.1111111111111111,
              "#46039f"
             ],
             [
              0.2222222222222222,
              "#7201a8"
             ],
             [
              0.3333333333333333,
              "#9c179e"
             ],
             [
              0.4444444444444444,
              "#bd3786"
             ],
             [
              0.5555555555555556,
              "#d8576b"
             ],
             [
              0.6666666666666666,
              "#ed7953"
             ],
             [
              0.7777777777777778,
              "#fb9f3a"
             ],
             [
              0.8888888888888888,
              "#fdca26"
             ],
             [
              1,
              "#f0f921"
             ]
            ],
            "type": "heatmap"
           }
          ],
          "heatmapgl": [
           {
            "colorbar": {
             "outlinewidth": 0,
             "ticks": ""
            },
            "colorscale": [
             [
              0,
              "#0d0887"
             ],
             [
              0.1111111111111111,
              "#46039f"
             ],
             [
              0.2222222222222222,
              "#7201a8"
             ],
             [
              0.3333333333333333,
              "#9c179e"
             ],
             [
              0.4444444444444444,
              "#bd3786"
             ],
             [
              0.5555555555555556,
              "#d8576b"
             ],
             [
              0.6666666666666666,
              "#ed7953"
             ],
             [
              0.7777777777777778,
              "#fb9f3a"
             ],
             [
              0.8888888888888888,
              "#fdca26"
             ],
             [
              1,
              "#f0f921"
             ]
            ],
            "type": "heatmapgl"
           }
          ],
          "histogram": [
           {
            "marker": {
             "pattern": {
              "fillmode": "overlay",
              "size": 10,
              "solidity": 0.2
             }
            },
            "type": "histogram"
           }
          ],
          "histogram2d": [
           {
            "colorbar": {
             "outlinewidth": 0,
             "ticks": ""
            },
            "colorscale": [
             [
              0,
              "#0d0887"
             ],
             [
              0.1111111111111111,
              "#46039f"
             ],
             [
              0.2222222222222222,
              "#7201a8"
             ],
             [
              0.3333333333333333,
              "#9c179e"
             ],
             [
              0.4444444444444444,
              "#bd3786"
             ],
             [
              0.5555555555555556,
              "#d8576b"
             ],
             [
              0.6666666666666666,
              "#ed7953"
             ],
             [
              0.7777777777777778,
              "#fb9f3a"
             ],
             [
              0.8888888888888888,
              "#fdca26"
             ],
             [
              1,
              "#f0f921"
             ]
            ],
            "type": "histogram2d"
           }
          ],
          "histogram2dcontour": [
           {
            "colorbar": {
             "outlinewidth": 0,
             "ticks": ""
            },
            "colorscale": [
             [
              0,
              "#0d0887"
             ],
             [
              0.1111111111111111,
              "#46039f"
             ],
             [
              0.2222222222222222,
              "#7201a8"
             ],
             [
              0.3333333333333333,
              "#9c179e"
             ],
             [
              0.4444444444444444,
              "#bd3786"
             ],
             [
              0.5555555555555556,
              "#d8576b"
             ],
             [
              0.6666666666666666,
              "#ed7953"
             ],
             [
              0.7777777777777778,
              "#fb9f3a"
             ],
             [
              0.8888888888888888,
              "#fdca26"
             ],
             [
              1,
              "#f0f921"
             ]
            ],
            "type": "histogram2dcontour"
           }
          ],
          "mesh3d": [
           {
            "colorbar": {
             "outlinewidth": 0,
             "ticks": ""
            },
            "type": "mesh3d"
           }
          ],
          "parcoords": [
           {
            "line": {
             "colorbar": {
              "outlinewidth": 0,
              "ticks": ""
             }
            },
            "type": "parcoords"
           }
          ],
          "pie": [
           {
            "automargin": true,
            "type": "pie"
           }
          ],
          "scatter": [
           {
            "fillpattern": {
             "fillmode": "overlay",
             "size": 10,
             "solidity": 0.2
            },
            "type": "scatter"
           }
          ],
          "scatter3d": [
           {
            "line": {
             "colorbar": {
              "outlinewidth": 0,
              "ticks": ""
             }
            },
            "marker": {
             "colorbar": {
              "outlinewidth": 0,
              "ticks": ""
             }
            },
            "type": "scatter3d"
           }
          ],
          "scattercarpet": [
           {
            "marker": {
             "colorbar": {
              "outlinewidth": 0,
              "ticks": ""
             }
            },
            "type": "scattercarpet"
           }
          ],
          "scattergeo": [
           {
            "marker": {
             "colorbar": {
              "outlinewidth": 0,
              "ticks": ""
             }
            },
            "type": "scattergeo"
           }
          ],
          "scattergl": [
           {
            "marker": {
             "colorbar": {
              "outlinewidth": 0,
              "ticks": ""
             }
            },
            "type": "scattergl"
           }
          ],
          "scattermapbox": [
           {
            "marker": {
             "colorbar": {
              "outlinewidth": 0,
              "ticks": ""
             }
            },
            "type": "scattermapbox"
           }
          ],
          "scatterpolar": [
           {
            "marker": {
             "colorbar": {
              "outlinewidth": 0,
              "ticks": ""
             }
            },
            "type": "scatterpolar"
           }
          ],
          "scatterpolargl": [
           {
            "marker": {
             "colorbar": {
              "outlinewidth": 0,
              "ticks": ""
             }
            },
            "type": "scatterpolargl"
           }
          ],
          "scatterternary": [
           {
            "marker": {
             "colorbar": {
              "outlinewidth": 0,
              "ticks": ""
             }
            },
            "type": "scatterternary"
           }
          ],
          "surface": [
           {
            "colorbar": {
             "outlinewidth": 0,
             "ticks": ""
            },
            "colorscale": [
             [
              0,
              "#0d0887"
             ],
             [
              0.1111111111111111,
              "#46039f"
             ],
             [
              0.2222222222222222,
              "#7201a8"
             ],
             [
              0.3333333333333333,
              "#9c179e"
             ],
             [
              0.4444444444444444,
              "#bd3786"
             ],
             [
              0.5555555555555556,
              "#d8576b"
             ],
             [
              0.6666666666666666,
              "#ed7953"
             ],
             [
              0.7777777777777778,
              "#fb9f3a"
             ],
             [
              0.8888888888888888,
              "#fdca26"
             ],
             [
              1,
              "#f0f921"
             ]
            ],
            "type": "surface"
           }
          ],
          "table": [
           {
            "cells": {
             "fill": {
              "color": "#EBF0F8"
             },
             "line": {
              "color": "white"
             }
            },
            "header": {
             "fill": {
              "color": "#C8D4E3"
             },
             "line": {
              "color": "white"
             }
            },
            "type": "table"
           }
          ]
         },
         "layout": {
          "annotationdefaults": {
           "arrowcolor": "#2a3f5f",
           "arrowhead": 0,
           "arrowwidth": 1
          },
          "autotypenumbers": "strict",
          "coloraxis": {
           "colorbar": {
            "outlinewidth": 0,
            "ticks": ""
           }
          },
          "colorscale": {
           "diverging": [
            [
             0,
             "#8e0152"
            ],
            [
             0.1,
             "#c51b7d"
            ],
            [
             0.2,
             "#de77ae"
            ],
            [
             0.3,
             "#f1b6da"
            ],
            [
             0.4,
             "#fde0ef"
            ],
            [
             0.5,
             "#f7f7f7"
            ],
            [
             0.6,
             "#e6f5d0"
            ],
            [
             0.7,
             "#b8e186"
            ],
            [
             0.8,
             "#7fbc41"
            ],
            [
             0.9,
             "#4d9221"
            ],
            [
             1,
             "#276419"
            ]
           ],
           "sequential": [
            [
             0,
             "#0d0887"
            ],
            [
             0.1111111111111111,
             "#46039f"
            ],
            [
             0.2222222222222222,
             "#7201a8"
            ],
            [
             0.3333333333333333,
             "#9c179e"
            ],
            [
             0.4444444444444444,
             "#bd3786"
            ],
            [
             0.5555555555555556,
             "#d8576b"
            ],
            [
             0.6666666666666666,
             "#ed7953"
            ],
            [
             0.7777777777777778,
             "#fb9f3a"
            ],
            [
             0.8888888888888888,
             "#fdca26"
            ],
            [
             1,
             "#f0f921"
            ]
           ],
           "sequentialminus": [
            [
             0,
             "#0d0887"
            ],
            [
             0.1111111111111111,
             "#46039f"
            ],
            [
             0.2222222222222222,
             "#7201a8"
            ],
            [
             0.3333333333333333,
             "#9c179e"
            ],
            [
             0.4444444444444444,
             "#bd3786"
            ],
            [
             0.5555555555555556,
             "#d8576b"
            ],
            [
             0.6666666666666666,
             "#ed7953"
            ],
            [
             0.7777777777777778,
             "#fb9f3a"
            ],
            [
             0.8888888888888888,
             "#fdca26"
            ],
            [
             1,
             "#f0f921"
            ]
           ]
          },
          "colorway": [
           "#636efa",
           "#EF553B",
           "#00cc96",
           "#ab63fa",
           "#FFA15A",
           "#19d3f3",
           "#FF6692",
           "#B6E880",
           "#FF97FF",
           "#FECB52"
          ],
          "font": {
           "color": "#2a3f5f"
          },
          "geo": {
           "bgcolor": "white",
           "lakecolor": "white",
           "landcolor": "#E5ECF6",
           "showlakes": true,
           "showland": true,
           "subunitcolor": "white"
          },
          "hoverlabel": {
           "align": "left"
          },
          "hovermode": "closest",
          "mapbox": {
           "style": "light"
          },
          "paper_bgcolor": "white",
          "plot_bgcolor": "#E5ECF6",
          "polar": {
           "angularaxis": {
            "gridcolor": "white",
            "linecolor": "white",
            "ticks": ""
           },
           "bgcolor": "#E5ECF6",
           "radialaxis": {
            "gridcolor": "white",
            "linecolor": "white",
            "ticks": ""
           }
          },
          "scene": {
           "xaxis": {
            "backgroundcolor": "#E5ECF6",
            "gridcolor": "white",
            "gridwidth": 2,
            "linecolor": "white",
            "showbackground": true,
            "ticks": "",
            "zerolinecolor": "white"
           },
           "yaxis": {
            "backgroundcolor": "#E5ECF6",
            "gridcolor": "white",
            "gridwidth": 2,
            "linecolor": "white",
            "showbackground": true,
            "ticks": "",
            "zerolinecolor": "white"
           },
           "zaxis": {
            "backgroundcolor": "#E5ECF6",
            "gridcolor": "white",
            "gridwidth": 2,
            "linecolor": "white",
            "showbackground": true,
            "ticks": "",
            "zerolinecolor": "white"
           }
          },
          "shapedefaults": {
           "line": {
            "color": "#2a3f5f"
           }
          },
          "ternary": {
           "aaxis": {
            "gridcolor": "white",
            "linecolor": "white",
            "ticks": ""
           },
           "baxis": {
            "gridcolor": "white",
            "linecolor": "white",
            "ticks": ""
           },
           "bgcolor": "#E5ECF6",
           "caxis": {
            "gridcolor": "white",
            "linecolor": "white",
            "ticks": ""
           }
          },
          "title": {
           "x": 0.05
          },
          "xaxis": {
           "automargin": true,
           "gridcolor": "white",
           "linecolor": "white",
           "ticks": "",
           "title": {
            "standoff": 15
           },
           "zerolinecolor": "white",
           "zerolinewidth": 2
          },
          "yaxis": {
           "automargin": true,
           "gridcolor": "white",
           "linecolor": "white",
           "ticks": "",
           "title": {
            "standoff": 15
           },
           "zerolinecolor": "white",
           "zerolinewidth": 2
          }
         }
        },
        "title": {
         "text": "مصارف منفی در سال‌های 1401 تا 1403 بر اساس نوع پروانه"
        },
        "uniformtext": {
         "minsize": 8,
         "mode": "hide"
        },
        "xaxis": {
         "anchor": "y",
         "domain": [
          0,
          1
         ],
         "tickangle": -45,
         "title": {
          "text": "License Type"
         }
        },
        "yaxis": {
         "anchor": "x",
         "domain": [
          0,
          1
         ],
         "tickformat": ".2s",
         "title": {
          "text": "Total Consumption"
         }
        }
       }
      }
     },
     "metadata": {},
     "output_type": "display_data"
    },
    {
     "name": "stdout",
     "output_type": "stream",
     "text": [
      "✅ All professional-quality plots have been generated.\n"
     ]
    }
   ],
   "source": [
    "import pandas as pd\n",
    "import plotly.express as px\n",
    "\n",
    "# تابع برای خلاصه‌سازی اعداد (مثلاً 1.2M به جای 1,200,000)\n",
    "def format_number(x):\n",
    "    if abs(x) >= 1_000_000:\n",
    "        return f\"{x / 1_000_000:.1f}M\"\n",
    "    elif abs(x) >= 1_000:\n",
    "        return f\"{x / 1_000:.1f}K\"\n",
    "    else:\n",
    "        return f\"{x:.0f}\"\n",
    "\n",
    "# --- 2.1 مجموع مصرف بر اساس شهرستان ---\n",
    "print(\"Generating Bar Chart: Total Consumption by County using Plotly\")\n",
    "df_county_consumption_data = df.groupby('County', as_index=False)['Consumption (m³)'].sum()\n",
    "df_county_consumption_data = df_county_consumption_data.sort_values(by='Consumption (m³)', ascending=False)\n",
    "df_county_consumption_data['Formatted'] = df_county_consumption_data['Consumption (m³)'].apply(format_number)\n",
    "\n",
    "if not df_county_consumption_data.empty:\n",
    "    fig2_1 = px.bar(df_county_consumption_data,\n",
    "                    x='County',\n",
    "                    y='Consumption (m³)',\n",
    "                    text='Formatted',\n",
    "                    title='مجموع مصارف منفی در سال‌های 1401 تا 1403 بر اساس شهرستان',\n",
    "                    labels={'Consumption (m³)': 'Total Consumption', 'County': 'County'},\n",
    "                    height=700)\n",
    "    fig2_1.update_traces(textposition='outside')\n",
    "    fig2_1.update_layout(\n",
    "        xaxis_tickangle=-45,\n",
    "        yaxis_tickformat=\".2s\",\n",
    "        font=dict(size=14),\n",
    "        uniformtext_minsize=8,\n",
    "        uniformtext_mode='hide'\n",
    "    )\n",
    "    fig2_1.show()\n",
    "\n",
    "# --- 2.2 مجموع مصرف بر اساس نوع پروانه ---\n",
    "print(\"Generating Bar Chart: Total Consumption by License Type using Plotly\")\n",
    "df_license_consumption_data = df.groupby('License Type', as_index=False)['Consumption (m³)'].sum()\n",
    "df_license_consumption_data = df_license_consumption_data.sort_values(by='Consumption (m³)', ascending=False)\n",
    "df_license_consumption_data['Formatted'] = df_license_consumption_data['Consumption (m³)'].apply(format_number)\n",
    "\n",
    "if not df_license_consumption_data.empty:\n",
    "    fig2_2 = px.bar(df_license_consumption_data,\n",
    "                    x='License Type',\n",
    "                    y='Consumption (m³)',\n",
    "                    text='Formatted',\n",
    "                    title='مجموع مصارف منفی در سال‌های 1401 تا 1403 بر اساس نوع پروانه',\n",
    "                    labels={'Consumption (m³)': 'Total Consumption', 'License Type': 'License Type'},\n",
    "                    height=600)\n",
    "    fig2_2.update_traces(textposition='outside')\n",
    "    fig2_2.update_layout(\n",
    "        xaxis_tickangle=-45,\n",
    "        yaxis_tickformat=\".2s\",\n",
    "        font=dict(size=14),\n",
    "        uniformtext_minsize=8,\n",
    "        uniformtext_mode='hide'\n",
    "    )\n",
    "    fig2_2.show()\n",
    "\n",
    "# --- 3. افزودن ستون سال ---\n",
    "df_copy = df.copy()\n",
    "df_copy['Year'] = df_copy['month'].str.split('/').str[0]\n",
    "\n",
    "# --- 3.1 مصارف منفی بر اساس شهرستان و سال ---\n",
    "print(\"Generating Grouped Bar Chart: Consumption by County and Year using Plotly\")\n",
    "df_county_year_consumption_data = df_copy.groupby(['County', 'Year'], as_index=False)['Consumption (m³)'].sum()\n",
    "df_county_year_consumption_data['Formatted'] = df_county_year_consumption_data['Consumption (m³)'].apply(format_number)\n",
    "\n",
    "if not df_county_year_consumption_data.empty:\n",
    "    county_total_consumption_order = df_copy.groupby('County')['Consumption (m³)'].sum().sort_values(ascending=False).index\n",
    "    df_county_year_consumption_data['County'] = pd.Categorical(df_county_year_consumption_data['County'], categories=county_total_consumption_order, ordered=True)\n",
    "    df_county_year_consumption_data = df_county_year_consumption_data.sort_values(['County', 'Year'])\n",
    "\n",
    "    fig3_1 = px.bar(df_county_year_consumption_data,\n",
    "                    x='County',\n",
    "                    y='Consumption (m³)',\n",
    "                    color='Year',\n",
    "                    barmode='group',\n",
    "                    text='Formatted',\n",
    "                    title='مصارف منفی در سال‌های 1401 تا 1403 بر اساس شهرستان‌های مختلف',\n",
    "                    labels={'Consumption (m³)': 'Total Consumption', 'County': 'County'},\n",
    "                    height=800)\n",
    "    fig3_1.update_traces(textposition='outside')\n",
    "    fig3_1.update_layout(\n",
    "        xaxis_tickangle=-60,\n",
    "        yaxis_tickformat=\".2s\",\n",
    "        font=dict(size=14),\n",
    "        uniformtext_minsize=8,\n",
    "        uniformtext_mode='hide'\n",
    "    )\n",
    "    fig3_1.show()\n",
    "\n",
    "# --- 3.2 مصارف منفی بر اساس نوع پروانه و سال ---\n",
    "print(\"Generating Grouped Bar Chart: Consumption by License Type and Year using Plotly\")\n",
    "df_license_year_consumption_data = df_copy.groupby(['License Type', 'Year'], as_index=False)['Consumption (m³)'].sum()\n",
    "df_license_year_consumption_data['Formatted'] = df_license_year_consumption_data['Consumption (m³)'].apply(format_number)\n",
    "\n",
    "if not df_license_year_consumption_data.empty:\n",
    "    license_total_consumption_order = df_copy.groupby('License Type')['Consumption (m³)'].sum().sort_values(ascending=False).index\n",
    "    df_license_year_consumption_data['License Type'] = pd.Categorical(df_license_year_consumption_data['License Type'], categories=license_total_consumption_order, ordered=True)\n",
    "    df_license_year_consumption_data = df_license_year_consumption_data.sort_values(['License Type', 'Year'])\n",
    "\n",
    "    fig3_2 = px.bar(df_license_year_consumption_data,\n",
    "                    x='License Type',\n",
    "                    y='Consumption (m³)',\n",
    "                    color='Year',\n",
    "                    barmode='group',\n",
    "                    text='Formatted',\n",
    "                    title='مصارف منفی در سال‌های 1401 تا 1403 بر اساس نوع پروانه',\n",
    "                    labels={'Consumption (m³)': 'Total Consumption', 'License Type': 'License Type'},\n",
    "                    height=700)\n",
    "    fig3_2.update_traces(textposition='outside')\n",
    "    fig3_2.update_layout(\n",
    "        xaxis_tickangle=-45,\n",
    "        yaxis_tickformat=\".2s\",\n",
    "        font=dict(size=14),\n",
    "        uniformtext_minsize=8,\n",
    "        uniformtext_mode='hide'\n",
    "    )\n",
    "    fig3_2.show()\n",
    "\n",
    "print(\"✅ All professional-quality plots have been generated.\")\n"
   ]
  },
  {
   "cell_type": "markdown",
   "metadata": {},
   "source": [
    "مهمترین نکات تحلیلی برای نمودار های این نوت بوک :\n",
    "بیشترین میزان منفی در مصرف برای گروه کشاورزی می باشد\n",
    "بیشترین میزان منفی در سال مربوط به سال 1401 می باشد که به این معناست یا کنترل قدیمی تر باگ داشته و در کنتور های جدیدتر رفع شده اند و یا قابلیت سو استفاده در کنتور های جدید کمتر است \n",
    "سه شهر با بیشترین مقدار منفی  : \n",
    "1. مشهد \n",
    "2 . تربت حیدریه\n",
    "3 . نیشابور"
   ]
  },
  {
   "cell_type": "markdown",
   "metadata": {},
   "source": [
    "اعداد بالا برعکس خورده "
   ]
  },
  {
   "cell_type": "code",
   "execution_count": 14,
   "metadata": {},
   "outputs": [
    {
     "name": "stdout",
     "output_type": "stream",
     "text": [
      "<class 'pandas.core.series.Series'>\n",
      "Index: 10 entries, 516918 to 804570\n",
      "Series name: Consumption (m³)\n",
      "Non-Null Count  Dtype  \n",
      "--------------  -----  \n",
      "10 non-null     float64\n",
      "dtypes: float64(1)\n",
      "memory usage: 160.0+ bytes\n"
     ]
    }
   ],
   "source": [
    "df.groupby(\"Subscription Code\").sum()['Consumption (m³)'].nsmallest(10).info()"
   ]
  },
  {
   "cell_type": "code",
   "execution_count": 31,
   "metadata": {},
   "outputs": [
    {
     "data": {
      "application/vnd.plotly.v1+json": {
       "config": {
        "plotlyServerURL": "https://plot.ly"
       },
       "data": [
        {
         "alignmentgroup": "True",
         "hovertemplate": "Subscription Code=%{x}<br>Consumption (m³)=%{y}<extra></extra>",
         "legendgroup": "",
         "marker": {
          "color": "#636efa",
          "pattern": {
           "shape": ""
          }
         },
         "name": "",
         "offsetgroup": "",
         "orientation": "v",
         "showlegend": false,
         "textposition": "auto",
         "type": "bar",
         "x": [
          "805637",
          "806476",
          "529300",
          "514349",
          "517768",
          "515812",
          "111111",
          "529066",
          "804570",
          "529052"
         ],
         "xaxis": "x",
         "y": [
          -7906270.7,
          -2696112.832,
          -2673245.744,
          -2293237.935,
          -2228239.99,
          -1750539.3120000002,
          -1551139.8,
          -1493185.457,
          -1471987.06,
          -1463830.2650000001
         ],
         "yaxis": "y"
        }
       ],
       "layout": {
        "barmode": "relative",
        "legend": {
         "tracegroupgap": 0
        },
        "template": {
         "data": {
          "bar": [
           {
            "error_x": {
             "color": "#2a3f5f"
            },
            "error_y": {
             "color": "#2a3f5f"
            },
            "marker": {
             "line": {
              "color": "#E5ECF6",
              "width": 0.5
             },
             "pattern": {
              "fillmode": "overlay",
              "size": 10,
              "solidity": 0.2
             }
            },
            "type": "bar"
           }
          ],
          "barpolar": [
           {
            "marker": {
             "line": {
              "color": "#E5ECF6",
              "width": 0.5
             },
             "pattern": {
              "fillmode": "overlay",
              "size": 10,
              "solidity": 0.2
             }
            },
            "type": "barpolar"
           }
          ],
          "carpet": [
           {
            "aaxis": {
             "endlinecolor": "#2a3f5f",
             "gridcolor": "white",
             "linecolor": "white",
             "minorgridcolor": "white",
             "startlinecolor": "#2a3f5f"
            },
            "baxis": {
             "endlinecolor": "#2a3f5f",
             "gridcolor": "white",
             "linecolor": "white",
             "minorgridcolor": "white",
             "startlinecolor": "#2a3f5f"
            },
            "type": "carpet"
           }
          ],
          "choropleth": [
           {
            "colorbar": {
             "outlinewidth": 0,
             "ticks": ""
            },
            "type": "choropleth"
           }
          ],
          "contour": [
           {
            "colorbar": {
             "outlinewidth": 0,
             "ticks": ""
            },
            "colorscale": [
             [
              0,
              "#0d0887"
             ],
             [
              0.1111111111111111,
              "#46039f"
             ],
             [
              0.2222222222222222,
              "#7201a8"
             ],
             [
              0.3333333333333333,
              "#9c179e"
             ],
             [
              0.4444444444444444,
              "#bd3786"
             ],
             [
              0.5555555555555556,
              "#d8576b"
             ],
             [
              0.6666666666666666,
              "#ed7953"
             ],
             [
              0.7777777777777778,
              "#fb9f3a"
             ],
             [
              0.8888888888888888,
              "#fdca26"
             ],
             [
              1,
              "#f0f921"
             ]
            ],
            "type": "contour"
           }
          ],
          "contourcarpet": [
           {
            "colorbar": {
             "outlinewidth": 0,
             "ticks": ""
            },
            "type": "contourcarpet"
           }
          ],
          "heatmap": [
           {
            "colorbar": {
             "outlinewidth": 0,
             "ticks": ""
            },
            "colorscale": [
             [
              0,
              "#0d0887"
             ],
             [
              0.1111111111111111,
              "#46039f"
             ],
             [
              0.2222222222222222,
              "#7201a8"
             ],
             [
              0.3333333333333333,
              "#9c179e"
             ],
             [
              0.4444444444444444,
              "#bd3786"
             ],
             [
              0.5555555555555556,
              "#d8576b"
             ],
             [
              0.6666666666666666,
              "#ed7953"
             ],
             [
              0.7777777777777778,
              "#fb9f3a"
             ],
             [
              0.8888888888888888,
              "#fdca26"
             ],
             [
              1,
              "#f0f921"
             ]
            ],
            "type": "heatmap"
           }
          ],
          "heatmapgl": [
           {
            "colorbar": {
             "outlinewidth": 0,
             "ticks": ""
            },
            "colorscale": [
             [
              0,
              "#0d0887"
             ],
             [
              0.1111111111111111,
              "#46039f"
             ],
             [
              0.2222222222222222,
              "#7201a8"
             ],
             [
              0.3333333333333333,
              "#9c179e"
             ],
             [
              0.4444444444444444,
              "#bd3786"
             ],
             [
              0.5555555555555556,
              "#d8576b"
             ],
             [
              0.6666666666666666,
              "#ed7953"
             ],
             [
              0.7777777777777778,
              "#fb9f3a"
             ],
             [
              0.8888888888888888,
              "#fdca26"
             ],
             [
              1,
              "#f0f921"
             ]
            ],
            "type": "heatmapgl"
           }
          ],
          "histogram": [
           {
            "marker": {
             "pattern": {
              "fillmode": "overlay",
              "size": 10,
              "solidity": 0.2
             }
            },
            "type": "histogram"
           }
          ],
          "histogram2d": [
           {
            "colorbar": {
             "outlinewidth": 0,
             "ticks": ""
            },
            "colorscale": [
             [
              0,
              "#0d0887"
             ],
             [
              0.1111111111111111,
              "#46039f"
             ],
             [
              0.2222222222222222,
              "#7201a8"
             ],
             [
              0.3333333333333333,
              "#9c179e"
             ],
             [
              0.4444444444444444,
              "#bd3786"
             ],
             [
              0.5555555555555556,
              "#d8576b"
             ],
             [
              0.6666666666666666,
              "#ed7953"
             ],
             [
              0.7777777777777778,
              "#fb9f3a"
             ],
             [
              0.8888888888888888,
              "#fdca26"
             ],
             [
              1,
              "#f0f921"
             ]
            ],
            "type": "histogram2d"
           }
          ],
          "histogram2dcontour": [
           {
            "colorbar": {
             "outlinewidth": 0,
             "ticks": ""
            },
            "colorscale": [
             [
              0,
              "#0d0887"
             ],
             [
              0.1111111111111111,
              "#46039f"
             ],
             [
              0.2222222222222222,
              "#7201a8"
             ],
             [
              0.3333333333333333,
              "#9c179e"
             ],
             [
              0.4444444444444444,
              "#bd3786"
             ],
             [
              0.5555555555555556,
              "#d8576b"
             ],
             [
              0.6666666666666666,
              "#ed7953"
             ],
             [
              0.7777777777777778,
              "#fb9f3a"
             ],
             [
              0.8888888888888888,
              "#fdca26"
             ],
             [
              1,
              "#f0f921"
             ]
            ],
            "type": "histogram2dcontour"
           }
          ],
          "mesh3d": [
           {
            "colorbar": {
             "outlinewidth": 0,
             "ticks": ""
            },
            "type": "mesh3d"
           }
          ],
          "parcoords": [
           {
            "line": {
             "colorbar": {
              "outlinewidth": 0,
              "ticks": ""
             }
            },
            "type": "parcoords"
           }
          ],
          "pie": [
           {
            "automargin": true,
            "type": "pie"
           }
          ],
          "scatter": [
           {
            "fillpattern": {
             "fillmode": "overlay",
             "size": 10,
             "solidity": 0.2
            },
            "type": "scatter"
           }
          ],
          "scatter3d": [
           {
            "line": {
             "colorbar": {
              "outlinewidth": 0,
              "ticks": ""
             }
            },
            "marker": {
             "colorbar": {
              "outlinewidth": 0,
              "ticks": ""
             }
            },
            "type": "scatter3d"
           }
          ],
          "scattercarpet": [
           {
            "marker": {
             "colorbar": {
              "outlinewidth": 0,
              "ticks": ""
             }
            },
            "type": "scattercarpet"
           }
          ],
          "scattergeo": [
           {
            "marker": {
             "colorbar": {
              "outlinewidth": 0,
              "ticks": ""
             }
            },
            "type": "scattergeo"
           }
          ],
          "scattergl": [
           {
            "marker": {
             "colorbar": {
              "outlinewidth": 0,
              "ticks": ""
             }
            },
            "type": "scattergl"
           }
          ],
          "scattermapbox": [
           {
            "marker": {
             "colorbar": {
              "outlinewidth": 0,
              "ticks": ""
             }
            },
            "type": "scattermapbox"
           }
          ],
          "scatterpolar": [
           {
            "marker": {
             "colorbar": {
              "outlinewidth": 0,
              "ticks": ""
             }
            },
            "type": "scatterpolar"
           }
          ],
          "scatterpolargl": [
           {
            "marker": {
             "colorbar": {
              "outlinewidth": 0,
              "ticks": ""
             }
            },
            "type": "scatterpolargl"
           }
          ],
          "scatterternary": [
           {
            "marker": {
             "colorbar": {
              "outlinewidth": 0,
              "ticks": ""
             }
            },
            "type": "scatterternary"
           }
          ],
          "surface": [
           {
            "colorbar": {
             "outlinewidth": 0,
             "ticks": ""
            },
            "colorscale": [
             [
              0,
              "#0d0887"
             ],
             [
              0.1111111111111111,
              "#46039f"
             ],
             [
              0.2222222222222222,
              "#7201a8"
             ],
             [
              0.3333333333333333,
              "#9c179e"
             ],
             [
              0.4444444444444444,
              "#bd3786"
             ],
             [
              0.5555555555555556,
              "#d8576b"
             ],
             [
              0.6666666666666666,
              "#ed7953"
             ],
             [
              0.7777777777777778,
              "#fb9f3a"
             ],
             [
              0.8888888888888888,
              "#fdca26"
             ],
             [
              1,
              "#f0f921"
             ]
            ],
            "type": "surface"
           }
          ],
          "table": [
           {
            "cells": {
             "fill": {
              "color": "#EBF0F8"
             },
             "line": {
              "color": "white"
             }
            },
            "header": {
             "fill": {
              "color": "#C8D4E3"
             },
             "line": {
              "color": "white"
             }
            },
            "type": "table"
           }
          ]
         },
         "layout": {
          "annotationdefaults": {
           "arrowcolor": "#2a3f5f",
           "arrowhead": 0,
           "arrowwidth": 1
          },
          "autotypenumbers": "strict",
          "coloraxis": {
           "colorbar": {
            "outlinewidth": 0,
            "ticks": ""
           }
          },
          "colorscale": {
           "diverging": [
            [
             0,
             "#8e0152"
            ],
            [
             0.1,
             "#c51b7d"
            ],
            [
             0.2,
             "#de77ae"
            ],
            [
             0.3,
             "#f1b6da"
            ],
            [
             0.4,
             "#fde0ef"
            ],
            [
             0.5,
             "#f7f7f7"
            ],
            [
             0.6,
             "#e6f5d0"
            ],
            [
             0.7,
             "#b8e186"
            ],
            [
             0.8,
             "#7fbc41"
            ],
            [
             0.9,
             "#4d9221"
            ],
            [
             1,
             "#276419"
            ]
           ],
           "sequential": [
            [
             0,
             "#0d0887"
            ],
            [
             0.1111111111111111,
             "#46039f"
            ],
            [
             0.2222222222222222,
             "#7201a8"
            ],
            [
             0.3333333333333333,
             "#9c179e"
            ],
            [
             0.4444444444444444,
             "#bd3786"
            ],
            [
             0.5555555555555556,
             "#d8576b"
            ],
            [
             0.6666666666666666,
             "#ed7953"
            ],
            [
             0.7777777777777778,
             "#fb9f3a"
            ],
            [
             0.8888888888888888,
             "#fdca26"
            ],
            [
             1,
             "#f0f921"
            ]
           ],
           "sequentialminus": [
            [
             0,
             "#0d0887"
            ],
            [
             0.1111111111111111,
             "#46039f"
            ],
            [
             0.2222222222222222,
             "#7201a8"
            ],
            [
             0.3333333333333333,
             "#9c179e"
            ],
            [
             0.4444444444444444,
             "#bd3786"
            ],
            [
             0.5555555555555556,
             "#d8576b"
            ],
            [
             0.6666666666666666,
             "#ed7953"
            ],
            [
             0.7777777777777778,
             "#fb9f3a"
            ],
            [
             0.8888888888888888,
             "#fdca26"
            ],
            [
             1,
             "#f0f921"
            ]
           ]
          },
          "colorway": [
           "#636efa",
           "#EF553B",
           "#00cc96",
           "#ab63fa",
           "#FFA15A",
           "#19d3f3",
           "#FF6692",
           "#B6E880",
           "#FF97FF",
           "#FECB52"
          ],
          "font": {
           "color": "#2a3f5f"
          },
          "geo": {
           "bgcolor": "white",
           "lakecolor": "white",
           "landcolor": "#E5ECF6",
           "showlakes": true,
           "showland": true,
           "subunitcolor": "white"
          },
          "hoverlabel": {
           "align": "left"
          },
          "hovermode": "closest",
          "mapbox": {
           "style": "light"
          },
          "paper_bgcolor": "white",
          "plot_bgcolor": "#E5ECF6",
          "polar": {
           "angularaxis": {
            "gridcolor": "white",
            "linecolor": "white",
            "ticks": ""
           },
           "bgcolor": "#E5ECF6",
           "radialaxis": {
            "gridcolor": "white",
            "linecolor": "white",
            "ticks": ""
           }
          },
          "scene": {
           "xaxis": {
            "backgroundcolor": "#E5ECF6",
            "gridcolor": "white",
            "gridwidth": 2,
            "linecolor": "white",
            "showbackground": true,
            "ticks": "",
            "zerolinecolor": "white"
           },
           "yaxis": {
            "backgroundcolor": "#E5ECF6",
            "gridcolor": "white",
            "gridwidth": 2,
            "linecolor": "white",
            "showbackground": true,
            "ticks": "",
            "zerolinecolor": "white"
           },
           "zaxis": {
            "backgroundcolor": "#E5ECF6",
            "gridcolor": "white",
            "gridwidth": 2,
            "linecolor": "white",
            "showbackground": true,
            "ticks": "",
            "zerolinecolor": "white"
           }
          },
          "shapedefaults": {
           "line": {
            "color": "#2a3f5f"
           }
          },
          "ternary": {
           "aaxis": {
            "gridcolor": "white",
            "linecolor": "white",
            "ticks": ""
           },
           "baxis": {
            "gridcolor": "white",
            "linecolor": "white",
            "ticks": ""
           },
           "bgcolor": "#E5ECF6",
           "caxis": {
            "gridcolor": "white",
            "linecolor": "white",
            "ticks": ""
           }
          },
          "title": {
           "x": 0.05
          },
          "xaxis": {
           "automargin": true,
           "gridcolor": "white",
           "linecolor": "white",
           "ticks": "",
           "title": {
            "standoff": 15
           },
           "zerolinecolor": "white",
           "zerolinewidth": 2
          },
          "yaxis": {
           "automargin": true,
           "gridcolor": "white",
           "linecolor": "white",
           "ticks": "",
           "title": {
            "standoff": 15
           },
           "zerolinecolor": "white",
           "zerolinewidth": 2
          }
         }
        },
        "title": {
         "text": "ده مشترک با بیشترین میزان مصرف منفی"
        },
        "xaxis": {
         "anchor": "y",
         "domain": [
          0,
          1
         ],
         "title": {
          "text": "Subscription Code"
         }
        },
        "yaxis": {
         "anchor": "x",
         "domain": [
          0,
          1
         ],
         "title": {
          "text": "Consumption (m³)"
         }
        }
       }
      }
     },
     "metadata": {},
     "output_type": "display_data"
    }
   ],
   "source": [
    "fig2_1 = px.bar(df.groupby(\"Subscription Code\").sum()['Consumption (m³)'].nsmallest(10),\n",
    "y='Consumption (m³)',\n",
    "title='ده مشترک با بیشترین میزان مصرف منفی',\n",
    ") \n",
    "\n",
    "fig2_1.show()"
   ]
  },
  {
   "cell_type": "code",
   "execution_count": 43,
   "metadata": {},
   "outputs": [
    {
     "data": {
      "application/vnd.plotly.v1+json": {
       "config": {
        "plotlyServerURL": "https://plot.ly"
       },
       "data": [
        {
         "alignmentgroup": "True",
         "hovertemplate": "Subscription Code=%{x}<br>Consumption (m³)=%{text}<extra></extra>",
         "legendgroup": "",
         "marker": {
          "color": "#636efa",
          "pattern": {
           "shape": ""
          }
         },
         "name": "",
         "offsetgroup": "",
         "orientation": "v",
         "showlegend": false,
         "text": [
          -7906270.7,
          -2696112.832,
          -2673245.744,
          -2293237.935,
          -2228239.99,
          -1750539.3120000002,
          -1551139.8,
          -1493185.457,
          -1471987.06,
          -1463830.2650000001
         ],
         "textposition": "auto",
         "type": "bar",
         "x": [
          "805637",
          "806476",
          "529300",
          "514349",
          "517768",
          "515812",
          "111111",
          "529066",
          "804570",
          "529052"
         ],
         "xaxis": "x",
         "y": [
          -7906270.7,
          -2696112.832,
          -2673245.744,
          -2293237.935,
          -2228239.99,
          -1750539.3120000002,
          -1551139.8,
          -1493185.457,
          -1471987.06,
          -1463830.2650000001
         ],
         "yaxis": "y"
        }
       ],
       "layout": {
        "barmode": "relative",
        "legend": {
         "tracegroupgap": 0
        },
        "template": {
         "data": {
          "bar": [
           {
            "error_x": {
             "color": "#2a3f5f"
            },
            "error_y": {
             "color": "#2a3f5f"
            },
            "marker": {
             "line": {
              "color": "#E5ECF6",
              "width": 0.5
             },
             "pattern": {
              "fillmode": "overlay",
              "size": 10,
              "solidity": 0.2
             }
            },
            "type": "bar"
           }
          ],
          "barpolar": [
           {
            "marker": {
             "line": {
              "color": "#E5ECF6",
              "width": 0.5
             },
             "pattern": {
              "fillmode": "overlay",
              "size": 10,
              "solidity": 0.2
             }
            },
            "type": "barpolar"
           }
          ],
          "carpet": [
           {
            "aaxis": {
             "endlinecolor": "#2a3f5f",
             "gridcolor": "white",
             "linecolor": "white",
             "minorgridcolor": "white",
             "startlinecolor": "#2a3f5f"
            },
            "baxis": {
             "endlinecolor": "#2a3f5f",
             "gridcolor": "white",
             "linecolor": "white",
             "minorgridcolor": "white",
             "startlinecolor": "#2a3f5f"
            },
            "type": "carpet"
           }
          ],
          "choropleth": [
           {
            "colorbar": {
             "outlinewidth": 0,
             "ticks": ""
            },
            "type": "choropleth"
           }
          ],
          "contour": [
           {
            "colorbar": {
             "outlinewidth": 0,
             "ticks": ""
            },
            "colorscale": [
             [
              0,
              "#0d0887"
             ],
             [
              0.1111111111111111,
              "#46039f"
             ],
             [
              0.2222222222222222,
              "#7201a8"
             ],
             [
              0.3333333333333333,
              "#9c179e"
             ],
             [
              0.4444444444444444,
              "#bd3786"
             ],
             [
              0.5555555555555556,
              "#d8576b"
             ],
             [
              0.6666666666666666,
              "#ed7953"
             ],
             [
              0.7777777777777778,
              "#fb9f3a"
             ],
             [
              0.8888888888888888,
              "#fdca26"
             ],
             [
              1,
              "#f0f921"
             ]
            ],
            "type": "contour"
           }
          ],
          "contourcarpet": [
           {
            "colorbar": {
             "outlinewidth": 0,
             "ticks": ""
            },
            "type": "contourcarpet"
           }
          ],
          "heatmap": [
           {
            "colorbar": {
             "outlinewidth": 0,
             "ticks": ""
            },
            "colorscale": [
             [
              0,
              "#0d0887"
             ],
             [
              0.1111111111111111,
              "#46039f"
             ],
             [
              0.2222222222222222,
              "#7201a8"
             ],
             [
              0.3333333333333333,
              "#9c179e"
             ],
             [
              0.4444444444444444,
              "#bd3786"
             ],
             [
              0.5555555555555556,
              "#d8576b"
             ],
             [
              0.6666666666666666,
              "#ed7953"
             ],
             [
              0.7777777777777778,
              "#fb9f3a"
             ],
             [
              0.8888888888888888,
              "#fdca26"
             ],
             [
              1,
              "#f0f921"
             ]
            ],
            "type": "heatmap"
           }
          ],
          "heatmapgl": [
           {
            "colorbar": {
             "outlinewidth": 0,
             "ticks": ""
            },
            "colorscale": [
             [
              0,
              "#0d0887"
             ],
             [
              0.1111111111111111,
              "#46039f"
             ],
             [
              0.2222222222222222,
              "#7201a8"
             ],
             [
              0.3333333333333333,
              "#9c179e"
             ],
             [
              0.4444444444444444,
              "#bd3786"
             ],
             [
              0.5555555555555556,
              "#d8576b"
             ],
             [
              0.6666666666666666,
              "#ed7953"
             ],
             [
              0.7777777777777778,
              "#fb9f3a"
             ],
             [
              0.8888888888888888,
              "#fdca26"
             ],
             [
              1,
              "#f0f921"
             ]
            ],
            "type": "heatmapgl"
           }
          ],
          "histogram": [
           {
            "marker": {
             "pattern": {
              "fillmode": "overlay",
              "size": 10,
              "solidity": 0.2
             }
            },
            "type": "histogram"
           }
          ],
          "histogram2d": [
           {
            "colorbar": {
             "outlinewidth": 0,
             "ticks": ""
            },
            "colorscale": [
             [
              0,
              "#0d0887"
             ],
             [
              0.1111111111111111,
              "#46039f"
             ],
             [
              0.2222222222222222,
              "#7201a8"
             ],
             [
              0.3333333333333333,
              "#9c179e"
             ],
             [
              0.4444444444444444,
              "#bd3786"
             ],
             [
              0.5555555555555556,
              "#d8576b"
             ],
             [
              0.6666666666666666,
              "#ed7953"
             ],
             [
              0.7777777777777778,
              "#fb9f3a"
             ],
             [
              0.8888888888888888,
              "#fdca26"
             ],
             [
              1,
              "#f0f921"
             ]
            ],
            "type": "histogram2d"
           }
          ],
          "histogram2dcontour": [
           {
            "colorbar": {
             "outlinewidth": 0,
             "ticks": ""
            },
            "colorscale": [
             [
              0,
              "#0d0887"
             ],
             [
              0.1111111111111111,
              "#46039f"
             ],
             [
              0.2222222222222222,
              "#7201a8"
             ],
             [
              0.3333333333333333,
              "#9c179e"
             ],
             [
              0.4444444444444444,
              "#bd3786"
             ],
             [
              0.5555555555555556,
              "#d8576b"
             ],
             [
              0.6666666666666666,
              "#ed7953"
             ],
             [
              0.7777777777777778,
              "#fb9f3a"
             ],
             [
              0.8888888888888888,
              "#fdca26"
             ],
             [
              1,
              "#f0f921"
             ]
            ],
            "type": "histogram2dcontour"
           }
          ],
          "mesh3d": [
           {
            "colorbar": {
             "outlinewidth": 0,
             "ticks": ""
            },
            "type": "mesh3d"
           }
          ],
          "parcoords": [
           {
            "line": {
             "colorbar": {
              "outlinewidth": 0,
              "ticks": ""
             }
            },
            "type": "parcoords"
           }
          ],
          "pie": [
           {
            "automargin": true,
            "type": "pie"
           }
          ],
          "scatter": [
           {
            "fillpattern": {
             "fillmode": "overlay",
             "size": 10,
             "solidity": 0.2
            },
            "type": "scatter"
           }
          ],
          "scatter3d": [
           {
            "line": {
             "colorbar": {
              "outlinewidth": 0,
              "ticks": ""
             }
            },
            "marker": {
             "colorbar": {
              "outlinewidth": 0,
              "ticks": ""
             }
            },
            "type": "scatter3d"
           }
          ],
          "scattercarpet": [
           {
            "marker": {
             "colorbar": {
              "outlinewidth": 0,
              "ticks": ""
             }
            },
            "type": "scattercarpet"
           }
          ],
          "scattergeo": [
           {
            "marker": {
             "colorbar": {
              "outlinewidth": 0,
              "ticks": ""
             }
            },
            "type": "scattergeo"
           }
          ],
          "scattergl": [
           {
            "marker": {
             "colorbar": {
              "outlinewidth": 0,
              "ticks": ""
             }
            },
            "type": "scattergl"
           }
          ],
          "scattermapbox": [
           {
            "marker": {
             "colorbar": {
              "outlinewidth": 0,
              "ticks": ""
             }
            },
            "type": "scattermapbox"
           }
          ],
          "scatterpolar": [
           {
            "marker": {
             "colorbar": {
              "outlinewidth": 0,
              "ticks": ""
             }
            },
            "type": "scatterpolar"
           }
          ],
          "scatterpolargl": [
           {
            "marker": {
             "colorbar": {
              "outlinewidth": 0,
              "ticks": ""
             }
            },
            "type": "scatterpolargl"
           }
          ],
          "scatterternary": [
           {
            "marker": {
             "colorbar": {
              "outlinewidth": 0,
              "ticks": ""
             }
            },
            "type": "scatterternary"
           }
          ],
          "surface": [
           {
            "colorbar": {
             "outlinewidth": 0,
             "ticks": ""
            },
            "colorscale": [
             [
              0,
              "#0d0887"
             ],
             [
              0.1111111111111111,
              "#46039f"
             ],
             [
              0.2222222222222222,
              "#7201a8"
             ],
             [
              0.3333333333333333,
              "#9c179e"
             ],
             [
              0.4444444444444444,
              "#bd3786"
             ],
             [
              0.5555555555555556,
              "#d8576b"
             ],
             [
              0.6666666666666666,
              "#ed7953"
             ],
             [
              0.7777777777777778,
              "#fb9f3a"
             ],
             [
              0.8888888888888888,
              "#fdca26"
             ],
             [
              1,
              "#f0f921"
             ]
            ],
            "type": "surface"
           }
          ],
          "table": [
           {
            "cells": {
             "fill": {
              "color": "#EBF0F8"
             },
             "line": {
              "color": "white"
             }
            },
            "header": {
             "fill": {
              "color": "#C8D4E3"
             },
             "line": {
              "color": "white"
             }
            },
            "type": "table"
           }
          ]
         },
         "layout": {
          "annotationdefaults": {
           "arrowcolor": "#2a3f5f",
           "arrowhead": 0,
           "arrowwidth": 1
          },
          "autotypenumbers": "strict",
          "coloraxis": {
           "colorbar": {
            "outlinewidth": 0,
            "ticks": ""
           }
          },
          "colorscale": {
           "diverging": [
            [
             0,
             "#8e0152"
            ],
            [
             0.1,
             "#c51b7d"
            ],
            [
             0.2,
             "#de77ae"
            ],
            [
             0.3,
             "#f1b6da"
            ],
            [
             0.4,
             "#fde0ef"
            ],
            [
             0.5,
             "#f7f7f7"
            ],
            [
             0.6,
             "#e6f5d0"
            ],
            [
             0.7,
             "#b8e186"
            ],
            [
             0.8,
             "#7fbc41"
            ],
            [
             0.9,
             "#4d9221"
            ],
            [
             1,
             "#276419"
            ]
           ],
           "sequential": [
            [
             0,
             "#0d0887"
            ],
            [
             0.1111111111111111,
             "#46039f"
            ],
            [
             0.2222222222222222,
             "#7201a8"
            ],
            [
             0.3333333333333333,
             "#9c179e"
            ],
            [
             0.4444444444444444,
             "#bd3786"
            ],
            [
             0.5555555555555556,
             "#d8576b"
            ],
            [
             0.6666666666666666,
             "#ed7953"
            ],
            [
             0.7777777777777778,
             "#fb9f3a"
            ],
            [
             0.8888888888888888,
             "#fdca26"
            ],
            [
             1,
             "#f0f921"
            ]
           ],
           "sequentialminus": [
            [
             0,
             "#0d0887"
            ],
            [
             0.1111111111111111,
             "#46039f"
            ],
            [
             0.2222222222222222,
             "#7201a8"
            ],
            [
             0.3333333333333333,
             "#9c179e"
            ],
            [
             0.4444444444444444,
             "#bd3786"
            ],
            [
             0.5555555555555556,
             "#d8576b"
            ],
            [
             0.6666666666666666,
             "#ed7953"
            ],
            [
             0.7777777777777778,
             "#fb9f3a"
            ],
            [
             0.8888888888888888,
             "#fdca26"
            ],
            [
             1,
             "#f0f921"
            ]
           ]
          },
          "colorway": [
           "#636efa",
           "#EF553B",
           "#00cc96",
           "#ab63fa",
           "#FFA15A",
           "#19d3f3",
           "#FF6692",
           "#B6E880",
           "#FF97FF",
           "#FECB52"
          ],
          "font": {
           "color": "#2a3f5f"
          },
          "geo": {
           "bgcolor": "white",
           "lakecolor": "white",
           "landcolor": "#E5ECF6",
           "showlakes": true,
           "showland": true,
           "subunitcolor": "white"
          },
          "hoverlabel": {
           "align": "left"
          },
          "hovermode": "closest",
          "mapbox": {
           "style": "light"
          },
          "paper_bgcolor": "white",
          "plot_bgcolor": "#E5ECF6",
          "polar": {
           "angularaxis": {
            "gridcolor": "white",
            "linecolor": "white",
            "ticks": ""
           },
           "bgcolor": "#E5ECF6",
           "radialaxis": {
            "gridcolor": "white",
            "linecolor": "white",
            "ticks": ""
           }
          },
          "scene": {
           "xaxis": {
            "backgroundcolor": "#E5ECF6",
            "gridcolor": "white",
            "gridwidth": 2,
            "linecolor": "white",
            "showbackground": true,
            "ticks": "",
            "zerolinecolor": "white"
           },
           "yaxis": {
            "backgroundcolor": "#E5ECF6",
            "gridcolor": "white",
            "gridwidth": 2,
            "linecolor": "white",
            "showbackground": true,
            "ticks": "",
            "zerolinecolor": "white"
           },
           "zaxis": {
            "backgroundcolor": "#E5ECF6",
            "gridcolor": "white",
            "gridwidth": 2,
            "linecolor": "white",
            "showbackground": true,
            "ticks": "",
            "zerolinecolor": "white"
           }
          },
          "shapedefaults": {
           "line": {
            "color": "#2a3f5f"
           }
          },
          "ternary": {
           "aaxis": {
            "gridcolor": "white",
            "linecolor": "white",
            "ticks": ""
           },
           "baxis": {
            "gridcolor": "white",
            "linecolor": "white",
            "ticks": ""
           },
           "bgcolor": "#E5ECF6",
           "caxis": {
            "gridcolor": "white",
            "linecolor": "white",
            "ticks": ""
           }
          },
          "title": {
           "x": 0.05
          },
          "xaxis": {
           "automargin": true,
           "gridcolor": "white",
           "linecolor": "white",
           "ticks": "",
           "title": {
            "standoff": 15
           },
           "zerolinecolor": "white",
           "zerolinewidth": 2
          },
          "yaxis": {
           "automargin": true,
           "gridcolor": "white",
           "linecolor": "white",
           "ticks": "",
           "title": {
            "standoff": 15
           },
           "zerolinecolor": "white",
           "zerolinewidth": 2
          }
         }
        },
        "title": {
         "text": "ده مشترک با بیشترین میزان مصرف منفی"
        },
        "xaxis": {
         "anchor": "y",
         "domain": [
          0,
          1
         ],
         "title": {
          "text": "Subscription Code"
         }
        },
        "yaxis": {
         "anchor": "x",
         "domain": [
          0,
          1
         ],
         "title": {
          "text": "Consumption (m³)"
         }
        }
       }
      }
     },
     "metadata": {},
     "output_type": "display_data"
    }
   ],
   "source": [
    "fig2_1 = px.bar(\n",
    "    df.groupby(\"Subscription Code\").sum()['Consumption (m³)'].nsmallest(10),\n",
    "    y='Consumption (m³)',\n",
    "    text='Consumption (m³)',  # مقدار روی میله\n",
    "    title='ده مشترک با بیشترین میزان مصرف منفی',\n",
    "    # hover_data={'Change (%)': True} \n",
    ")\n",
    "fig2_1.show()"
   ]
  },
  {
   "cell_type": "markdown",
   "metadata": {},
   "source": [
    "چهار مشترک با بیشترین میزان مصرف منفی"
   ]
  },
  {
   "cell_type": "markdown",
   "metadata": {},
   "source": [
    "روش‌های پیشنهادی برای تحلیل بیشتر دیتاست:\n",
    "1. تحلیل سری‌زمانی مصرف و منفی‌ها با decomposition و پیش‌بینی با مدل‌های ARIMA/SARIMA\n",
    "2. تشخیص نقاط پرت (Outlier Detection) در مصرف با استفاده از Z-score یا IQR و نمایش با boxplot\n",
    "3. تحلیل همبستگی بین ویژگی‌ها با heatmap (مثلاً corr() + seaborn.heatmap)\n",
    "4. خوشه‌بندی مشترکین بر اساس ویژگی‌های کلیدی (Flow Rate, Consumption, Negative Flows) با KMeans یا DBSCAN\n",
    "5. کاهش ابعاد با PCA برای یافتن الگوهای نهفته\n",
    "6. تحلیل روند فصلی و ماهیانه (Seasonality) با decomposition و نمایش در پلوت‌های جداگانه\n",
    "7. نمایش جغرافیایی نقاط مصرف منفی با Folium یا geopandas برای تحلیل منطقه‌ای\n",
    "8. استفاده از الگوریتم‌های تشخیص ناهنجاری مانند Isolation Forest یا One-Class SVM\n",
    "9. ساخت مدل‌های نظارت‌شده (مثل Random Forest یا XGBoost) برای پیش‌بینی احتمال رخداد مصرف منفی"
   ]
  },
  {
   "cell_type": "code",
   "execution_count": 37,
   "metadata": {},
   "outputs": [],
   "source": [
    "import numpy as np\n",
    "import pandas as pd\n",
    "import seaborn as sns\n",
    "import matplotlib.pyplot as plt\n",
    "from IPython.display import display\n",
    "try:\n",
    "    import missingno as msno\n",
    "except ImportError:\n",
    "    msno = None\n",
    "\n",
    "class DataCleaner:\n",
    "    \"\"\"\n",
    "    A powerful data cleaning module to detect missing values, outliers, and anomalies in a DataFrame.\n",
    "    \"\"\"\n",
    "    def __init__(self, df):\n",
    "        self.df = df.copy()\n",
    "\n",
    "    def report_missing(self):\n",
    "        missing_count = self.df.isnull().sum()\n",
    "        missing_percent = 100 * missing_count / len(self.df)\n",
    "        missing_df = pd.DataFrame({\n",
    "            'missing_count': missing_count,\n",
    "            'missing_percent': missing_percent\n",
    "        })\n",
    "        print(\"=== Missing Data Report ===\")\n",
    "        display(missing_df)\n",
    "\n",
    "    def visualize_missing(self):\n",
    "        print(\"=== Visualizing Missing Data ===\")\n",
    "        plt.figure(figsize=(12,6))\n",
    "        sns.heatmap(self.df.isnull(), cbar=False, cmap='viridis')\n",
    "        plt.title('Missing Data Heatmap')\n",
    "        plt.show()\n",
    "        if msno:\n",
    "            msno.matrix(self.df, figsize=(12,4), sparkline=True)\n",
    "            plt.show()\n",
    "\n",
    "    def report_outliers(self, numeric_cols=None, method='iqr', z_thresh=3.0):\n",
    "        if numeric_cols is None:\n",
    "            numeric_cols = self.df.select_dtypes(include=[np.number]).columns.tolist()\n",
    "\n",
    "        outlier_summary = []\n",
    "        for col in numeric_cols:\n",
    "            series = self.df[col].dropna().astype(float)\n",
    "            if series.empty:\n",
    "                continue\n",
    "            if method == 'zscore':\n",
    "                mean, std = series.mean(), series.std()\n",
    "                z_scores = np.abs((series - mean) / std)\n",
    "                num_outliers = (z_scores > z_thresh).sum()\n",
    "            else:  # IQR method\n",
    "                q1, q3 = series.quantile([0.25, 0.75])\n",
    "                iqr = q3 - q1\n",
    "                lower, upper = q1 - 1.5 * iqr, q3 + 1.5 * iqr\n",
    "                num_outliers = ((series < lower) | (series > upper)).sum()\n",
    "            outlier_summary.append({\n",
    "                'column': col,\n",
    "                'outliers': num_outliers,\n",
    "                'total_values': len(series)\n",
    "            })\n",
    "\n",
    "        outlier_df = pd.DataFrame(outlier_summary)\n",
    "        print(\"=== Outliers Report ===\")\n",
    "        display(outlier_df)\n",
    "\n",
    "    def report_anomalies(self, numeric_cols=None):\n",
    "        print(\"=== Anomaly Detection ===\")\n",
    "        self.report_missing()\n",
    "        self.report_outliers(numeric_cols=numeric_cols)\n",
    "\n",
    "    def impute_missing(self, strategy='median'):\n",
    "        df = self.df.copy()\n",
    "        for col in df.columns:\n",
    "            if df[col].isnull().any():\n",
    "                if strategy == 'mean':\n",
    "                    fill_val = df[col].mean()\n",
    "                elif strategy == 'mode':\n",
    "                    fill_val = df[col].mode().iloc[0]\n",
    "                else:\n",
    "                    fill_val = df[col].median()\n",
    "                df[col].fillna(fill_val, inplace=True)\n",
    "        return df\n",
    "\n",
    "    def cap_outliers(self, numeric_cols=None):\n",
    "        df = self.df.copy()\n",
    "        if numeric_cols is None:\n",
    "            numeric_cols = df.select_dtypes(include=[np.number]).columns.tolist()\n",
    "        for col in numeric_cols:\n",
    "            series = df[col]\n",
    "            q1, q3 = series.quantile([0.25, 0.75])\n",
    "            iqr = q3 - q1\n",
    "            lower, upper = q1 - 1.5 * iqr, q3 + 1.5 * iqr\n",
    "            df[col] = series.clip(lower, upper)\n",
    "        return df\n",
    "\n",
    "    def clean(self,\n",
    "              impute_strategy='median',\n",
    "              outlier_method='iqr',\n",
    "              z_thresh=3.0,\n",
    "              numeric_cols=None):\n",
    "        \"\"\"\n",
    "        Perform full cleaning:\n",
    "        1. Report anomalies (missing + outliers)\n",
    "        2. Visualize missing data\n",
    "        3. Impute missing values\n",
    "        4. Cap outliers\n",
    "        Returns a cleaned DataFrame.\n",
    "        \"\"\"\n",
    "        # Step 1: Reports\n",
    "        self.report_anomalies(numeric_cols=numeric_cols)\n",
    "        self.visualize_missing()\n",
    "\n",
    "        # Step 2: Imputation\n",
    "        df_clean = self.impute_missing(strategy=impute_strategy)\n",
    "\n",
    "        # Step 3: Outlier capping\n",
    "        cleaner = DataCleaner(df_clean)\n",
    "        if outlier_method in ['zscore', 'iqr']:\n",
    "            cleaner.df = df_clean\n",
    "            df_clean = cleaner.cap_outliers(numeric_cols=numeric_cols)\n",
    "\n",
    "        print(\"=== Data cleaning complete ===\")\n",
    "        return df_clean\n",
    "\n",
    "# Example usage:\n",
    "# cleaner = DataCleaner(df)\n",
    "# df_clean = cleaner.clean(impute_strategy='median', outlier_method='iqr')\n"
   ]
  },
  {
   "cell_type": "code",
   "execution_count": 38,
   "metadata": {},
   "outputs": [],
   "source": [
    "cleaner = DataCleaner(df=df.copy())"
   ]
  },
  {
   "cell_type": "markdown",
   "metadata": {},
   "source": []
  },
  {
   "cell_type": "code",
   "execution_count": 39,
   "metadata": {},
   "outputs": [
    {
     "name": "stdout",
     "output_type": "stream",
     "text": [
      "=== Visualizing Missing Data ===\n"
     ]
    },
    {
     "data": {
      "image/png": "[encoded data removed]",
      "text/plain": [
       "<Figure size 1200x600 with 1 Axes>"
      ]
     },
     "metadata": {},
     "output_type": "display_data"
    }
   ],
   "source": [
    "cleaner.visualize_missing()"
   ]
  },
  {
   "cell_type": "code",
   "execution_count": 40,
   "metadata": {},
   "outputs": [
    {
     "name": "stdout",
     "output_type": "stream",
     "text": [
      "=== Anomaly Detection ===\n",
      "=== Missing Data Report ===\n"
     ]
    },
    {
     "data": {
      "application/vnd.microsoft.datawrangler.viewer.v0+json": {
       "columns": [
        {
         "name": "index",
         "rawType": "object",
         "type": "string"
        },
        {
         "name": "missing_count",
         "rawType": "int64",
         "type": "integer"
        },
        {
         "name": "missing_percent",
         "rawType": "float64",
         "type": "float"
        }
       ],
       "conversionMethod": "pd.DataFrame",
       "ref": "56d390ba-945b-40f8-b22b-7bae52b336a6",
       "rows": [
        [
         "Subscription Code",
         "0",
         "0.0"
        ],
        [
         "Flow Rate (l/s)",
         "3204",
         "83.80852733455401"
        ],
        [
         "Number of Negative Flows",
         "0",
         "0.0"
        ],
        [
         "Percentage of Negative Flows",
         "0",
         "0.0"
        ],
        [
         "Operating Hours (h)",
         "381",
         "9.965995291655767"
        ],
        [
         "Consumption (m³)",
         "0",
         "0.0"
        ],
        [
         "Number of Available Data Points",
         "0",
         "0.0"
        ],
        [
         "تعداد مورد انتظار",
         "0",
         "0.0"
        ],
        [
         "درصد اطلاعات موجود",
         "0",
         "0.0"
        ],
        [
         "month",
         "0",
         "0.0"
        ],
        [
         "County",
         "0",
         "0.0"
        ],
        [
         "License Type",
         "807",
         "21.109076641381115"
        ],
        [
         "Installation Date",
         "0",
         "0.0"
        ]
       ],
       "shape": {
        "columns": 2,
        "rows": 13
       }
      },
      "text/html": [
       "<div>\n",
       "<style scoped>\n",
       "    .dataframe tbody tr th:only-of-type {\n",
       "        vertical-align: middle;\n",
       "    }\n",
       "\n",
       "    .dataframe tbody tr th {\n",
       "        vertical-align: top;\n",
       "    }\n",
       "\n",
       "    .dataframe thead th {\n",
       "        text-align: right;\n",
       "    }\n",
       "</style>\n",
       "<table border=\"1\" class=\"dataframe\">\n",
       "  <thead>\n",
       "    <tr style=\"text-align: right;\">\n",
       "      <th></th>\n",
       "      <th>missing_count</th>\n",
       "      <th>missing_percent</th>\n",
       "    </tr>\n",
       "  </thead>\n",
       "  <tbody>\n",
       "    <tr>\n",
       "      <th>Subscription Code</th>\n",
       "      <td>0</td>\n",
       "      <td>0.000000</td>\n",
       "    </tr>\n",
       "    <tr>\n",
       "      <th>Flow Rate (l/s)</th>\n",
       "      <td>3204</td>\n",
       "      <td>83.808527</td>\n",
       "    </tr>\n",
       "    <tr>\n",
       "      <th>Number of Negative Flows</th>\n",
       "      <td>0</td>\n",
       "      <td>0.000000</td>\n",
       "    </tr>\n",
       "    <tr>\n",
       "      <th>Percentage of Negative Flows</th>\n",
       "      <td>0</td>\n",
       "      <td>0.000000</td>\n",
       "    </tr>\n",
       "    <tr>\n",
       "      <th>Operating Hours (h)</th>\n",
       "      <td>381</td>\n",
       "      <td>9.965995</td>\n",
       "    </tr>\n",
       "    <tr>\n",
       "      <th>Consumption (m³)</th>\n",
       "      <td>0</td>\n",
       "      <td>0.000000</td>\n",
       "    </tr>\n",
       "    <tr>\n",
       "      <th>Number of Available Data Points</th>\n",
       "      <td>0</td>\n",
       "      <td>0.000000</td>\n",
       "    </tr>\n",
       "    <tr>\n",
       "      <th>تعداد مورد انتظار</th>\n",
       "      <td>0</td>\n",
       "      <td>0.000000</td>\n",
       "    </tr>\n",
       "    <tr>\n",
       "      <th>درصد اطلاعات موجود</th>\n",
       "      <td>0</td>\n",
       "      <td>0.000000</td>\n",
       "    </tr>\n",
       "    <tr>\n",
       "      <th>month</th>\n",
       "      <td>0</td>\n",
       "      <td>0.000000</td>\n",
       "    </tr>\n",
       "    <tr>\n",
       "      <th>County</th>\n",
       "      <td>0</td>\n",
       "      <td>0.000000</td>\n",
       "    </tr>\n",
       "    <tr>\n",
       "      <th>License Type</th>\n",
       "      <td>807</td>\n",
       "      <td>21.109077</td>\n",
       "    </tr>\n",
       "    <tr>\n",
       "      <th>Installation Date</th>\n",
       "      <td>0</td>\n",
       "      <td>0.000000</td>\n",
       "    </tr>\n",
       "  </tbody>\n",
       "</table>\n",
       "</div>"
      ],
      "text/plain": [
       "                                 missing_count  missing_percent\n",
       "Subscription Code                            0         0.000000\n",
       "Flow Rate (l/s)                           3204        83.808527\n",
       "Number of Negative Flows                     0         0.000000\n",
       "Percentage of Negative Flows                 0         0.000000\n",
       "Operating Hours (h)                        381         9.965995\n",
       "Consumption (m³)                             0         0.000000\n",
       "Number of Available Data Points              0         0.000000\n",
       "تعداد مورد انتظار                            0         0.000000\n",
       "درصد اطلاعات موجود                           0         0.000000\n",
       "month                                        0         0.000000\n",
       "County                                       0         0.000000\n",
       "License Type                               807        21.109077\n",
       "Installation Date                            0         0.000000"
      ]
     },
     "metadata": {},
     "output_type": "display_data"
    },
    {
     "name": "stdout",
     "output_type": "stream",
     "text": [
      "=== Outliers Report ===\n"
     ]
    },
    {
     "data": {
      "application/vnd.microsoft.datawrangler.viewer.v0+json": {
       "columns": [
        {
         "name": "index",
         "rawType": "int64",
         "type": "integer"
        },
        {
         "name": "column",
         "rawType": "object",
         "type": "string"
        },
        {
         "name": "outliers",
         "rawType": "int64",
         "type": "integer"
        },
        {
         "name": "total_values",
         "rawType": "int64",
         "type": "integer"
        }
       ],
       "conversionMethod": "pd.DataFrame",
       "ref": "8e7d403d-e2be-4b0a-95f6-2f71caca5926",
       "rows": [
        [
         "0",
         "Flow Rate (l/s)",
         "82",
         "619"
        ],
        [
         "1",
         "Number of Negative Flows",
         "97",
         "3823"
        ],
        [
         "2",
         "Percentage of Negative Flows",
         "97",
         "3823"
        ],
        [
         "3",
         "Operating Hours (h)",
         "495",
         "3442"
        ],
        [
         "4",
         "Consumption (m³)",
         "499",
         "3823"
        ],
        [
         "5",
         "Number of Available Data Points",
         "256",
         "3823"
        ],
        [
         "6",
         "تعداد مورد انتظار",
         "0",
         "3823"
        ],
        [
         "7",
         "درصد اطلاعات موجود",
         "302",
         "3823"
        ]
       ],
       "shape": {
        "columns": 3,
        "rows": 8
       }
      },
      "text/html": [
       "<div>\n",
       "<style scoped>\n",
       "    .dataframe tbody tr th:only-of-type {\n",
       "        vertical-align: middle;\n",
       "    }\n",
       "\n",
       "    .dataframe tbody tr th {\n",
       "        vertical-align: top;\n",
       "    }\n",
       "\n",
       "    .dataframe thead th {\n",
       "        text-align: right;\n",
       "    }\n",
       "</style>\n",
       "<table border=\"1\" class=\"dataframe\">\n",
       "  <thead>\n",
       "    <tr style=\"text-align: right;\">\n",
       "      <th></th>\n",
       "      <th>column</th>\n",
       "      <th>outliers</th>\n",
       "      <th>total_values</th>\n",
       "    </tr>\n",
       "  </thead>\n",
       "  <tbody>\n",
       "    <tr>\n",
       "      <th>0</th>\n",
       "      <td>Flow Rate (l/s)</td>\n",
       "      <td>82</td>\n",
       "      <td>619</td>\n",
       "    </tr>\n",
       "    <tr>\n",
       "      <th>1</th>\n",
       "      <td>Number of Negative Flows</td>\n",
       "      <td>97</td>\n",
       "      <td>3823</td>\n",
       "    </tr>\n",
       "    <tr>\n",
       "      <th>2</th>\n",
       "      <td>Percentage of Negative Flows</td>\n",
       "      <td>97</td>\n",
       "      <td>3823</td>\n",
       "    </tr>\n",
       "    <tr>\n",
       "      <th>3</th>\n",
       "      <td>Operating Hours (h)</td>\n",
       "      <td>495</td>\n",
       "      <td>3442</td>\n",
       "    </tr>\n",
       "    <tr>\n",
       "      <th>4</th>\n",
       "      <td>Consumption (m³)</td>\n",
       "      <td>499</td>\n",
       "      <td>3823</td>\n",
       "    </tr>\n",
       "    <tr>\n",
       "      <th>5</th>\n",
       "      <td>Number of Available Data Points</td>\n",
       "      <td>256</td>\n",
       "      <td>3823</td>\n",
       "    </tr>\n",
       "    <tr>\n",
       "      <th>6</th>\n",
       "      <td>تعداد مورد انتظار</td>\n",
       "      <td>0</td>\n",
       "      <td>3823</td>\n",
       "    </tr>\n",
       "    <tr>\n",
       "      <th>7</th>\n",
       "      <td>درصد اطلاعات موجود</td>\n",
       "      <td>302</td>\n",
       "      <td>3823</td>\n",
       "    </tr>\n",
       "  </tbody>\n",
       "</table>\n",
       "</div>"
      ],
      "text/plain": [
       "                            column  outliers  total_values\n",
       "0                  Flow Rate (l/s)        82           619\n",
       "1         Number of Negative Flows        97          3823\n",
       "2     Percentage of Negative Flows        97          3823\n",
       "3              Operating Hours (h)       495          3442\n",
       "4                 Consumption (m³)       499          3823\n",
       "5  Number of Available Data Points       256          3823\n",
       "6                تعداد مورد انتظار         0          3823\n",
       "7               درصد اطلاعات موجود       302          3823"
      ]
     },
     "metadata": {},
     "output_type": "display_data"
    }
   ],
   "source": [
    "cleaner.report_anomalies()"
   ]
  },
  {
   "cell_type": "code",
   "execution_count": 1,
   "metadata": {},
   "outputs": [
    {
     "name": "stdout",
     "output_type": "stream",
     "text": [
      "Generating Heatmap: Customer Distribution (Count) by County and License Type\n"
     ]
    },
    {
     "ename": "NameError",
     "evalue": "name 'df_processed' is not defined",
     "output_type": "error",
     "traceback": [
      "\u001b[31m---------------------------------------------------------------------------\u001b[39m",
      "\u001b[31mNameError\u001b[39m                                 Traceback (most recent call last)",
      "\u001b[36mCell\u001b[39m\u001b[36m \u001b[39m\u001b[32mIn[1]\u001b[39m\u001b[32m, line 3\u001b[39m\n\u001b[32m      1\u001b[39m \u001b[38;5;66;03m# این نشان می‌دهد تمرکز انواع مختلف مشتریان در کدام شهرستان‌ها بیشتر است.\u001b[39;00m\n\u001b[32m      2\u001b[39m \u001b[38;5;28mprint\u001b[39m(\u001b[33m\"\u001b[39m\u001b[33mGenerating Heatmap: Customer Distribution (Count) by County and License Type\u001b[39m\u001b[33m\"\u001b[39m)\n\u001b[32m----> \u001b[39m\u001b[32m3\u001b[39m \u001b[38;5;28;01mif\u001b[39;00m \u001b[38;5;129;01mnot\u001b[39;00m \u001b[43mdf_processed\u001b[49m.empty:\n\u001b[32m      4\u001b[39m     customer_distribution = df_processed.groupby([\u001b[33m'\u001b[39m\u001b[33mCounty\u001b[39m\u001b[33m'\u001b[39m, \u001b[33m'\u001b[39m\u001b[33mLicense Type\u001b[39m\u001b[33m'\u001b[39m]).size().unstack(fill_value=\u001b[32m0\u001b[39m)\n\u001b[32m      6\u001b[39m     \u001b[38;5;66;03m# مرتب سازی بر اساس مجموع تعداد مشتریان برای هر شهرستان\u001b[39;00m\n",
      "\u001b[31mNameError\u001b[39m: name 'df_processed' is not defined"
     ]
    }
   ],
   "source": [
    "# این نشان می‌دهد تمرکز انواع مختلف مشتریان در کدام شهرستان‌ها بیشتر است.\n",
    "print(\"Generating Heatmap: Customer Distribution (Count) by County and License Type\")\n",
    "if not df_processed.empty:\n",
    "    customer_distribution = df_processed.groupby(['County', 'License Type']).size().unstack(fill_value=0)\n",
    "     \n",
    "    # مرتب سازی بر اساس مجموع تعداد مشتریان برای هر شهرستان\n",
    "    county_order_dist = customer_distribution.sum(axis=1).sort_values(ascending=False).index\n",
    "    customer_distribution = customer_distribution.reindex(county_order_dist)\n",
    "    # مرتب سازی بر اساس مجموع تعداد مشتریان برای هر نوع پروانه\n",
    "    license_order_dist = customer_distribution.sum(axis=0).sort_values(ascending=False).index\n",
    "    customer_distribution = customer_distribution[license_order_dist]\n",
    "\n",
    "    if not customer_distribution.empty:\n",
    "        fig11_1 = go.Figure(data=go.Heatmap(\n",
    "                           z=customer_distribution.values,\n",
    "                           x=customer_distribution.columns, # License Type\n",
    "                           y=customer_distribution.index,   # County\n",
    "                           colorscale='viridis', # یا هر مقیاس رنگی دیگر\n",
    "                           text=customer_distribution.values,\n",
    "                           texttemplate=\"%{text}\",\n",
    "                           hoverongaps=False))\n",
    "        fig11_1.update_layout(title='توزیع مشتریان بر اساس شهرستان و نوع پروانه',\n",
    "                             xaxis_title='نوع پروانه',\n",
    "                             yaxis_title='شهرستان',\n",
    "                             height=max(500, len(customer_distribution.index) * 30 + 200),\n",
    "                             title_x=0.5, font=dict(size=13))\n",
    "        fig11_1.show()\n",
    "else:\n",
    "    print(\"DataFrame خالی است، نمی‌توان نمودار توزیع مشتریان را ایجاد کرد.\")\n",
    "\n",
    "\n",
    "# --- 12. مقایسه درصد تغییر مصرف سالانه برای هر شهرستان (Bar Chart) ---\n",
    "# این نشان می‌دهد کدام شهرستان‌ها بیشترین رشد یا کاهش مصرف را نسبت به سال قبل داشته‌اند.\n",
    "print(\"Generating Bar Chart: Year-over-Year Consumption Percentage Change by County\")\n",
    "if 'Year' in df_processed.columns and df_processed['Year'].nunique() > 1:\n",
    "    yearly_consumption_county = df_processed.groupby(['County', 'Year'])['Consumption (m³)'].sum().unstack()\n",
    "    \n",
    "    # محاسبه درصد تغییر (فقط برای سال‌هایی که داده سال قبل هم موجود است)\n",
    "    # اطمینان از اینکه ستون‌های سال مرتب هستند\n",
    "    sorted_years = sorted(yearly_consumption_county.columns)\n",
    "    if len(sorted_years) >= 2:\n",
    "        # محاسبه درصد تغییر برای آخرین دو سال موجود\n",
    "        year_current = sorted_years[-1]\n",
    "        year_previous = sorted_years[-2]\n",
    "        \n",
    "        # فقط شهرستان‌هایی که در هر دو سال داده دارند\n",
    "        valid_counties_yoy = yearly_consumption_county[[year_previous, year_current]].dropna()\n",
    "\n",
    "        if not valid_counties_yoy.empty:\n",
    "            # جلوگیری از تقسیم بر صفر یا مقادیر خیلی کوچک در مخرج\n",
    "            # برای مقادیری که از منفی به مثبت یا برعکس تغییر کرده‌اند، درصد تغییر ممکن است گمراه‌کننده باشد.\n",
    "            # یک راه ساده، در نظر گرفتن تغییر مطلق و سپس محاسبه درصد نسبت به قدر مطلق سال قبل است.\n",
    "            # یا تمرکز بر مواردی که هر دو مثبت یا هر دو منفی هستند.\n",
    "            \n",
    "            # محاسبه ساده درصد تغییر:\n",
    "            # (Current - Previous) / abs(Previous) * 100\n",
    "            # مدیریت تقسیم بر صفر: اگر Previous صفر است، تغییر را بزرگ یا نامشخص در نظر می‌گیریم.\n",
    "            \n",
    "            # فیلتر کردن مواردی که مقدار سال قبل صفر یا خیلی نزدیک به صفر است\n",
    "            # یا هر دو منفی هستند (درصد تغییر برای مقادیر منفی می‌تواند تفسیر متفاوتی داشته باشد)\n",
    "            # برای سادگی، اینجا فقط مواردی که سال قبل مصرف غیر صفر (و ترجیحا مثبت) داشته‌اند را در نظر می‌گیریم\n",
    "            \n",
    "            # یک رویکرد ساده‌تر:\n",
    "            yoy_change = pd.DataFrame(index=valid_counties_yoy.index)\n",
    "            yoy_change[f'% تغییر {year_current} نسبت به {year_previous}'] = \\\n",
    "                ((valid_counties_yoy[year_current] - valid_counties_yoy[year_previous]) / \\\n",
    "                 valid_counties_yoy[year_previous].abs().replace(0, np.nan)) * 100 # جایگزینی صفر با NaN برای جلوگیری از خطا\n",
    "            \n",
    "            yoy_change.dropna(inplace=True) # حذف مواردی که نتوانستیم درصد تغییر را محاسبه کنیم\n",
    "            yoy_change = yoy_change.sort_values(by= str(yoy_change.columns[0]), ascending=False)\n",
    "            yoy_change['Formatted'] = yoy_change[yoy_change.columns[0]].apply(lambda x: f\"{x:+.1f}%\") # + برای نمایش علامت\n",
    "\n",
    "            if not yoy_change.empty:\n",
    "                fig12_1 = px.bar(yoy_change.reset_index(),\n",
    "                                 x='County',\n",
    "                                 y=yoy_change.columns[0],\n",
    "                                 text='Formatted',\n",
    "                                 color=yoy_change.columns[0], # رنگ بر اساس مقدار درصد تغییر\n",
    "                                 color_continuous_scale=px.colors.diverging.RdBu, # مقیاس رنگی قرمز-آبی\n",
    "                                 color_continuous_midpoint=0, # مرکز مقیاس رنگ روی صفر\n",
    "                                 title=f'درصد تغییر مجموع مصرف سالانه شهرستان‌ها ({year_current} نسبت به {year_previous})',\n",
    "                                 labels={'County': 'شهرستان', yoy_change.columns[0]: 'درصد تغییر مصرف'},\n",
    "                                 height=max(500, len(yoy_change) * 30 + 100))\n",
    "                fig12_1.update_traces(textposition='outside')\n",
    "                fig12_1.update_layout(xaxis_tickangle=-45, yaxis_title='درصد تغییر (%)', title_x=0.5, font=dict(size=13),\n",
    "                                      coloraxis_colorbar=dict(title=\"درصد تغییر\"))\n",
    "                fig12_1.show()\n",
    "            else:\n",
    "                print(f\"داده کافی برای محاسبه درصد تغییر مصرف سالانه شهرستان‌ها بین {year_previous} و {year_current} یافت نشد (ممکن است مقادیر سال قبل صفر باشند).\")\n",
    "        else:\n",
    "            print(\"تعداد سال‌های کافی (حداقل 2) برای محاسبه درصد تغییر سالانه مصرف شهرستان‌ها موجود نیست.\")\n",
    "    else:\n",
    "        print(\"تعداد سال‌های کافی برای مقایسه درصد تغییر سالانه موجود نیست.\")\n",
    "else:\n",
    "    print(\"ستون 'Year' برای تحلیل درصد تغییر مصرف سالانه در دسترس نیست.\")\n",
    "\n",
    "\n",
    "# --- 13. نمودار پراکندگی: میانگین مصرف ماهانه در مقابل تعداد ماه‌های با مصرف منفی (برای هر شهرستان) ---\n",
    "# این می‌تواند نشان دهد آیا شهرستان‌هایی با میانگین مصرف بالا، مشکلات بیشتری در ثبت داده (مصرف منفی) دارند یا خیر.\n",
    "print(\"Generating Scatter Plot: Avg Consumption vs. Count of Negative Months by County\")\n",
    "if not df_processed.empty:\n",
    "    avg_consumption_county = df_processed.groupby('County')['Consumption (m³)' ].mean().reset_index(name='میانگین مصرف ماهانه')\n",
    "    negative_months_county = df_processed[df_processed['Consumption (m³)' ]< 0].groupby('County').size().reset_index(name='تعداد ماه‌های منفی')\n",
    "    \n",
    "    # ادغام دو دیتافریم\n",
    "    if not negative_months_county.empty:\n",
    "         scatter_data_13 = pd.merge(avg_consumption_county, negative_months_county, on='County', how='left').fillna(0)\n",
    "    else: # اگر هیچ ماه منفی وجود ندارد\n",
    "        scatter_data_13 = avg_consumption_county.copy()\n",
    "        scatter_data_13['تعداد ماه‌های منفی'] = 0\n",
    "\n",
    "    if not scatter_data_13.empty:\n",
    "        scatter_data_13['Size'] = scatter_data_13['میانگین مصرف ماهانه'].abs() # اندازه بر اساس میانگین مصرف\n",
    "        scatter_data_13['Size'] = np.maximum(scatter_data_13['Size'], scatter_data_13['Size'].quantile(0.05) if not scatter_data_13.empty else 10) # حداقل اندازه\n",
    "\n",
    "        fig13_1 = px.scatter(scatter_data_13,\n",
    "                             x='تعداد ماه‌های منفی',\n",
    "                             y='میانگین مصرف ماهانه',\n",
    "                             size='Size',\n",
    "                             color='County', # یا یک متغیر دیگر اگر دارید\n",
    "                             hover_name='County',\n",
    "                             text='County',\n",
    "                             title='میانگین مصرف ماهانه در مقابل تعداد ماه‌های با مصرف منفی (شهرستان‌ها)',\n",
    "                             labels={'تعداد ماه‌های منفی': 'تعداد ماه‌های با ثبت مصرف منفی',\n",
    "                                     'میانگین مصرف ماهانه': 'میانگین مصرف ماهانه (متر مکعب)'},\n",
    "                             height=700,\n",
    "                             size_max=30) # محدود کردن حداکثر اندازه نقاط\n",
    "        fig13_1.update_traces(textposition='top center', textfont_size=9)\n",
    "        fig13_1.update_layout(title_x=0.5, font=dict(size=11))\n",
    "        fig13_1.show()\n",
    "else:\n",
    "    print(\"DataFrame خالی است، نمی‌توان نمودار پراکندگی میانگین مصرف و ماه‌های منفی را ایجاد کرد.\")\n",
    "\n",
    "\n",
    "# --- 14. نمودار میله‌ای پشته‌ای یا گروهی: ترکیب مصرف شهرستان‌ها بر اساس نوع پروانه برای یک سال خاص ---\n",
    "# این نشان می‌دهد در هر شهرستان، سهم انواع پروانه‌های مختلف از مصرف چگونه است.\n",
    "print(\"Generating Stacked/Grouped Bar Chart: County Consumption by License Type for a Specific Year\")\n",
    "if 'Year' in df_processed.columns:\n",
    "    available_years_bar = sorted(df_processed['Year'].unique())\n",
    "    if available_years_bar:\n",
    "        year_to_analyze_bar_stack = available_years_bar[-1] # آخرین سال\n",
    "        print(f\"Analyzing stacked bar chart for year: {year_to_analyze_bar_stack}\")\n",
    "        \n",
    "        df_year_bar_stack = df_processed[df_processed['Year'] == year_to_analyze_bar_stack]\n",
    "        consumption_by_county_license = df_year_bar_stack.groupby(['County', 'License Type'])['Consumption (m³)' ].sum().reset_index()\n",
    "        \n",
    "        # مرتب سازی شهرستان‌ها بر اساس مجموع مصرف کل\n",
    "        county_order_bar_stack = consumption_by_county_license.groupby('County')['Consumption (m³)' ].sum().sort_values(ascending=False).index\n",
    "        consumption_by_county_license['County'] = pd.Categorical(consumption_by_county_license['County'], categories=county_order_bar_stack, ordered=True)\n",
    "        consumption_by_county_license.sort_values(by='County', inplace=True)\n",
    "\n",
    "        if not consumption_by_county_license.empty:\n",
    "            fig14_1 = px.bar(consumption_by_county_license,\n",
    "                             x='County',\n",
    "                             y='Consumption (m³)',\n",
    "                             color='License Type',\n",
    "                             barmode='stack', # 'group' برای میله‌های گروهی، 'stack' برای پشته‌ای\n",
    "                             title=f'ترکیب مجموع مصرف شهرستان‌ها بر اساس نوع پروانه (سال {year_to_analyze_bar_stack})',\n",
    "                             labels={'Consumption (m³)': 'مجموع مصرف (متر مکعب)', 'County': 'شهرستان', 'License Type': 'نوع پروانه'},\n",
    "                             height=max(600, len(county_order_bar_stack) * 40 + 200))\n",
    "            fig14_1.update_layout(xaxis_tickangle=-45, title_x=0.5, font=dict(size=11),\n",
    "                                  legend_title_text='نوع پروانه',\n",
    "                                  yaxis_tickformat=\".2s\") # فرمت محور y\n",
    "            fig14_1.show()\n",
    "        else:\n",
    "            print(f\"داده‌ای برای نمودار ترکیب مصرف شهرستان‌ها برای سال {year_to_analyze_bar_stack} یافت نشد.\")\n",
    "    else:\n",
    "        print(\"هیچ سالی برای نمودار ترکیب مصرف شهرستان‌ها یافت نشد.\")\n",
    "else:\n",
    "    print(\"ستون 'Year' برای نمودار ترکیب مصرف شهرستان‌ها در دسترس نیست.\")\n",
    "\n",
    "\n",
    "# --- 15. تحلیل سهم مصارف منفی از کل مصرف (مطلق) برای هر شهرستان ---\n",
    "# این نشان می‌دهد در کدام شهرستان‌ها مصارف منفی بخش قابل توجهی از گردش مالی (مطلق) را تشکیل می‌دهند.\n",
    "print(\"Generating Bar Chart: Share of Negative Consumption from Total Absolute Flow by County\")\n",
    "if not df_processed.empty:\n",
    "    df_abs_flow = df_processed.copy()\n",
    "    df_abs_flow['Absolute Consumption'] = df_abs_flow['Consumption (m³)' ].abs()\n",
    "    df_abs_flow['Negative Consumption Value'] = df_abs_flow['Consumption (m³)' ].apply(lambda x: abs(x) if x < 0 else 0)\n",
    "\n",
    "    total_abs_flow_county = df_abs_flow.groupby('County')['Absolute Consumption'].sum()\n",
    "    total_neg_cons_county = df_abs_flow.groupby('County')['Negative Consumption Value'].sum()\n",
    "\n",
    "    share_neg_df = (total_neg_cons_county / total_abs_flow_county * 100).reset_index(name='درصد سهم مصرف منفی از کل گردش')\n",
    "    share_neg_df.replace([np.inf, -np.inf], np.nan, inplace=True) # مدیریت تقسیم بر صفر\n",
    "    share_neg_df.dropna(inplace=True)\n",
    "    share_neg_df = share_neg_df.sort_values(by='درصد سهم مصرف منفی از کل گردش', ascending=False)\n",
    "    share_neg_df['Formatted'] = share_neg_df['درصد سهم مصرف منفی از کل گردش'].apply(lambda x: f\"{x:.1f}%\")\n",
    "\n",
    "\n",
    "    if not share_neg_df.empty:\n",
    "        fig15_1 = px.bar(share_neg_df,\n",
    "                         x='County',\n",
    "                         y='درصد سهم مصرف منفی از کل گردش',\n",
    "                         text='Formatted',\n",
    "                         title='درصد سهم مصارف منفی از کل گردش حجمی (مطلق) برای هر شهرستان (کل دوره)',\n",
    "                         labels={'County': 'شهرستان', 'درصد سهم مصرف منفی از کل گردش': 'درصد سهم مصارف منفی (%)'},\n",
    "                         height=max(500, len(share_neg_df) * 30 + 200))\n",
    "        fig15_1.update_traces(textposition='outside')\n",
    "        fig15_1.update_layout(xaxis_tickangle=-45, yaxis_title='درصد (%)', title_x=0.5, font=dict(size=11))\n",
    "        fig15_1.show()\n",
    "    else:\n",
    "        print(\"داده کافی برای محاسبه سهم مصارف منفی یافت نشد.\")\n",
    "else:\n",
    "    print(\"DataFrame خالی است، نمی‌توان نمودار سهم مصارف منفی را ایجاد کرد.\")\n",
    "\n",
    "\n",
    "print(\"✅ All new business-oriented plots have been generated.\")"
   ]
  },
  {
   "cell_type": "code",
   "execution_count": null,
   "metadata": {},
   "outputs": [],
   "source": []
  },
  {
   "cell_type": "code",
   "execution_count": null,
   "metadata": {},
   "outputs": [],
   "source": []
  },
  {
   "cell_type": "code",
   "execution_count": null,
   "metadata": {},
   "outputs": [],
   "source": []
  },
  {
   "cell_type": "code",
   "execution_count": null,
   "metadata": {},
   "outputs": [],
   "source": []
  },
  {
   "cell_type": "code",
   "execution_count": null,
   "metadata": {},
   "outputs": [],
   "source": []
  },
  {
   "cell_type": "code",
   "execution_count": null,
   "metadata": {},
   "outputs": [],
   "source": []
  },
  {
   "cell_type": "code",
   "execution_count": null,
   "metadata": {},
   "outputs": [],
   "source": []
  }
 ],
 "metadata": {
  "kernelspec": {
   "display_name": "tf-gpu",
   "language": "python",
   "name": "python3"
  },
  "language_info": {
   "codemirror_mode": {
    "name": "ipython",
    "version": 3
   },
   "file_extension": ".py",
   "mimetype": "text/x-python",
   "name": "python",
   "nbconvert_exporter": "python",
   "pygments_lexer": "ipython3",
   "version": "3.12.9"
  }
 },
 "nbformat": 4,
 "nbformat_minor": 2
}
